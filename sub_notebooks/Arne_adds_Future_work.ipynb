{
 "cells": [
  {
   "cell_type": "code",
   "execution_count": null,
   "metadata": {},
   "outputs": [],
   "source": [
    "import pickle\n",
    "def save_model(model,name):\n",
    "    with open(MODEL_FOLDER + name + '.pkl', 'wb') as handle:\n",
    "        pickle.dump(model, handle, protocol=pickle.HIGHEST_PROTOCOL)\n",
    "\n",
    "def save_best_model(model,name):\n",
    "    with open(MODEL_FOLDER + name + '.pkl', 'wb') as handle:\n",
    "        pickle.dump(model.best_estimator_, handle, protocol=pickle.HIGHEST_PROTOCOL)\n",
    "        \n",
    "def open_model(name):\n",
    "    with open(MODEL_FOLDER + name + '.pkl', 'rb') as handle:\n",
    "        return pickle.load(handle)"
   ]
  },
  {
   "cell_type": "code",
   "execution_count": 39,
   "metadata": {},
   "outputs": [],
   "source": [
    "import pandas as pd\n",
    "import pickle\n",
    "import os\n"
   ]
  },
  {
   "cell_type": "code",
   "execution_count": 30,
   "metadata": {},
   "outputs": [],
   "source": [
    "def save_fig(sec_name, fig_name, tight_layout=True,dpi=600):\n",
    "    path = os.path.join(FIG_FOLDER , sec_name + '_'  + fig_name + \".png\")\n",
    "    print(\"Saving figure\", fig_name)\n",
    "    if tight_layout:\n",
    "        plt.tight_layout()\n",
    "    plt.savefig(path, format='png', dpi=dpi)"
   ]
  },
  {
   "cell_type": "code",
   "execution_count": 41,
   "metadata": {},
   "outputs": [],
   "source": [
    "DATA_FOLDER = '../data/'\n",
    "FIG_FOLDER = '../figures/'"
   ]
  },
  {
   "cell_type": "markdown",
   "metadata": {},
   "source": [
    "# Future Work\n",
    "\n",
    "* Impruve the model metric and tuning \n",
    "* test stacking models\n",
    "* test other resampling methodes\n",
    "* try to keep id connection through the process to calc the indvitual miss classifcation financial damage\n",
    "\n",
    "* develope a int. rate calc function based on model output and binary corss entropy\n",
    "\n",
    "* model save fucntion seems not work always improve"
   ]
  },
  {
   "cell_type": "markdown",
   "metadata": {},
   "source": [
    "# Conclusion\n"
   ]
  },
  {
   "cell_type": "markdown",
   "metadata": {},
   "source": [
    "# Summery"
   ]
  },
  {
   "cell_type": "code",
   "execution_count": 35,
   "metadata": {},
   "outputs": [
    {
     "data": {
      "text/html": [
       "<div>\n",
       "<style scoped>\n",
       "    .dataframe tbody tr th:only-of-type {\n",
       "        vertical-align: middle;\n",
       "    }\n",
       "\n",
       "    .dataframe tbody tr th {\n",
       "        vertical-align: top;\n",
       "    }\n",
       "\n",
       "    .dataframe thead th {\n",
       "        text-align: right;\n",
       "    }\n",
       "</style>\n",
       "<table border=\"1\" class=\"dataframe\">\n",
       "  <thead>\n",
       "    <tr style=\"text-align: right;\">\n",
       "      <th></th>\n",
       "      <th>log_reg_1</th>\n",
       "      <th>naive_bayes</th>\n",
       "      <th>bagging_lr</th>\n",
       "      <th>grad_boost</th>\n",
       "      <th>rfc_gridsearch</th>\n",
       "      <th>rfc</th>\n",
       "      <th>AdaLog</th>\n",
       "      <th>Ada_rfc</th>\n",
       "      <th>xgboos_1</th>\n",
       "      <th>xgboos_2</th>\n",
       "      <th>xgboost_strat</th>\n",
       "    </tr>\n",
       "  </thead>\n",
       "  <tbody>\n",
       "    <tr>\n",
       "      <th>base  recall</th>\n",
       "      <td>1.000000</td>\n",
       "      <td>1.000000</td>\n",
       "      <td>1.000000</td>\n",
       "      <td>1.000000</td>\n",
       "      <td>1.000000</td>\n",
       "      <td>1.000000</td>\n",
       "      <td>1.000000</td>\n",
       "      <td>1.000000</td>\n",
       "      <td>1.000000</td>\n",
       "      <td>1.000000</td>\n",
       "      <td>1.000000</td>\n",
       "    </tr>\n",
       "    <tr>\n",
       "      <th>test  recall</th>\n",
       "      <td>0.578555</td>\n",
       "      <td>0.960436</td>\n",
       "      <td>0.575688</td>\n",
       "      <td>0.502294</td>\n",
       "      <td>0.567087</td>\n",
       "      <td>0.502867</td>\n",
       "      <td>0.534977</td>\n",
       "      <td>0.577982</td>\n",
       "      <td>0.824541</td>\n",
       "      <td>0.586009</td>\n",
       "      <td>1.000000</td>\n",
       "    </tr>\n",
       "    <tr>\n",
       "      <th>train recall</th>\n",
       "      <td>0.574831</td>\n",
       "      <td>0.970320</td>\n",
       "      <td>0.579437</td>\n",
       "      <td>0.511168</td>\n",
       "      <td>0.622371</td>\n",
       "      <td>0.499957</td>\n",
       "      <td>0.518512</td>\n",
       "      <td>0.586824</td>\n",
       "      <td>0.853294</td>\n",
       "      <td>0.562967</td>\n",
       "      <td>1.000000</td>\n",
       "    </tr>\n",
       "    <tr>\n",
       "      <th>base  precision</th>\n",
       "      <td>0.150267</td>\n",
       "      <td>0.150267</td>\n",
       "      <td>0.150267</td>\n",
       "      <td>0.150267</td>\n",
       "      <td>0.150267</td>\n",
       "      <td>0.150267</td>\n",
       "      <td>0.150267</td>\n",
       "      <td>0.150267</td>\n",
       "      <td>0.150267</td>\n",
       "      <td>0.150267</td>\n",
       "      <td>0.150267</td>\n",
       "    </tr>\n",
       "    <tr>\n",
       "      <th>test  precision</th>\n",
       "      <td>0.232381</td>\n",
       "      <td>0.151983</td>\n",
       "      <td>0.231390</td>\n",
       "      <td>0.241522</td>\n",
       "      <td>0.237398</td>\n",
       "      <td>0.239225</td>\n",
       "      <td>0.197335</td>\n",
       "      <td>0.232902</td>\n",
       "      <td>0.189710</td>\n",
       "      <td>0.191853</td>\n",
       "      <td>0.150267</td>\n",
       "    </tr>\n",
       "  </tbody>\n",
       "</table>\n",
       "</div>"
      ],
      "text/plain": [
       "                 log_reg_1  naive_bayes  bagging_lr  grad_boost  \\\n",
       "base  recall      1.000000     1.000000    1.000000    1.000000   \n",
       "test  recall      0.578555     0.960436    0.575688    0.502294   \n",
       "train recall      0.574831     0.970320    0.579437    0.511168   \n",
       "base  precision   0.150267     0.150267    0.150267    0.150267   \n",
       "test  precision   0.232381     0.151983    0.231390    0.241522   \n",
       "\n",
       "                 rfc_gridsearch       rfc    AdaLog   Ada_rfc  xgboos_1  \\\n",
       "base  recall           1.000000  1.000000  1.000000  1.000000  1.000000   \n",
       "test  recall           0.567087  0.502867  0.534977  0.577982  0.824541   \n",
       "train recall           0.622371  0.499957  0.518512  0.586824  0.853294   \n",
       "base  precision        0.150267  0.150267  0.150267  0.150267  0.150267   \n",
       "test  precision        0.237398  0.239225  0.197335  0.232902  0.189710   \n",
       "\n",
       "                 xgboos_2  xgboost_strat  \n",
       "base  recall     1.000000       1.000000  \n",
       "test  recall     0.586009       1.000000  \n",
       "train recall     0.562967       1.000000  \n",
       "base  precision  0.150267       0.150267  \n",
       "test  precision  0.191853       0.150267  "
      ]
     },
     "execution_count": 35,
     "metadata": {},
     "output_type": "execute_result"
    }
   ],
   "source": [
    "df_model_comp = pd.read_pickle(DATA_FOLDER + 'model_evaluation_df_backup1.pkl')\n",
    "df_model_comp.head()"
   ]
  },
  {
   "cell_type": "code",
   "execution_count": 21,
   "metadata": {},
   "outputs": [
    {
     "data": {
      "text/plain": [
       "Index(['base  recall', 'test  recall', 'train recall', 'base  precision',\n",
       "       'test  precision', 'train precision', 'base  ROC-AUC', 'test  ROC-AUC',\n",
       "       'train ROC-AUC', 'base  f1', 'test  f1', 'train f1', 'base  fb=0.5',\n",
       "       'test  fb=0.5', 'train fb=0.5', 'base  accuracy', 'test  accuracy',\n",
       "       'train accuracy', 'base  log loss', 'test  log loss', 'train log loss',\n",
       "       'train rate truth', 'test  rate truth', 'train rate pred.',\n",
       "       'test  rate pred.', 'train entopy truth', 'test  entopy truth',\n",
       "       'train entopy pred.', 'test  entopy pred.', 'TN - good', 'TP - bad',\n",
       "       'FP - lost', 'FN - missed'],\n",
       "      dtype='object')"
      ]
     },
     "execution_count": 21,
     "metadata": {},
     "output_type": "execute_result"
    }
   ],
   "source": [
    "df_model_comp.head()\n",
    "df_model_comp.index\n"
   ]
  },
  {
   "cell_type": "code",
   "execution_count": 36,
   "metadata": {},
   "outputs": [
    {
     "data": {
      "text/html": [
       "<div>\n",
       "<style scoped>\n",
       "    .dataframe tbody tr th:only-of-type {\n",
       "        vertical-align: middle;\n",
       "    }\n",
       "\n",
       "    .dataframe tbody tr th {\n",
       "        vertical-align: top;\n",
       "    }\n",
       "\n",
       "    .dataframe thead th {\n",
       "        text-align: right;\n",
       "    }\n",
       "</style>\n",
       "<table border=\"1\" class=\"dataframe\">\n",
       "  <thead>\n",
       "    <tr style=\"text-align: right;\">\n",
       "      <th></th>\n",
       "      <th>log_reg_1</th>\n",
       "      <th>AdaLog</th>\n",
       "      <th>rfc_gridsearch</th>\n",
       "      <th>xgboos_1</th>\n",
       "    </tr>\n",
       "  </thead>\n",
       "  <tbody>\n",
       "    <tr>\n",
       "      <th>test  recall</th>\n",
       "      <td>0.578555</td>\n",
       "      <td>0.534977</td>\n",
       "      <td>0.567087</td>\n",
       "      <td>0.824541</td>\n",
       "    </tr>\n",
       "  </tbody>\n",
       "</table>\n",
       "</div>"
      ],
      "text/plain": [
       "              log_reg_1    AdaLog  rfc_gridsearch  xgboos_1\n",
       "test  recall   0.578555  0.534977        0.567087  0.824541"
      ]
     },
     "execution_count": 36,
     "metadata": {},
     "output_type": "execute_result"
    }
   ],
   "source": [
    "df_model_comp[['log_reg_1','AdaLog','rfc_gridsearch','xgboos_1']].loc[['test  recall']]"
   ]
  },
  {
   "cell_type": "code",
   "execution_count": 49,
   "metadata": {},
   "outputs": [
    {
     "name": "stdout",
     "output_type": "stream",
     "text": [
      "Saving figure test_recall\n"
     ]
    },
    {
     "data": {
      "image/png": "[encoded data removed]",
      "text/plain": [
       "<Figure size 432x288 with 1 Axes>"
      ]
     },
     "metadata": {
      "needs_background": "light"
     },
     "output_type": "display_data"
    },
    {
     "name": "stdout",
     "output_type": "stream",
     "text": [
      "Saving figure test_ROCAUC\n"
     ]
    },
    {
     "data": {
      "image/png": "[encoded data removed]",
      "text/plain": [
       "<Figure size 432x288 with 1 Axes>"
      ]
     },
     "metadata": {
      "needs_background": "light"
     },
     "output_type": "display_data"
    },
    {
     "name": "stdout",
     "output_type": "stream",
     "text": [
      "Saving figure member_loss\n"
     ]
    },
    {
     "data": {
      "image/png": "[encoded data removed]",
      "text/plain": [
       "<Figure size 432x288 with 1 Axes>"
      ]
     },
     "metadata": {
      "needs_background": "light"
     },
     "output_type": "display_data"
    }
   ],
   "source": [
    "import matplotlib.pyplot as plt\n",
    "d_temp = df_model_comp[['log_reg_1','AdaLog','rfc_gridsearch','xgboos_1','rfc_gridsearch']].loc[['test  recall' ,'FP - lost', 'test  ROC-AUC'],:]\n",
    "\n",
    "\n",
    "plt.bar(d_temp.columns, d_temp.loc[['test  recall'],:].squeeze())\n",
    "plt.title('recall')\n",
    "save_fig('model_select', 'test_recall', tight_layout=True,dpi=600)\n",
    "plt.show()\n",
    "plt.title('AUC')\n",
    "plt.bar(d_temp.columns, d_temp.loc[['test  ROC-AUC'],:].squeeze())\n",
    "#plt.plot([],[])\n",
    "save_fig('model_select', 'test_ROCAUC', tight_layout=True,dpi=600)\n",
    "plt.show()\n",
    "\n",
    "plt.bar(d_temp.columns, d_temp.loc[['FP - lost'],:].squeeze()/11606)\n",
    "save_fig('model_select', 'member_loss', tight_layout=True,dpi=600)"
   ]
  },
  {
   "cell_type": "code",
   "execution_count": 28,
   "metadata": {},
   "outputs": [
    {
     "data": {
      "text/plain": [
       "log_reg_1         0.578555\n",
       "AdaLog            0.534977\n",
       "rfc_gridsearch    0.567087\n",
       "Name: test  recall, dtype: float64"
      ]
     },
     "execution_count": 28,
     "metadata": {},
     "output_type": "execute_result"
    }
   ],
   "source": [
    "d_temp.loc[['test  recall'],:].squeeze()"
   ]
  },
  {
   "cell_type": "code",
   "execution_count": null,
   "metadata": {},
   "outputs": [],
   "source": []
  }
 ],
 "metadata": {
  "kernelspec": {
   "display_name": "Python [conda env:nf2] *",
   "language": "python",
   "name": "conda-env-nf2-py"
  },
  "language_info": {
   "codemirror_mode": {
    "name": "ipython",
    "version": 3
   },
   "file_extension": ".py",
   "mimetype": "text/x-python",
   "name": "python",
   "nbconvert_exporter": "python",
   "pygments_lexer": "ipython3",
   "version": "3.6.10"
  },
  "toc": {
   "base_numbering": 1,
   "nav_menu": {},
   "number_sections": true,
   "sideBar": true,
   "skip_h1_title": false,
   "title_cell": "Table of Contents",
   "title_sidebar": "Contents",
   "toc_cell": false,
   "toc_position": {},
   "toc_section_display": true,
   "toc_window_display": false
  }
 },
 "nbformat": 4,
 "nbformat_minor": 4
}
