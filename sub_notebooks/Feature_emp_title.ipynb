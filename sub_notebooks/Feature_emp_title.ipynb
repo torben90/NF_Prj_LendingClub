{
 "cells": [
  {
   "cell_type": "code",
   "execution_count": 1,
   "metadata": {},
   "outputs": [],
   "source": [
    "import pandas as pd\n",
    "import re"
   ]
  },
  {
   "cell_type": "code",
   "execution_count": 10,
   "metadata": {},
   "outputs": [],
   "source": [
    "df = pd.read_pickle('../data/clean_pass_01p1.pkl')\n",
    "df_company = pd.read_csv('../data/forbes2013.csv') # https://www.kaggle.com/ash316/forbes-top-2000-companies"
   ]
  },
  {
   "cell_type": "code",
   "execution_count": 3,
   "metadata": {},
   "outputs": [],
   "source": [
    "df['emp_ident'] = df['emp_title']"
   ]
  },
  {
   "cell_type": "code",
   "execution_count": 4,
   "metadata": {},
   "outputs": [],
   "source": [
    "KNOWN_COMPANY_MARKER = 'known_company'\n",
    "\n",
    "def title_id_known_company(emp_title_entry):\n",
    "    try:\n",
    "        founds = df_company.Company.str.contains(emp_title_entry).value_counts()\n",
    "    except:\n",
    "        return emp_title_entry\n",
    "    \n",
    "    if len(founds)>1:\n",
    "         return KNOWN_COMPANY_MARKER\n",
    "    else:\n",
    "        return emp_title_entry"
   ]
  },
  {
   "cell_type": "code",
   "execution_count": 5,
   "metadata": {},
   "outputs": [],
   "source": [
    "def title_to_ident(emp_title_entry):\n",
    "    if emp_title_entry == KNOWN_COMPANY_MARKER:\n",
    "        return emp_title_entry\n",
    "    elif (re.search('Army|Military',emp_title_entry ,re.I) is None) == False :\n",
    "        return 'army'\n",
    "    elif (re.search('self',emp_title_entry ,re.I) is None) == False :\n",
    "        return 'self_emp'\n",
    "    elif (re.search('city|state|public|district|school|schools|Government|Sheriff|county|civil|police|National Guard',emp_title_entry ,re.I) is None) == False :\n",
    "        return 'puplic'\n",
    "    elif (re.search('bank',emp_title_entry ,re.I) is None) == False :\n",
    "        return 'bank'\n",
    "    else:\n",
    "        return 'unknown' \n",
    "    "
   ]
  },
  {
   "cell_type": "code",
   "execution_count": 6,
   "metadata": {},
   "outputs": [
    {
     "name": "stderr",
     "output_type": "stream",
     "text": [
      "/Users/arnescheunemann/opt/anaconda3/envs/nf2/lib/python3.6/site-packages/ipykernel_launcher.py:5: UserWarning: This pattern has match groups. To actually get the groups, use str.extract.\n",
      "  \"\"\"\n"
     ]
    }
   ],
   "source": [
    "df['emp_ident'] = df['emp_ident'].apply(lambda emp_title: title_id_known_company(emp_title))\n",
    "#df['emp_ident'].value_counts()"
   ]
  },
  {
   "cell_type": "code",
   "execution_count": 7,
   "metadata": {},
   "outputs": [
    {
     "data": {
      "text/plain": [
       "unknown          31255\n",
       "puplic            3696\n",
       "known_company     2464\n",
       "bank               696\n",
       "army               476\n",
       "self_emp           231\n",
       "Name: emp_ident, dtype: int64"
      ]
     },
     "execution_count": 7,
     "metadata": {},
     "output_type": "execute_result"
    }
   ],
   "source": [
    "df['emp_ident'] = df['emp_ident'].apply(lambda emp_title: title_to_ident(emp_title))\n",
    "#df['emp_ident'].value_counts()"
   ]
  },
  {
   "cell_type": "code",
   "execution_count": 8,
   "metadata": {},
   "outputs": [
    {
     "data": {
      "text/plain": [
       "unknown          31255\n",
       "puplic            3696\n",
       "known_company     2464\n",
       "bank               696\n",
       "army               476\n",
       "self_emp           231\n",
       "Name: emp_ident, dtype: int64"
      ]
     },
     "execution_count": 8,
     "metadata": {},
     "output_type": "execute_result"
    }
   ],
   "source": [
    "df['emp_ident'].value_counts()"
   ]
  },
  {
   "cell_type": "code",
   "execution_count": 9,
   "metadata": {},
   "outputs": [],
   "source": [
    "df.to_pickle('../data/clean_pass_01p1_PFemp_ident.pkl')"
   ]
  }
 ],
 "metadata": {
  "kernelspec": {
   "display_name": "Python [conda env:nf2] *",
   "language": "python",
   "name": "conda-env-nf2-py"
  },
  "language_info": {
   "codemirror_mode": {
    "name": "ipython",
    "version": 3
   },
   "file_extension": ".py",
   "mimetype": "text/x-python",
   "name": "python",
   "nbconvert_exporter": "python",
   "pygments_lexer": "ipython3",
   "version": "3.6.10"
  },
  "toc": {
   "base_numbering": 1,
   "nav_menu": {},
   "number_sections": true,
   "sideBar": true,
   "skip_h1_title": false,
   "title_cell": "Table of Contents",
   "title_sidebar": "Contents",
   "toc_cell": false,
   "toc_position": {},
   "toc_section_display": true,
   "toc_window_display": false
  }
 },
 "nbformat": 4,
 "nbformat_minor": 4
}
