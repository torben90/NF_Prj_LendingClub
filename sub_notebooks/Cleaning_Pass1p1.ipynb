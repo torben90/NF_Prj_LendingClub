{
 "cells": [
  {
   "cell_type": "code",
   "execution_count": 1,
   "metadata": {},
   "outputs": [],
   "source": [
    "import pandas as pd\n",
    "import re"
   ]
  },
  {
   "cell_type": "code",
   "execution_count": 2,
   "metadata": {},
   "outputs": [
    {
     "name": "stderr",
     "output_type": "stream",
     "text": [
      "/Users/arnescheunemann/opt/anaconda3/envs/nf2/lib/python3.6/site-packages/IPython/core/interactiveshell.py:3063: DtypeWarning: Columns (0) have mixed types. Specify dtype option on import or set low_memory=False.\n",
      "  interactivity=interactivity, compiler=compiler, result=result)\n"
     ]
    }
   ],
   "source": [
    "df = pd.read_csv('../data/loans_2007.csv')\n",
    "OrgRowCount = df.shape[0]\n",
    "OrgColCount = df.shape[1]\n"
   ]
  },
  {
   "cell_type": "markdown",
   "metadata": {},
   "source": [
    "# NA reduction simple clean"
   ]
  },
  {
   "cell_type": "code",
   "execution_count": 3,
   "metadata": {},
   "outputs": [],
   "source": [
    "# drop dublicated last rows seem to be sum of above\n",
    "df = df.drop_duplicates()"
   ]
  },
  {
   "cell_type": "code",
   "execution_count": 4,
   "metadata": {},
   "outputs": [],
   "source": [
    "## there seems to 3 with many empty cells so this is fine\n",
    "df = df.dropna(thresh=50,axis=0)"
   ]
  },
  {
   "cell_type": "code",
   "execution_count": 5,
   "metadata": {},
   "outputs": [],
   "source": [
    "# revol_util kill some missing and transform to float\n",
    "df = df[~df.revol_util.isna()]\n",
    "df.revol_util = df.revol_util.apply(lambda x: str(x).replace('%','')).astype('float64')/100"
   ]
  },
  {
   "cell_type": "code",
   "execution_count": 6,
   "metadata": {},
   "outputs": [],
   "source": [
    "# emp_length transfrom form string to number (<1 years ,  years, 10+ years etc)\n",
    "def Trans_empValue(s):\n",
    "    if type(s) is float:\n",
    "        return 0.\n",
    "   \n",
    "    if re.search('\\<',s):\n",
    "        return 0.5\n",
    "    else:\n",
    "        return float(re.search('\\d+',s).group())\n",
    "\n",
    "df.emp_length = df.emp_length.apply(lambda x: Trans_empValue(x))"
   ]
  },
  {
   "cell_type": "code",
   "execution_count": 7,
   "metadata": {},
   "outputs": [],
   "source": [
    "# intrest rate seems to be string with %\n",
    "df.int_rate = df.int_rate.apply(lambda x: str(x).replace('%','')).astype('float64')/100\n",
    "# more to fix"
   ]
  },
  {
   "cell_type": "code",
   "execution_count": 8,
   "metadata": {},
   "outputs": [
    {
     "data": {
      "text/plain": [
       "0    40477\n",
       "1     1853\n",
       "Name: pub_rec_bankruptcies, dtype: int64"
      ]
     },
     "execution_count": 8,
     "metadata": {},
     "output_type": "execute_result"
    }
   ],
   "source": [
    "# pub_rec_bankruptcies - assume no value is none \n",
    "df.pub_rec_bankruptcies = df.pub_rec_bankruptcies.fillna(0.0).astype('int32')\n",
    "df.pub_rec_bankruptcies = df.pub_rec_bankruptcies.apply(lambda x: 1 if x > 0 else 0)\n",
    "df.pub_rec_bankruptcies.value_counts()"
   ]
  },
  {
   "cell_type": "code",
   "execution_count": 9,
   "metadata": {},
   "outputs": [],
   "source": [
    "# title could be filtered by keyword debt etc.. but catgoriy of purpose do better job\n",
    "# thereby drop it\n",
    "df = df.drop(['title'], axis=1)"
   ]
  },
  {
   "cell_type": "code",
   "execution_count": 10,
   "metadata": {},
   "outputs": [],
   "source": [
    "## last_credit_pull_d kill the view that have no entrys \n",
    "df = df[~df.last_credit_pull_d.isna()]\n",
    "\n",
    "## "
   ]
  },
  {
   "cell_type": "code",
   "execution_count": 11,
   "metadata": {},
   "outputs": [
    {
     "data": {
      "text/plain": [
       "Charged Off                                            62\n",
       "Does not meet the credit policy. Status:Charged Off    12\n",
       "Name: loan_status, dtype: int64"
      ]
     },
     "metadata": {},
     "output_type": "display_data"
    }
   ],
   "source": [
    "# last_pymnt_d thouse without value have meaning - start feature engineering here to ever payed\n",
    "display(df[df.last_pymnt_d.isna()].loan_status.value_counts())\n",
    "df['has_made_pymnt'] = df.last_pymnt_d.apply(lambda x: 1 if x else 0)\n",
    "df = df.drop(['last_pymnt_d'],axis=1)\n"
   ]
  },
  {
   "cell_type": "code",
   "execution_count": 12,
   "metadata": {},
   "outputs": [],
   "source": [
    "# emp_title -- simple way is at least extract if self employed keyword ,self,retired,NAN, all others - army etc...\n",
    "#df.emp_title \n",
    "#df[df.emp_length == 0].emp_title.value_counts() #nunique()\n",
    "# !! for now drop !! \n",
    "#df = df.drop(['emp_title'],axis=1)"
   ]
  },
  {
   "cell_type": "code",
   "execution_count": 13,
   "metadata": {
    "scrolled": true
   },
   "outputs": [
    {
     "data": {
      "text/plain": [
       "id                               0\n",
       "member_id                        0\n",
       "loan_amnt                        0\n",
       "funded_amnt                      0\n",
       "funded_amnt_inv                  0\n",
       "term                             0\n",
       "int_rate                         0\n",
       "installment                      0\n",
       "grade                            0\n",
       "sub_grade                        0\n",
       "emp_title                     2590\n",
       "emp_length                       0\n",
       "home_ownership                   0\n",
       "annual_inc                       0\n",
       "verification_status              0\n",
       "issue_d                          0\n",
       "loan_status                      0\n",
       "pymnt_plan                       0\n",
       "purpose                          0\n",
       "zip_code                         0\n",
       "addr_state                       0\n",
       "dti                              0\n",
       "delinq_2yrs                      0\n",
       "earliest_cr_line                 0\n",
       "inq_last_6mths                   0\n",
       "open_acc                         0\n",
       "pub_rec                          0\n",
       "revol_bal                        0\n",
       "revol_util                       0\n",
       "total_acc                        0\n",
       "initial_list_status              0\n",
       "out_prncp                        0\n",
       "out_prncp_inv                    0\n",
       "total_pymnt                      0\n",
       "total_pymnt_inv                  0\n",
       "total_rec_prncp                  0\n",
       "total_rec_int                    0\n",
       "total_rec_late_fee               0\n",
       "recoveries                       0\n",
       "collection_recovery_fee          0\n",
       "last_pymnt_amnt                  0\n",
       "last_credit_pull_d               0\n",
       "collections_12_mths_ex_med       5\n",
       "policy_code                      0\n",
       "application_type                 0\n",
       "acc_now_delinq                   0\n",
       "chargeoff_within_12_mths         5\n",
       "delinq_amnt                      0\n",
       "pub_rec_bankruptcies             0\n",
       "tax_liens                        0\n",
       "has_made_pymnt                   0\n",
       "dtype: int64"
      ]
     },
     "execution_count": 13,
     "metadata": {},
     "output_type": "execute_result"
    }
   ],
   "source": [
    "df.isnull().sum()"
   ]
  },
  {
   "cell_type": "code",
   "execution_count": 14,
   "metadata": {},
   "outputs": [
    {
     "data": {
      "text/plain": [
       "(42329, 51)"
      ]
     },
     "execution_count": 14,
     "metadata": {},
     "output_type": "execute_result"
    }
   ],
   "source": [
    "df.shape"
   ]
  },
  {
   "cell_type": "markdown",
   "metadata": {},
   "source": [
    "# Droping more features"
   ]
  },
  {
   "cell_type": "code",
   "execution_count": 15,
   "metadata": {
    "scrolled": true
   },
   "outputs": [],
   "source": [
    "# collections_12_mths_ex_med and chargeoff_within_12_mths drop the column all are the same = 0.0\n",
    "df = df.drop(['chargeoff_within_12_mths', 'collections_12_mths_ex_med'], axis=1)\n"
   ]
  },
  {
   "cell_type": "code",
   "execution_count": 16,
   "metadata": {},
   "outputs": [],
   "source": [
    "# application_type - only indvitual in the data can be droped\n",
    "df = df.drop(['application_type'],axis=1)"
   ]
  },
  {
   "cell_type": "code",
   "execution_count": 17,
   "metadata": {},
   "outputs": [],
   "source": [
    "# no info \n",
    "df = df.drop(['initial_list_status'],axis=1)\n"
   ]
  },
  {
   "cell_type": "code",
   "execution_count": 18,
   "metadata": {},
   "outputs": [],
   "source": [
    "# no info in the data \n",
    "df = df.drop(['acc_now_delinq'],axis=1)"
   ]
  },
  {
   "cell_type": "code",
   "execution_count": 19,
   "metadata": {},
   "outputs": [],
   "source": [
    "# not much info only 2 \n",
    "df = df.drop(['delinq_amnt'],axis=1)"
   ]
  },
  {
   "cell_type": "code",
   "execution_count": 20,
   "metadata": {},
   "outputs": [],
   "source": [
    "# only one value diffrent\n",
    "df = df.drop(['tax_liens'],axis=1)"
   ]
  },
  {
   "cell_type": "code",
   "execution_count": 21,
   "metadata": {},
   "outputs": [],
   "source": [
    "# all have no only one is yes\n",
    "df = df.drop(['pymnt_plan'],axis=1)"
   ]
  },
  {
   "cell_type": "code",
   "execution_count": 22,
   "metadata": {},
   "outputs": [],
   "source": [
    "# all are 1\n",
    "df = df.drop(['policy_code'],axis=1)"
   ]
  },
  {
   "cell_type": "code",
   "execution_count": 23,
   "metadata": {},
   "outputs": [],
   "source": [
    "# TODO check grad and sub grade seem to over info!"
   ]
  },
  {
   "cell_type": "code",
   "execution_count": 24,
   "metadata": {},
   "outputs": [
    {
     "data": {
      "text/plain": [
       "(42329, 42)"
      ]
     },
     "execution_count": 24,
     "metadata": {},
     "output_type": "execute_result"
    }
   ],
   "source": [
    "df.shape"
   ]
  },
  {
   "cell_type": "markdown",
   "metadata": {},
   "source": [
    "# Dublication check and kill"
   ]
  },
  {
   "cell_type": "code",
   "execution_count": 25,
   "metadata": {},
   "outputs": [
    {
     "data": {
      "text/plain": [
       "False    42329\n",
       "Name: id, dtype: int64"
      ]
     },
     "execution_count": 25,
     "metadata": {},
     "output_type": "execute_result"
    }
   ],
   "source": [
    "df.id.duplicated().value_counts()"
   ]
  },
  {
   "cell_type": "code",
   "execution_count": 26,
   "metadata": {},
   "outputs": [
    {
     "data": {
      "text/plain": [
       "False    42329\n",
       "Name: member_id, dtype: int64"
      ]
     },
     "execution_count": 26,
     "metadata": {},
     "output_type": "execute_result"
    }
   ],
   "source": [
    "df.member_id.duplicated().value_counts()"
   ]
  },
  {
   "cell_type": "code",
   "execution_count": 27,
   "metadata": {},
   "outputs": [],
   "source": [
    "## since no doubles drop them as there are keys \n",
    "df = df.drop(['id','member_id'],axis=1)"
   ]
  },
  {
   "cell_type": "markdown",
   "metadata": {},
   "source": [
    "# Types - filter real categoricals..."
   ]
  },
  {
   "cell_type": "code",
   "execution_count": 28,
   "metadata": {},
   "outputs": [
    {
     "name": "stdout",
     "output_type": "stream",
     "text": [
      "<class 'pandas.core.frame.DataFrame'>\n",
      "Int64Index: 42329 entries, 0 to 42474\n",
      "Data columns (total 13 columns):\n",
      "term                   42329 non-null object\n",
      "grade                  42329 non-null object\n",
      "sub_grade              42329 non-null object\n",
      "emp_title              39739 non-null object\n",
      "home_ownership         42329 non-null object\n",
      "verification_status    42329 non-null object\n",
      "issue_d                42329 non-null object\n",
      "loan_status            42329 non-null object\n",
      "purpose                42329 non-null object\n",
      "zip_code               42329 non-null object\n",
      "addr_state             42329 non-null object\n",
      "earliest_cr_line       42329 non-null object\n",
      "last_credit_pull_d     42329 non-null object\n",
      "dtypes: object(13)\n",
      "memory usage: 4.5+ MB\n"
     ]
    }
   ],
   "source": [
    "df.select_dtypes('object').info()"
   ]
  },
  {
   "cell_type": "code",
   "execution_count": 29,
   "metadata": {},
   "outputs": [
    {
     "data": {
      "text/plain": [
       "array([' 36 months', ' 60 months'], dtype=object)"
      ]
     },
     "execution_count": 29,
     "metadata": {},
     "output_type": "execute_result"
    }
   ],
   "source": [
    "## can be used as is wehn transformed to dummy\n",
    "df.term.unique() #-> LabelEncoder or dummy"
   ]
  },
  {
   "cell_type": "code",
   "execution_count": 30,
   "metadata": {},
   "outputs": [],
   "source": [
    "## kill spaces to access the dummy better later ...\n",
    "df.term = df.term.apply(lambda x: str(x).replace(' ', '').replace('months','m'))"
   ]
  },
  {
   "cell_type": "code",
   "execution_count": 31,
   "metadata": {},
   "outputs": [],
   "source": [
    "# only for distance of payment possible to use but not of value for a new customer - > drop\n",
    "#df = df.drop(['issue_d'],axis=1)"
   ]
  },
  {
   "cell_type": "code",
   "execution_count": 32,
   "metadata": {},
   "outputs": [
    {
     "name": "stdout",
     "output_type": "stream",
     "text": [
      "RENT        20073\n",
      "MORTGAGE    18890\n",
      "OWN          3230\n",
      "OTHER         134\n",
      "NONE            2\n",
      "Name: home_ownership, dtype: int64\n"
     ]
    }
   ],
   "source": [
    "print(df.home_ownership.value_counts())\n",
    "# combine NONE and OTHER\n",
    "df.home_ownership = df.home_ownership.apply(lambda x: 'OTHER' if x=='NONE' else x)\n"
   ]
  },
  {
   "cell_type": "code",
   "execution_count": 33,
   "metadata": {},
   "outputs": [
    {
     "name": "stdout",
     "output_type": "stream",
     "text": [
      "RENT        20073\n",
      "MORTGAGE    18890\n",
      "OWN          3230\n",
      "OTHER         136\n",
      "Name: home_ownership, dtype: int64\n"
     ]
    }
   ],
   "source": [
    "print(df.home_ownership.value_counts()) ## use with dummy "
   ]
  },
  {
   "cell_type": "code",
   "execution_count": 34,
   "metadata": {},
   "outputs": [],
   "source": [
    "## keep but just use state as predictor initialy\n",
    "#df.addr_state\n",
    "#df.zip_code"
   ]
  },
  {
   "cell_type": "code",
   "execution_count": 35,
   "metadata": {},
   "outputs": [],
   "source": [
    "#earliest_cr_line --- could be transformned to pseudo age or crdit expirence\n",
    "Today = 'Dec-2011'\n",
    "\n",
    "#df.earliest_cr_line.head()\n",
    "# push to feature engineering secound level model payment behavior etc."
   ]
  },
  {
   "cell_type": "code",
   "execution_count": 36,
   "metadata": {},
   "outputs": [
    {
     "data": {
      "text/plain": [
       "Jun-2016    12463\n",
       "Mar-2016     1112\n",
       "Apr-2016      908\n",
       "Feb-2013      880\n",
       "May-2016      766\n",
       "Feb-2016      739\n",
       "Jan-2016      661\n",
       "Dec-2015      654\n",
       "Mar-2013      610\n",
       "Dec-2014      567\n",
       "Mar-2014      566\n",
       "Jul-2014      563\n",
       "Sep-2014      562\n",
       "Jul-2015      546\n",
       "Feb-2014      541\n",
       "Sep-2015      531\n",
       "Jan-2014      528\n",
       "Aug-2014      528\n",
       "Oct-2014      528\n",
       "Nov-2015      516\n",
       "Oct-2015      512\n",
       "Apr-2014      504\n",
       "Nov-2014      499\n",
       "Nov-2013      490\n",
       "May-2014      476\n",
       "May-2013      470\n",
       "Jun-2014      468\n",
       "Jan-2015      447\n",
       "Apr-2013      445\n",
       "Aug-2015      435\n",
       "            ...  \n",
       "Aug-2010       60\n",
       "Jun-2010       52\n",
       "Oct-2009       50\n",
       "Nov-2009       48\n",
       "Jan-2013       38\n",
       "Jan-2009       36\n",
       "Jan-2010       34\n",
       "Aug-2009       30\n",
       "Apr-2009       24\n",
       "Jul-2009       21\n",
       "Feb-2009       20\n",
       "Sep-2009       19\n",
       "Jun-2009       18\n",
       "Mar-2009       17\n",
       "Aug-2008       15\n",
       "May-2009       14\n",
       "Oct-2008       13\n",
       "Aug-2007       13\n",
       "Sep-2008        9\n",
       "Mar-2008        8\n",
       "Dec-2008        7\n",
       "Sep-2007        5\n",
       "Jan-2008        4\n",
       "Dec-2007        3\n",
       "Nov-2007        3\n",
       "Feb-2008        3\n",
       "Oct-2007        3\n",
       "Jun-2008        1\n",
       "Jul-2008        1\n",
       "May-2008        1\n",
       "Name: last_credit_pull_d, Length: 105, dtype: int64"
      ]
     },
     "execution_count": 36,
     "metadata": {},
     "output_type": "execute_result"
    }
   ],
   "source": [
    "df.last_credit_pull_d.value_counts() # ????!?!? # is not so usfull for inital customer eval"
   ]
  },
  {
   "cell_type": "code",
   "execution_count": 37,
   "metadata": {},
   "outputs": [
    {
     "name": "stdout",
     "output_type": "stream",
     "text": [
      "<class 'pandas.core.frame.DataFrame'>\n",
      "Int64Index: 42329 entries, 0 to 42474\n",
      "Data columns (total 25 columns):\n",
      "loan_amnt                  42329 non-null float64\n",
      "funded_amnt                42329 non-null float64\n",
      "funded_amnt_inv            42329 non-null float64\n",
      "int_rate                   42329 non-null float64\n",
      "installment                42329 non-null float64\n",
      "emp_length                 42329 non-null float64\n",
      "annual_inc                 42329 non-null float64\n",
      "dti                        42329 non-null float64\n",
      "delinq_2yrs                42329 non-null float64\n",
      "inq_last_6mths             42329 non-null float64\n",
      "open_acc                   42329 non-null float64\n",
      "pub_rec                    42329 non-null float64\n",
      "revol_bal                  42329 non-null float64\n",
      "revol_util                 42329 non-null float64\n",
      "total_acc                  42329 non-null float64\n",
      "out_prncp                  42329 non-null float64\n",
      "out_prncp_inv              42329 non-null float64\n",
      "total_pymnt                42329 non-null float64\n",
      "total_pymnt_inv            42329 non-null float64\n",
      "total_rec_prncp            42329 non-null float64\n",
      "total_rec_int              42329 non-null float64\n",
      "total_rec_late_fee         42329 non-null float64\n",
      "recoveries                 42329 non-null float64\n",
      "collection_recovery_fee    42329 non-null float64\n",
      "last_pymnt_amnt            42329 non-null float64\n",
      "dtypes: float64(25)\n",
      "memory usage: 8.4 MB\n"
     ]
    }
   ],
   "source": [
    "df.select_dtypes('float').info()"
   ]
  },
  {
   "cell_type": "code",
   "execution_count": 38,
   "metadata": {},
   "outputs": [
    {
     "name": "stdout",
     "output_type": "stream",
     "text": [
      "<class 'pandas.core.frame.DataFrame'>\n",
      "Int64Index: 42329 entries, 0 to 42474\n",
      "Data columns (total 2 columns):\n",
      "pub_rec_bankruptcies    42329 non-null int64\n",
      "has_made_pymnt          42329 non-null int64\n",
      "dtypes: int64(2)\n",
      "memory usage: 992.1 KB\n"
     ]
    }
   ],
   "source": [
    "df.select_dtypes('int').info()"
   ]
  },
  {
   "cell_type": "markdown",
   "metadata": {},
   "source": [
    "# Target def and pseudo Target stashing "
   ]
  },
  {
   "cell_type": "markdown",
   "metadata": {},
   "source": [
    "## T1\n",
    "The purpose of the analysis is to reduce defaults , \n",
    "\n",
    "improve profitability and help the \n",
    "company and investors determine interest rates. --- > Regression on intrest rate or EDA to intrest rate"
   ]
  },
  {
   "cell_type": "markdown",
   "metadata": {},
   "source": [
    "## T2\n",
    "reduce defaults - We will use machine learning models to analyze credit risk as a binary classification problem.\n"
   ]
  },
  {
   "cell_type": "code",
   "execution_count": 39,
   "metadata": {},
   "outputs": [],
   "source": [
    "# grade and sub grade\n",
    "# maybe combine to one feature\n",
    "## strongly conected to int_rate\n"
   ]
  },
  {
   "cell_type": "code",
   "execution_count": 40,
   "metadata": {},
   "outputs": [],
   "source": [
    "#policy_code seems has not value"
   ]
  },
  {
   "cell_type": "code",
   "execution_count": 41,
   "metadata": {},
   "outputs": [
    {
     "data": {
      "text/plain": [
       "Fully Paid                                             33052\n",
       "Charged Off                                             5606\n",
       "Does not meet the credit policy. Status:Fully Paid      1917\n",
       "Current                                                  961\n",
       "Does not meet the credit policy. Status:Charged Off      738\n",
       "Late (31-120 days)                                        24\n",
       "In Grace Period                                           20\n",
       "Late (16-30 days)                                          8\n",
       "Default                                                    3\n",
       "Name: loan_status, dtype: int64"
      ]
     },
     "execution_count": 41,
     "metadata": {},
     "output_type": "execute_result"
    }
   ],
   "source": [
    "df.loan_status.value_counts()"
   ]
  },
  {
   "cell_type": "code",
   "execution_count": 42,
   "metadata": {},
   "outputs": [],
   "source": [
    "# Fully Paid - postive\n",
    "# Does not meet the credit policy. Status:Fully Paid - postive based on compare on annul income\n",
    "\n",
    "#Current - (half postive not evaluated therfor drop)\n",
    "\n",
    "# Charged off - negative\n",
    "# Does not meet the credit policy. Status:Charged Off - negative\n",
    "\n",
    "# Late (31-120 days) - negative \n",
    "\n",
    "# Late (16-30 days) - (half postive not evaluated therfor drop)\n",
    "# In Grace Period - (half postive not evaluated therfor drop)\n",
    "\n",
    "# Default - negative\n",
    "\n"
   ]
  },
  {
   "cell_type": "code",
   "execution_count": 43,
   "metadata": {},
   "outputs": [
    {
     "data": {
      "text/plain": [
       "(38818, 41)"
      ]
     },
     "execution_count": 43,
     "metadata": {},
     "output_type": "execute_result"
    }
   ],
   "source": [
    "def DefTargetFrom_loan_Status(s):\n",
    "    if s=='Fully Paid':\n",
    "        return 1\n",
    "    elif s=='Does not meet the credit policy. Status:Fully Paid':\n",
    "        return 1\n",
    "    elif s=='Charged Off':\n",
    "        return 0\n",
    "    elif s=='Does not meet the credit policy. Status:Charged Off':\n",
    "        return 0\n",
    "    elif s=='Late (31-120 days)':\n",
    "        return 0\n",
    "    elif s=='Default':\n",
    "        return 0\n",
    "    else:\n",
    "        return None\n",
    "\n",
    "df['target'] = df.loan_status.apply(lambda x: DefTargetFrom_loan_Status(x))\n",
    "df.isna().sum()\n",
    "df = df.dropna()\n",
    "df.shape"
   ]
  },
  {
   "cell_type": "code",
   "execution_count": null,
   "metadata": {},
   "outputs": [],
   "source": []
  },
  {
   "cell_type": "code",
   "execution_count": 44,
   "metadata": {},
   "outputs": [
    {
     "data": {
      "text/plain": [
       "1                                              Charged Off\n",
       "3                                               Fully Paid\n",
       "5                                               Fully Paid\n",
       "6                                               Fully Paid\n",
       "7                                               Fully Paid\n",
       "9                                              Charged Off\n",
       "10                                              Fully Paid\n",
       "11                                              Fully Paid\n",
       "12                                             Charged Off\n",
       "13                                              Fully Paid\n",
       "14                                             Charged Off\n",
       "15                                              Fully Paid\n",
       "16                                              Fully Paid\n",
       "17                                              Fully Paid\n",
       "18                                              Fully Paid\n",
       "19                                              Fully Paid\n",
       "20                                              Fully Paid\n",
       "21                                             Charged Off\n",
       "22                                              Fully Paid\n",
       "23                                              Fully Paid\n",
       "24                                             Charged Off\n",
       "25                                              Fully Paid\n",
       "26                                             Charged Off\n",
       "27                                             Charged Off\n",
       "28                                              Fully Paid\n",
       "29                                              Fully Paid\n",
       "31                                              Fully Paid\n",
       "33                                              Fully Paid\n",
       "34                                              Fully Paid\n",
       "35                                              Fully Paid\n",
       "                               ...                        \n",
       "42420    Does not meet the credit policy. Status:Fully ...\n",
       "42421    Does not meet the credit policy. Status:Fully ...\n",
       "42422    Does not meet the credit policy. Status:Charge...\n",
       "42423    Does not meet the credit policy. Status:Fully ...\n",
       "42424    Does not meet the credit policy. Status:Fully ...\n",
       "42425    Does not meet the credit policy. Status:Charge...\n",
       "42426    Does not meet the credit policy. Status:Fully ...\n",
       "42427    Does not meet the credit policy. Status:Charge...\n",
       "42428    Does not meet the credit policy. Status:Fully ...\n",
       "42429    Does not meet the credit policy. Status:Charge...\n",
       "42430    Does not meet the credit policy. Status:Fully ...\n",
       "42431    Does not meet the credit policy. Status:Fully ...\n",
       "42432    Does not meet the credit policy. Status:Fully ...\n",
       "42434    Does not meet the credit policy. Status:Fully ...\n",
       "42435    Does not meet the credit policy. Status:Fully ...\n",
       "42436    Does not meet the credit policy. Status:Fully ...\n",
       "42437    Does not meet the credit policy. Status:Fully ...\n",
       "42438    Does not meet the credit policy. Status:Fully ...\n",
       "42439    Does not meet the credit policy. Status:Fully ...\n",
       "42440    Does not meet the credit policy. Status:Charge...\n",
       "42441    Does not meet the credit policy. Status:Charge...\n",
       "42442    Does not meet the credit policy. Status:Fully ...\n",
       "42443    Does not meet the credit policy. Status:Fully ...\n",
       "42444    Does not meet the credit policy. Status:Fully ...\n",
       "42446    Does not meet the credit policy. Status:Fully ...\n",
       "42448    Does not meet the credit policy. Status:Fully ...\n",
       "42449    Does not meet the credit policy. Status:Fully ...\n",
       "42454    Does not meet the credit policy. Status:Fully ...\n",
       "42466    Does not meet the credit policy. Status:Fully ...\n",
       "42474    Does not meet the credit policy. Status:Fully ...\n",
       "Name: loan_status, Length: 38818, dtype: object"
      ]
     },
     "execution_count": 44,
     "metadata": {},
     "output_type": "execute_result"
    }
   ],
   "source": [
    "df.loan_status"
   ]
  },
  {
   "cell_type": "code",
   "execution_count": 45,
   "metadata": {},
   "outputs": [
    {
     "data": {
      "text/plain": [
       "<matplotlib.axes._subplots.AxesSubplot at 0x11ffd3b38>"
      ]
     },
     "execution_count": 45,
     "metadata": {},
     "output_type": "execute_result"
    },
    {
     "data": {
      "image/png": "[encoded data removed]",
      "text/plain": [
       "<Figure size 432x288 with 1 Axes>"
      ]
     },
     "metadata": {
      "needs_background": "light"
     },
     "output_type": "display_data"
    }
   ],
   "source": [
    "import seaborn as sns\n",
    "df['not_policy'] = df.loan_status =='Does not meet the credit policy. Status:Fully Paid'\n",
    "sns.boxplot(y='annual_inc',x='not_policy', data=df[df.annual_inc < 1e6])"
   ]
  },
  {
   "cell_type": "code",
   "execution_count": 46,
   "metadata": {},
   "outputs": [],
   "source": [
    "## outlyer correction anual income push to pass 2\n",
    "\n"
   ]
  },
  {
   "cell_type": "code",
   "execution_count": 50,
   "metadata": {},
   "outputs": [
    {
     "name": "stdout",
     "output_type": "stream",
     "text": [
      "8.745122008557061% data loss of cleaning\n"
     ]
    }
   ],
   "source": [
    "print(f'{(1-df.shape[0]/OrgRowCount)*100}% data loss of cleaning') "
   ]
  },
  {
   "cell_type": "code",
   "execution_count": 47,
   "metadata": {},
   "outputs": [],
   "source": [
    "df.to_pickle('../data/clean_pass_01p1.pkl')"
   ]
  }
 ],
 "metadata": {
  "kernelspec": {
   "display_name": "Python [conda env:nf2] *",
   "language": "python",
   "name": "conda-env-nf2-py"
  },
  "language_info": {
   "codemirror_mode": {
    "name": "ipython",
    "version": 3
   },
   "file_extension": ".py",
   "mimetype": "text/x-python",
   "name": "python",
   "nbconvert_exporter": "python",
   "pygments_lexer": "ipython3",
   "version": "3.6.10"
  },
  "toc": {
   "base_numbering": 1,
   "nav_menu": {},
   "number_sections": true,
   "sideBar": true,
   "skip_h1_title": false,
   "title_cell": "Table of Contents",
   "title_sidebar": "Contents",
   "toc_cell": false,
   "toc_position": {},
   "toc_section_display": true,
   "toc_window_display": true
  }
 },
 "nbformat": 4,
 "nbformat_minor": 4
}
