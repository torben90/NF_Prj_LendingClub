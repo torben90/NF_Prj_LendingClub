{
 "cells": [
  {
   "cell_type": "code",
   "execution_count": null,
   "metadata": {},
   "outputs": [],
   "source": [
    "#https://www.bundesbank.de/resource/blob/626338/fd6929f74d441c6669eb761ffcf219a8/mL/2016-07-evolution-bank-lending-survey-data.pdf\n",
    "    "
   ]
  },
  {
   "cell_type": "code",
   "execution_count": null,
   "metadata": {},
   "outputs": [],
   "source": [
    "https://www.valuepenguin.com/mortgages/historical-mortgage-rates\n",
    "    \n",
    " y min max mean   \n",
    "2012\t3.31%\t4.08%\t3.66%\n",
    "2011\t3.91%\t5.05%\t4.45%\n",
    "2010\t4.17%\t5.21%\t4.69%\n",
    "2009\t4.71%\t5.59%\t5.04%\n",
    "2008\t5.10%\t6.63%\t6.03%\n",
    "2007\t5.96%\t6.74%\t6.34%    "
   ]
  },
  {
   "cell_type": "code",
   "execution_count": null,
   "metadata": {},
   "outputs": [],
   "source": [
    "https://www.visualcapitalist.com/the-history-of-interest-rates-over-670-years/\n",
    "    \n",
    "crisses and in general"
   ]
  },
  {
   "cell_type": "code",
   "execution_count": null,
   "metadata": {},
   "outputs": [],
   "source": [
    "personal credit 6%-36%\n",
    "good 9%\n",
    "credit card 14%-18%\n",
    "https://www.experian.com/blogs/ask-experian/whats-a-good-interest-rate-for-a-personal-loan/"
   ]
  },
  {
   "cell_type": "code",
   "execution_count": null,
   "metadata": {},
   "outputs": [],
   "source": [
    "normal is 5% -15%\n",
    "https://www.wellsfargo.com/goals-credit/smarter-credit/credit-101/getting-a-loan/\n",
    "    \n",
    "    Wells Fargo credit score standards\n",
    "    \n",
    "    "
   ]
  },
  {
   "cell_type": "code",
   "execution_count": 2,
   "metadata": {},
   "outputs": [
    {
     "data": {
      "text/plain": [
       "0.00966"
      ]
     },
     "execution_count": 2,
     "metadata": {},
     "output_type": "execute_result"
    }
   ],
   "source": [
    "(125+6+352)/50000"
   ]
  },
  {
   "cell_type": "code",
   "execution_count": 4,
   "metadata": {},
   "outputs": [
    {
     "data": {
      "text/plain": [
       "0.0156"
      ]
     },
     "execution_count": 4,
     "metadata": {},
     "output_type": "execute_result"
    }
   ],
   "source": [
    "(468)/30000"
   ]
  },
  {
   "cell_type": "code",
   "execution_count": null,
   "metadata": {},
   "outputs": [],
   "source": []
  }
 ],
 "metadata": {
  "kernelspec": {
   "display_name": "Python [conda env:nf2] *",
   "language": "python",
   "name": "conda-env-nf2-py"
  },
  "language_info": {
   "codemirror_mode": {
    "name": "ipython",
    "version": 3
   },
   "file_extension": ".py",
   "mimetype": "text/x-python",
   "name": "python",
   "nbconvert_exporter": "python",
   "pygments_lexer": "ipython3",
   "version": "3.6.10"
  },
  "toc": {
   "base_numbering": 1,
   "nav_menu": {},
   "number_sections": true,
   "sideBar": true,
   "skip_h1_title": false,
   "title_cell": "Table of Contents",
   "title_sidebar": "Contents",
   "toc_cell": false,
   "toc_position": {},
   "toc_section_display": true,
   "toc_window_display": false
  }
 },
 "nbformat": 4,
 "nbformat_minor": 4
}
