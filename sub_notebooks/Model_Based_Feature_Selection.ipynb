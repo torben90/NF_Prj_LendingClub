{
 "cells": [
  {
   "cell_type": "code",
   "execution_count": 182,
   "metadata": {},
   "outputs": [],
   "source": [
    "# Data\n",
    "import numpy as np\n",
    "import pandas as pd\n",
    "\n",
    "# Visualization \n",
    "import matplotlib.pyplot as plt\n",
    "import seaborn as sns\n",
    "\n",
    "# Prepprc\n",
    "from sklearn.preprocessing import StandardScaler, OneHotEncoder\n",
    "from sklearn import model_selection\n",
    "\n",
    "# pipline\n",
    "from sklearn.pipeline import make_pipeline, FeatureUnion\n",
    "\n",
    "# ML\n",
    "from sklearn.tree import DecisionTreeClassifier\n",
    "from sklearn.ensemble import RandomForestClassifier\n",
    "from sklearn.linear_model import LogisticRegression\n",
    "#Metrics\n",
    "\n",
    "from sklearn.metrics import precision_recall_fscore_support, roc_curve, auc\n"
   ]
  },
  {
   "cell_type": "code",
   "execution_count": 136,
   "metadata": {},
   "outputs": [],
   "source": [
    "df = pd.read_pickle('../data/clean_pass_01.pkl')"
   ]
  },
  {
   "cell_type": "code",
   "execution_count": 137,
   "metadata": {},
   "outputs": [
    {
     "name": "stdout",
     "output_type": "stream",
     "text": [
      "<class 'pandas.core.frame.DataFrame'>\n",
      "Int64Index: 41340 entries, 0 to 42474\n",
      "Data columns (total 10 columns):\n",
      "term                  41340 non-null object\n",
      "grade                 41340 non-null object\n",
      "sub_grade             41340 non-null object\n",
      "home_ownership        41340 non-null object\n",
      "loan_status           41340 non-null object\n",
      "purpose               41340 non-null object\n",
      "zip_code              41340 non-null object\n",
      "addr_state            41340 non-null object\n",
      "earliest_cr_line      41340 non-null object\n",
      "last_credit_pull_d    41340 non-null object\n",
      "dtypes: object(10)\n",
      "memory usage: 3.5+ MB\n"
     ]
    }
   ],
   "source": [
    "df.select_dtypes('object').info()"
   ]
  },
  {
   "cell_type": "code",
   "execution_count": 138,
   "metadata": {},
   "outputs": [
    {
     "data": {
      "text/plain": [
       "0    Jun-2016\n",
       "1    Sep-2013\n",
       "2    Jun-2016\n",
       "3    Apr-2016\n",
       "5    Jan-2016\n",
       "Name: last_credit_pull_d, dtype: object"
      ]
     },
     "execution_count": 138,
     "metadata": {},
     "output_type": "execute_result"
    }
   ],
   "source": [
    "df.last_credit_pull_d.head()"
   ]
  },
  {
   "cell_type": "code",
   "execution_count": 144,
   "metadata": {},
   "outputs": [],
   "source": [
    "# for now drop zip and dates\n",
    "df2 = df.drop(['zip_code','earliest_cr_line','last_credit_pull_d'], axis=1)"
   ]
  },
  {
   "cell_type": "code",
   "execution_count": 145,
   "metadata": {},
   "outputs": [],
   "source": [
    "# drop secound predictor\n",
    "df2 = df2.drop(['loan_status'],axis=1)"
   ]
  },
  {
   "cell_type": "code",
   "execution_count": 146,
   "metadata": {},
   "outputs": [],
   "source": [
    "# drop the grade as double infor to subgrade\n",
    "df2 = df2.drop(['grade'],axis=1)"
   ]
  },
  {
   "cell_type": "code",
   "execution_count": null,
   "metadata": {},
   "outputs": [],
   "source": []
  },
  {
   "cell_type": "code",
   "execution_count": 147,
   "metadata": {},
   "outputs": [
    {
     "name": "stdout",
     "output_type": "stream",
     "text": [
      "<class 'pandas.core.frame.DataFrame'>\n",
      "Int64Index: 41340 entries, 0 to 42474\n",
      "Data columns (total 5 columns):\n",
      "term              41340 non-null object\n",
      "sub_grade         41340 non-null object\n",
      "home_ownership    41340 non-null object\n",
      "purpose           41340 non-null object\n",
      "addr_state        41340 non-null object\n",
      "dtypes: object(5)\n",
      "memory usage: 1.9+ MB\n"
     ]
    }
   ],
   "source": [
    "df2.select_dtypes('object').info()"
   ]
  },
  {
   "cell_type": "code",
   "execution_count": 148,
   "metadata": {},
   "outputs": [
    {
     "name": "stdout",
     "output_type": "stream",
     "text": [
      "<class 'pandas.core.frame.DataFrame'>\n",
      "Int64Index: 41340 entries, 0 to 42474\n",
      "Data columns (total 5 columns):\n",
      "term              41340 non-null category\n",
      "sub_grade         41340 non-null category\n",
      "home_ownership    41340 non-null category\n",
      "purpose           41340 non-null category\n",
      "addr_state        41340 non-null category\n",
      "dtypes: category(5)\n",
      "memory usage: 530.3 KB\n"
     ]
    }
   ],
   "source": [
    "# make all objects categorys\n",
    "for c in df2.select_dtypes('object').columns:\n",
    "    df2[c] = df2[c].astype('category')\n",
    "    \n",
    "df2.select_dtypes('category').info()"
   ]
  },
  {
   "cell_type": "code",
   "execution_count": 149,
   "metadata": {},
   "outputs": [
    {
     "name": "stdout",
     "output_type": "stream",
     "text": [
      "<class 'pandas.core.frame.DataFrame'>\n",
      "Int64Index: 41340 entries, 0 to 42474\n",
      "Data columns (total 3 columns):\n",
      "pub_rec_bankruptcies    41340 non-null int64\n",
      "has_made_pymnt          41340 non-null int64\n",
      "target                  41340 non-null int64\n",
      "dtypes: int64(3)\n",
      "memory usage: 1.3 MB\n"
     ]
    }
   ],
   "source": [
    "df2.select_dtypes('int').info()\n",
    "\n"
   ]
  },
  {
   "cell_type": "code",
   "execution_count": 150,
   "metadata": {},
   "outputs": [
    {
     "name": "stdout",
     "output_type": "stream",
     "text": [
      "<class 'pandas.core.frame.DataFrame'>\n",
      "Int64Index: 41340 entries, 0 to 42474\n",
      "Data columns (total 3 columns):\n",
      "pub_rec_bankruptcies    41340 non-null bool\n",
      "has_made_pymnt          41340 non-null bool\n",
      "not_policy              41340 non-null bool\n",
      "dtypes: bool(3)\n",
      "memory usage: 444.1 KB\n"
     ]
    }
   ],
   "source": [
    "df2.pub_rec_bankruptcies = df2.pub_rec_bankruptcies.astype('bool') \n",
    "df2.has_made_pymnt = df2.has_made_pymnt.astype('bool') \n",
    "df2.select_dtypes('bool').info()"
   ]
  },
  {
   "cell_type": "code",
   "execution_count": 151,
   "metadata": {},
   "outputs": [
    {
     "name": "stdout",
     "output_type": "stream",
     "text": [
      "<class 'pandas.core.frame.DataFrame'>\n",
      "Int64Index: 41340 entries, 0 to 42474\n",
      "Data columns (total 26 columns):\n",
      "loan_amnt                  41340 non-null float64\n",
      "funded_amnt                41340 non-null float64\n",
      "funded_amnt_inv            41340 non-null float64\n",
      "int_rate                   41340 non-null float64\n",
      "installment                41340 non-null float64\n",
      "emp_length                 41340 non-null float64\n",
      "annual_inc                 41340 non-null float64\n",
      "dti                        41340 non-null float64\n",
      "delinq_2yrs                41340 non-null float64\n",
      "inq_last_6mths             41340 non-null float64\n",
      "open_acc                   41340 non-null float64\n",
      "pub_rec                    41340 non-null float64\n",
      "revol_bal                  41340 non-null float64\n",
      "revol_util                 41340 non-null float64\n",
      "total_acc                  41340 non-null float64\n",
      "out_prncp                  41340 non-null float64\n",
      "out_prncp_inv              41340 non-null float64\n",
      "total_pymnt                41340 non-null float64\n",
      "total_pymnt_inv            41340 non-null float64\n",
      "total_rec_prncp            41340 non-null float64\n",
      "total_rec_int              41340 non-null float64\n",
      "total_rec_late_fee         41340 non-null float64\n",
      "recoveries                 41340 non-null float64\n",
      "collection_recovery_fee    41340 non-null float64\n",
      "last_pymnt_amnt            41340 non-null float64\n",
      "target                     41340 non-null int64\n",
      "dtypes: float64(25), int64(1)\n",
      "memory usage: 8.5 MB\n"
     ]
    }
   ],
   "source": [
    "# numerics... fine for now ... needs a closer look\n",
    "df2.select_dtypes(np.number).info()"
   ]
  },
  {
   "cell_type": "markdown",
   "metadata": {},
   "source": [
    "## Feature importnace try with dummy to recall names\n"
   ]
  },
  {
   "cell_type": "code",
   "execution_count": 152,
   "metadata": {},
   "outputs": [
    {
     "name": "stdout",
     "output_type": "stream",
     "text": [
      "loan_amnt\n",
      "funded_amnt\n",
      "funded_amnt_inv\n",
      "int_rate\n",
      "installment\n",
      "emp_length\n",
      "annual_inc\n",
      "dti\n",
      "delinq_2yrs\n",
      "inq_last_6mths\n",
      "open_acc\n",
      "pub_rec\n",
      "revol_bal\n",
      "revol_util\n",
      "total_acc\n",
      "out_prncp\n",
      "out_prncp_inv\n",
      "total_pymnt\n",
      "total_pymnt_inv\n",
      "total_rec_prncp\n",
      "total_rec_int\n",
      "total_rec_late_fee\n",
      "recoveries\n",
      "collection_recovery_fee\n",
      "last_pymnt_amnt\n",
      "pub_rec_bankruptcies\n",
      "has_made_pymnt\n",
      "not_policy\n",
      "target\n",
      "term_ 60 months\n",
      "sub_grade_A2\n",
      "sub_grade_A3\n",
      "sub_grade_A4\n",
      "sub_grade_A5\n",
      "sub_grade_B1\n",
      "sub_grade_B2\n",
      "sub_grade_B3\n",
      "sub_grade_B4\n",
      "sub_grade_B5\n",
      "sub_grade_C1\n",
      "sub_grade_C2\n",
      "sub_grade_C3\n",
      "sub_grade_C4\n",
      "sub_grade_C5\n",
      "sub_grade_D1\n",
      "sub_grade_D2\n",
      "sub_grade_D3\n",
      "sub_grade_D4\n",
      "sub_grade_D5\n",
      "sub_grade_E1\n",
      "sub_grade_E2\n",
      "sub_grade_E3\n",
      "sub_grade_E4\n",
      "sub_grade_E5\n",
      "sub_grade_F1\n",
      "sub_grade_F2\n",
      "sub_grade_F3\n",
      "sub_grade_F4\n",
      "sub_grade_F5\n",
      "sub_grade_G1\n",
      "sub_grade_G2\n",
      "sub_grade_G3\n",
      "sub_grade_G4\n",
      "sub_grade_G5\n",
      "home_ownership_OTHER\n",
      "home_ownership_OWN\n",
      "home_ownership_RENT\n",
      "purpose_credit_card\n",
      "purpose_debt_consolidation\n",
      "purpose_educational\n",
      "purpose_home_improvement\n",
      "purpose_house\n",
      "purpose_major_purchase\n",
      "purpose_medical\n",
      "purpose_moving\n",
      "purpose_other\n",
      "purpose_renewable_energy\n",
      "purpose_small_business\n",
      "purpose_vacation\n",
      "purpose_wedding\n",
      "addr_state_AL\n",
      "addr_state_AR\n",
      "addr_state_AZ\n",
      "addr_state_CA\n",
      "addr_state_CO\n",
      "addr_state_CT\n",
      "addr_state_DC\n",
      "addr_state_DE\n",
      "addr_state_FL\n",
      "addr_state_GA\n",
      "addr_state_HI\n",
      "addr_state_IA\n",
      "addr_state_ID\n",
      "addr_state_IL\n",
      "addr_state_IN\n",
      "addr_state_KS\n",
      "addr_state_KY\n",
      "addr_state_LA\n",
      "addr_state_MA\n",
      "addr_state_MD\n",
      "addr_state_ME\n",
      "addr_state_MI\n",
      "addr_state_MN\n",
      "addr_state_MO\n",
      "addr_state_MS\n",
      "addr_state_MT\n",
      "addr_state_NC\n",
      "addr_state_NE\n",
      "addr_state_NH\n",
      "addr_state_NJ\n",
      "addr_state_NM\n",
      "addr_state_NV\n",
      "addr_state_NY\n",
      "addr_state_OH\n",
      "addr_state_OK\n",
      "addr_state_OR\n",
      "addr_state_PA\n",
      "addr_state_RI\n",
      "addr_state_SC\n",
      "addr_state_SD\n",
      "addr_state_TN\n",
      "addr_state_TX\n",
      "addr_state_UT\n",
      "addr_state_VA\n",
      "addr_state_VT\n",
      "addr_state_WA\n",
      "addr_state_WI\n",
      "addr_state_WV\n",
      "addr_state_WY\n"
     ]
    }
   ],
   "source": [
    "df3 = pd.get_dummies(df2, drop_first=True)\n",
    "for i in df3.columns:\n",
    "    print(i)\n"
   ]
  },
  {
   "cell_type": "code",
   "execution_count": 153,
   "metadata": {},
   "outputs": [
    {
     "name": "stdout",
     "output_type": "stream",
     "text": [
      "<class 'pandas.core.frame.DataFrame'>\n",
      "Int64Index: 41340 entries, 0 to 42474\n",
      "Columns: 129 entries, loan_amnt to addr_state_WY\n",
      "dtypes: bool(3), float64(25), int64(1), uint8(100)\n",
      "memory usage: 12.6 MB\n"
     ]
    }
   ],
   "source": [
    "df3.info()"
   ]
  },
  {
   "cell_type": "markdown",
   "metadata": {},
   "source": [
    "## create pipline parts for DF use"
   ]
  },
  {
   "cell_type": "code",
   "execution_count": 154,
   "metadata": {},
   "outputs": [],
   "source": [
    "from sklearn.base import BaseEstimator, TransformerMixin\n",
    "\n",
    "class TypeSelector(BaseEstimator, TransformerMixin):\n",
    "    def __init__(self, dtype):\n",
    "        self.dtype = dtype\n",
    "\n",
    "    def fit(self, X, y=None):\n",
    "        return self\n",
    "\n",
    "    def transform(self, X):\n",
    "        assert isinstance(X, pd.DataFrame)\n",
    "        return X.select_dtypes(include=[self.dtype])\n",
    "    \n",
    "class ColumnSelector(BaseEstimator, TransformerMixin):\n",
    "    def __init__(self, columns):\n",
    "        self.columns = columns\n",
    "\n",
    "    def fit(self, X, y=None):\n",
    "        return self\n",
    "\n",
    "    def transform(self, X):\n",
    "        assert isinstance(X, pd.DataFrame)\n",
    "\n",
    "        try:\n",
    "            return X[self.columns]\n",
    "        except KeyError:\n",
    "            cols_error = list(set(self.columns) - set(X.columns))\n",
    "            raise KeyError(\"The DataFrame does not include the columns: %s\" % cols_error)\n",
    "            \n",
    " "
   ]
  },
  {
   "cell_type": "code",
   "execution_count": 155,
   "metadata": {},
   "outputs": [
    {
     "data": {
      "text/plain": [
       "(128,)"
      ]
     },
     "execution_count": 155,
     "metadata": {},
     "output_type": "execute_result"
    }
   ],
   "source": [
    "x_cols =  df3.drop(['target'], axis=1).columns\n",
    "x_cols.shape"
   ]
  },
  {
   "cell_type": "code",
   "execution_count": 156,
   "metadata": {},
   "outputs": [],
   "source": [
    "preprocess_pipeline = make_pipeline(\n",
    "    ColumnSelector(columns=x_cols),\n",
    "    FeatureUnion(transformer_list=[\n",
    "        (\"numeric_features\", make_pipeline(\n",
    "            TypeSelector(np.number),\n",
    "            StandardScaler()\n",
    "        )),\n",
    "        (\"bool_features\", make_pipeline(\n",
    "            TypeSelector('bool'),\n",
    "        )),\n",
    "        #(\"categorical_features\", make_pipeline(\n",
    "        #    TypeSelector(\"category\"),\n",
    "        #    OneHotEncoder()\n",
    "        #)),\n",
    "    ]))"
   ]
  },
  {
   "cell_type": "code",
   "execution_count": 157,
   "metadata": {},
   "outputs": [
    {
     "data": {
      "text/plain": [
       "(41340, 128)"
      ]
     },
     "execution_count": 157,
     "metadata": {},
     "output_type": "execute_result"
    }
   ],
   "source": [
    "preprocess_pipeline.fit(df3.drop(['target'], axis=1))\n",
    "X_transformed = preprocess_pipeline.transform(df3.drop(['target'], axis=1))    \n",
    "X_transformed.shape"
   ]
  },
  {
   "cell_type": "code",
   "execution_count": 158,
   "metadata": {},
   "outputs": [],
   "source": [
    "y = df3['target']"
   ]
  },
  {
   "cell_type": "code",
   "execution_count": 81,
   "metadata": {},
   "outputs": [],
   "source": []
  },
  {
   "cell_type": "code",
   "execution_count": 183,
   "metadata": {},
   "outputs": [],
   "source": [
    "# Using Random Forest to gain an insight on Feature Importance\n",
    "#clf = DecisionTreeClassifier()\n",
    "clf = RandomForestClassifier()\n",
    "clf.fit(X_transformed, y)\n",
    "importance = clf.feature_importances_\n"
   ]
  },
  {
   "cell_type": "code",
   "execution_count": 184,
   "metadata": {},
   "outputs": [
    {
     "data": {
      "image/png": "[encoded data removed]",
      "text/plain": [
       "<Figure size 720x1080 with 1 Axes>"
      ]
     },
     "metadata": {},
     "output_type": "display_data"
    }
   ],
   "source": [
    "plt.style.use('seaborn-whitegrid')\n",
    "importance = pd.DataFrame(importance, index=df3.drop(['target'], axis=1).columns, columns=[\"Importance\"])\n",
    "importance = importance.sort_values(['Importance'], ascending=True)\n",
    "plt.rc('font', size=13)\n",
    "importance.tail(n=20).plot(kind='barh', figsize=(10,15));"
   ]
  },
  {
   "cell_type": "code",
   "execution_count": 177,
   "metadata": {},
   "outputs": [
    {
     "data": {
      "text/plain": [
       "225"
      ]
     },
     "execution_count": 177,
     "metadata": {},
     "output_type": "execute_result"
    }
   ],
   "source": [
    "clf.tree_.n_leaves"
   ]
  },
  {
   "cell_type": "code",
   "execution_count": 178,
   "metadata": {},
   "outputs": [
    {
     "data": {
      "text/plain": [
       "<matplotlib.axes._subplots.AxesSubplot at 0x1a2901edd8>"
      ]
     },
     "execution_count": 178,
     "metadata": {},
     "output_type": "execute_result"
    },
    {
     "data": {
      "image/png": "[encoded data removed]",
      "text/plain": [
       "<Figure size 432x288 with 1 Axes>"
      ]
     },
     "metadata": {},
     "output_type": "display_data"
    }
   ],
   "source": [
    "df3.plot.scatter(y='total_rec_int',x='int_rate')"
   ]
  },
  {
   "cell_type": "code",
   "execution_count": 181,
   "metadata": {},
   "outputs": [
    {
     "data": {
      "text/plain": [
       "<matplotlib.axes._subplots.AxesSubplot at 0x1a2a2ca5f8>"
      ]
     },
     "execution_count": 181,
     "metadata": {},
     "output_type": "execute_result"
    },
    {
     "data": {
      "image/png": "[encoded data removed]",
      "text/plain": [
       "<Figure size 432x288 with 1 Axes>"
      ]
     },
     "metadata": {},
     "output_type": "display_data"
    }
   ],
   "source": [
    "df3.plot.scatter(y='recoveries',x='int_rate') "
   ]
  },
  {
   "cell_type": "code",
   "execution_count": null,
   "metadata": {},
   "outputs": [],
   "source": [
    "df3."
   ]
  }
 ],
 "metadata": {
  "kernelspec": {
   "display_name": "Python [conda env:nf2] *",
   "language": "python",
   "name": "conda-env-nf2-py"
  },
  "language_info": {
   "codemirror_mode": {
    "name": "ipython",
    "version": 3
   },
   "file_extension": ".py",
   "mimetype": "text/x-python",
   "name": "python",
   "nbconvert_exporter": "python",
   "pygments_lexer": "ipython3",
   "version": "3.6.10"
  },
  "toc": {
   "base_numbering": 1,
   "nav_menu": {},
   "number_sections": true,
   "sideBar": true,
   "skip_h1_title": false,
   "title_cell": "Table of Contents",
   "title_sidebar": "Contents",
   "toc_cell": false,
   "toc_position": {},
   "toc_section_display": true,
   "toc_window_display": false
  }
 },
 "nbformat": 4,
 "nbformat_minor": 4
}
