{
 "cells": [
  {
   "cell_type": "code",
   "execution_count": 1,
   "metadata": {
    "ExecuteTime": {
     "end_time": "2020-03-24T19:56:26.470778Z",
     "start_time": "2020-03-24T19:56:24.806961Z"
    }
   },
   "outputs": [],
   "source": [
    "import pandas as pd\n",
    "import numpy as np\n",
    "import matplotlib.pyplot as plt\n",
    "import seaborn as sns\n",
    "%matplotlib inline\n",
    "plt.style.use('seaborn')"
   ]
  },
  {
   "cell_type": "markdown",
   "metadata": {
    "ExecuteTime": {
     "end_time": "2020-03-24T20:53:41.519404Z",
     "start_time": "2020-03-24T20:53:41.514725Z"
    }
   },
   "source": [
    "# Feature Engineering"
   ]
  },
  {
   "cell_type": "markdown",
   "metadata": {},
   "source": [
    "## US credit default rate"
   ]
  },
  {
   "cell_type": "code",
   "execution_count": 21,
   "metadata": {
    "ExecuteTime": {
     "end_time": "2020-03-24T20:04:13.088612Z",
     "start_time": "2020-03-24T20:04:13.080998Z"
    }
   },
   "outputs": [],
   "source": [
    "# credit default rate US from 2007 to 2011\n",
    "# source: https://www.federalreserve.gov/datadownload/Choose.aspx?rel=CHGDEL\n",
    "cdr_us = pd.read_csv('../data/DRALACBN.csv')"
   ]
  },
  {
   "cell_type": "code",
   "execution_count": 22,
   "metadata": {
    "ExecuteTime": {
     "end_time": "2020-03-24T20:04:15.199010Z",
     "start_time": "2020-03-24T20:04:15.193881Z"
    }
   },
   "outputs": [],
   "source": [
    "cdr_us.rename(columns={'DATE':'date','DRALACBN':'default_rate'},inplace=True)"
   ]
  },
  {
   "cell_type": "code",
   "execution_count": 15,
   "metadata": {
    "ExecuteTime": {
     "end_time": "2020-03-24T20:02:37.076470Z",
     "start_time": "2020-03-24T20:02:36.615641Z"
    }
   },
   "outputs": [
    {
     "name": "stderr",
     "output_type": "stream",
     "text": [
      "/Users/torben/opt/anaconda3/envs/nf2/lib/python3.6/site-packages/IPython/core/interactiveshell.py:3063: DtypeWarning: Columns (0) have mixed types. Specify dtype option on import or set low_memory=False.\n",
      "  interactivity=interactivity, compiler=compiler, result=result)\n"
     ]
    }
   ],
   "source": [
    "time_df=pd.read_csv('../data/loans_2007.csv')"
   ]
  },
  {
   "cell_type": "code",
   "execution_count": 16,
   "metadata": {
    "ExecuteTime": {
     "end_time": "2020-03-24T20:02:37.709129Z",
     "start_time": "2020-03-24T20:02:37.699099Z"
    }
   },
   "outputs": [],
   "source": [
    "time_df = time_df[['issue_d','loan_status']]"
   ]
  },
  {
   "cell_type": "code",
   "execution_count": 18,
   "metadata": {
    "ExecuteTime": {
     "end_time": "2020-03-24T20:02:46.546591Z",
     "start_time": "2020-03-24T20:02:46.527091Z"
    },
    "collapsed": true
   },
   "outputs": [
    {
     "data": {
      "text/html": [
       "<div>\n",
       "<style scoped>\n",
       "    .dataframe tbody tr th:only-of-type {\n",
       "        vertical-align: middle;\n",
       "    }\n",
       "\n",
       "    .dataframe tbody tr th {\n",
       "        vertical-align: top;\n",
       "    }\n",
       "\n",
       "    .dataframe thead th {\n",
       "        text-align: right;\n",
       "    }\n",
       "</style>\n",
       "<table border=\"1\" class=\"dataframe\">\n",
       "  <thead>\n",
       "    <tr style=\"text-align: right;\">\n",
       "      <th></th>\n",
       "      <th>issue_d</th>\n",
       "      <th>target</th>\n",
       "    </tr>\n",
       "  </thead>\n",
       "  <tbody>\n",
       "    <tr>\n",
       "      <th>0</th>\n",
       "      <td>Dec-2011</td>\n",
       "      <td>1.0</td>\n",
       "    </tr>\n",
       "    <tr>\n",
       "      <th>1</th>\n",
       "      <td>Dec-2011</td>\n",
       "      <td>0.0</td>\n",
       "    </tr>\n",
       "    <tr>\n",
       "      <th>2</th>\n",
       "      <td>Dec-2011</td>\n",
       "      <td>1.0</td>\n",
       "    </tr>\n",
       "    <tr>\n",
       "      <th>3</th>\n",
       "      <td>Dec-2011</td>\n",
       "      <td>1.0</td>\n",
       "    </tr>\n",
       "    <tr>\n",
       "      <th>4</th>\n",
       "      <td>Dec-2011</td>\n",
       "      <td>NaN</td>\n",
       "    </tr>\n",
       "    <tr>\n",
       "      <th>5</th>\n",
       "      <td>Dec-2011</td>\n",
       "      <td>1.0</td>\n",
       "    </tr>\n",
       "    <tr>\n",
       "      <th>6</th>\n",
       "      <td>Dec-2011</td>\n",
       "      <td>1.0</td>\n",
       "    </tr>\n",
       "    <tr>\n",
       "      <th>7</th>\n",
       "      <td>Dec-2011</td>\n",
       "      <td>1.0</td>\n",
       "    </tr>\n",
       "    <tr>\n",
       "      <th>8</th>\n",
       "      <td>Dec-2011</td>\n",
       "      <td>0.0</td>\n",
       "    </tr>\n",
       "    <tr>\n",
       "      <th>9</th>\n",
       "      <td>Dec-2011</td>\n",
       "      <td>0.0</td>\n",
       "    </tr>\n",
       "    <tr>\n",
       "      <th>10</th>\n",
       "      <td>Dec-2011</td>\n",
       "      <td>1.0</td>\n",
       "    </tr>\n",
       "    <tr>\n",
       "      <th>11</th>\n",
       "      <td>Dec-2011</td>\n",
       "      <td>1.0</td>\n",
       "    </tr>\n",
       "    <tr>\n",
       "      <th>12</th>\n",
       "      <td>Dec-2011</td>\n",
       "      <td>0.0</td>\n",
       "    </tr>\n",
       "    <tr>\n",
       "      <th>13</th>\n",
       "      <td>Dec-2011</td>\n",
       "      <td>1.0</td>\n",
       "    </tr>\n",
       "    <tr>\n",
       "      <th>14</th>\n",
       "      <td>Dec-2011</td>\n",
       "      <td>0.0</td>\n",
       "    </tr>\n",
       "    <tr>\n",
       "      <th>15</th>\n",
       "      <td>Dec-2011</td>\n",
       "      <td>1.0</td>\n",
       "    </tr>\n",
       "    <tr>\n",
       "      <th>16</th>\n",
       "      <td>Dec-2011</td>\n",
       "      <td>1.0</td>\n",
       "    </tr>\n",
       "    <tr>\n",
       "      <th>17</th>\n",
       "      <td>Dec-2011</td>\n",
       "      <td>1.0</td>\n",
       "    </tr>\n",
       "    <tr>\n",
       "      <th>18</th>\n",
       "      <td>Dec-2011</td>\n",
       "      <td>1.0</td>\n",
       "    </tr>\n",
       "    <tr>\n",
       "      <th>19</th>\n",
       "      <td>Dec-2011</td>\n",
       "      <td>1.0</td>\n",
       "    </tr>\n",
       "    <tr>\n",
       "      <th>20</th>\n",
       "      <td>Dec-2011</td>\n",
       "      <td>1.0</td>\n",
       "    </tr>\n",
       "    <tr>\n",
       "      <th>21</th>\n",
       "      <td>Dec-2011</td>\n",
       "      <td>0.0</td>\n",
       "    </tr>\n",
       "    <tr>\n",
       "      <th>22</th>\n",
       "      <td>Dec-2011</td>\n",
       "      <td>1.0</td>\n",
       "    </tr>\n",
       "    <tr>\n",
       "      <th>23</th>\n",
       "      <td>Dec-2011</td>\n",
       "      <td>1.0</td>\n",
       "    </tr>\n",
       "    <tr>\n",
       "      <th>24</th>\n",
       "      <td>Dec-2011</td>\n",
       "      <td>0.0</td>\n",
       "    </tr>\n",
       "    <tr>\n",
       "      <th>25</th>\n",
       "      <td>Dec-2011</td>\n",
       "      <td>1.0</td>\n",
       "    </tr>\n",
       "    <tr>\n",
       "      <th>26</th>\n",
       "      <td>Dec-2011</td>\n",
       "      <td>0.0</td>\n",
       "    </tr>\n",
       "    <tr>\n",
       "      <th>27</th>\n",
       "      <td>Dec-2011</td>\n",
       "      <td>0.0</td>\n",
       "    </tr>\n",
       "    <tr>\n",
       "      <th>28</th>\n",
       "      <td>Dec-2011</td>\n",
       "      <td>1.0</td>\n",
       "    </tr>\n",
       "    <tr>\n",
       "      <th>29</th>\n",
       "      <td>Dec-2011</td>\n",
       "      <td>1.0</td>\n",
       "    </tr>\n",
       "    <tr>\n",
       "      <th>...</th>\n",
       "      <td>...</td>\n",
       "      <td>...</td>\n",
       "    </tr>\n",
       "    <tr>\n",
       "      <th>42508</th>\n",
       "      <td>Jul-2007</td>\n",
       "      <td>1.0</td>\n",
       "    </tr>\n",
       "    <tr>\n",
       "      <th>42509</th>\n",
       "      <td>Jul-2007</td>\n",
       "      <td>1.0</td>\n",
       "    </tr>\n",
       "    <tr>\n",
       "      <th>42510</th>\n",
       "      <td>Jul-2007</td>\n",
       "      <td>1.0</td>\n",
       "    </tr>\n",
       "    <tr>\n",
       "      <th>42511</th>\n",
       "      <td>Jul-2007</td>\n",
       "      <td>1.0</td>\n",
       "    </tr>\n",
       "    <tr>\n",
       "      <th>42512</th>\n",
       "      <td>Jul-2007</td>\n",
       "      <td>1.0</td>\n",
       "    </tr>\n",
       "    <tr>\n",
       "      <th>42513</th>\n",
       "      <td>Jun-2007</td>\n",
       "      <td>1.0</td>\n",
       "    </tr>\n",
       "    <tr>\n",
       "      <th>42514</th>\n",
       "      <td>Jun-2007</td>\n",
       "      <td>1.0</td>\n",
       "    </tr>\n",
       "    <tr>\n",
       "      <th>42515</th>\n",
       "      <td>Jun-2007</td>\n",
       "      <td>1.0</td>\n",
       "    </tr>\n",
       "    <tr>\n",
       "      <th>42516</th>\n",
       "      <td>Jun-2007</td>\n",
       "      <td>1.0</td>\n",
       "    </tr>\n",
       "    <tr>\n",
       "      <th>42517</th>\n",
       "      <td>Jun-2007</td>\n",
       "      <td>1.0</td>\n",
       "    </tr>\n",
       "    <tr>\n",
       "      <th>42518</th>\n",
       "      <td>Jun-2007</td>\n",
       "      <td>1.0</td>\n",
       "    </tr>\n",
       "    <tr>\n",
       "      <th>42519</th>\n",
       "      <td>Jun-2007</td>\n",
       "      <td>1.0</td>\n",
       "    </tr>\n",
       "    <tr>\n",
       "      <th>42520</th>\n",
       "      <td>Jun-2007</td>\n",
       "      <td>1.0</td>\n",
       "    </tr>\n",
       "    <tr>\n",
       "      <th>42521</th>\n",
       "      <td>Jun-2007</td>\n",
       "      <td>1.0</td>\n",
       "    </tr>\n",
       "    <tr>\n",
       "      <th>42522</th>\n",
       "      <td>Jun-2007</td>\n",
       "      <td>0.0</td>\n",
       "    </tr>\n",
       "    <tr>\n",
       "      <th>42523</th>\n",
       "      <td>Jun-2007</td>\n",
       "      <td>1.0</td>\n",
       "    </tr>\n",
       "    <tr>\n",
       "      <th>42524</th>\n",
       "      <td>Jun-2007</td>\n",
       "      <td>1.0</td>\n",
       "    </tr>\n",
       "    <tr>\n",
       "      <th>42525</th>\n",
       "      <td>Jun-2007</td>\n",
       "      <td>0.0</td>\n",
       "    </tr>\n",
       "    <tr>\n",
       "      <th>42526</th>\n",
       "      <td>Jun-2007</td>\n",
       "      <td>1.0</td>\n",
       "    </tr>\n",
       "    <tr>\n",
       "      <th>42527</th>\n",
       "      <td>Jun-2007</td>\n",
       "      <td>1.0</td>\n",
       "    </tr>\n",
       "    <tr>\n",
       "      <th>42528</th>\n",
       "      <td>Jun-2007</td>\n",
       "      <td>1.0</td>\n",
       "    </tr>\n",
       "    <tr>\n",
       "      <th>42529</th>\n",
       "      <td>Jun-2007</td>\n",
       "      <td>1.0</td>\n",
       "    </tr>\n",
       "    <tr>\n",
       "      <th>42530</th>\n",
       "      <td>Jun-2007</td>\n",
       "      <td>0.0</td>\n",
       "    </tr>\n",
       "    <tr>\n",
       "      <th>42531</th>\n",
       "      <td>Jun-2007</td>\n",
       "      <td>1.0</td>\n",
       "    </tr>\n",
       "    <tr>\n",
       "      <th>42532</th>\n",
       "      <td>Jun-2007</td>\n",
       "      <td>1.0</td>\n",
       "    </tr>\n",
       "    <tr>\n",
       "      <th>42533</th>\n",
       "      <td>Jun-2007</td>\n",
       "      <td>1.0</td>\n",
       "    </tr>\n",
       "    <tr>\n",
       "      <th>42534</th>\n",
       "      <td>Jun-2007</td>\n",
       "      <td>1.0</td>\n",
       "    </tr>\n",
       "    <tr>\n",
       "      <th>42535</th>\n",
       "      <td>Jun-2007</td>\n",
       "      <td>1.0</td>\n",
       "    </tr>\n",
       "    <tr>\n",
       "      <th>42536</th>\n",
       "      <td>NaN</td>\n",
       "      <td>NaN</td>\n",
       "    </tr>\n",
       "    <tr>\n",
       "      <th>42537</th>\n",
       "      <td>NaN</td>\n",
       "      <td>NaN</td>\n",
       "    </tr>\n",
       "  </tbody>\n",
       "</table>\n",
       "<p>42538 rows × 2 columns</p>\n",
       "</div>"
      ],
      "text/plain": [
       "        issue_d  target\n",
       "0      Dec-2011     1.0\n",
       "1      Dec-2011     0.0\n",
       "2      Dec-2011     1.0\n",
       "3      Dec-2011     1.0\n",
       "4      Dec-2011     NaN\n",
       "5      Dec-2011     1.0\n",
       "6      Dec-2011     1.0\n",
       "7      Dec-2011     1.0\n",
       "8      Dec-2011     0.0\n",
       "9      Dec-2011     0.0\n",
       "10     Dec-2011     1.0\n",
       "11     Dec-2011     1.0\n",
       "12     Dec-2011     0.0\n",
       "13     Dec-2011     1.0\n",
       "14     Dec-2011     0.0\n",
       "15     Dec-2011     1.0\n",
       "16     Dec-2011     1.0\n",
       "17     Dec-2011     1.0\n",
       "18     Dec-2011     1.0\n",
       "19     Dec-2011     1.0\n",
       "20     Dec-2011     1.0\n",
       "21     Dec-2011     0.0\n",
       "22     Dec-2011     1.0\n",
       "23     Dec-2011     1.0\n",
       "24     Dec-2011     0.0\n",
       "25     Dec-2011     1.0\n",
       "26     Dec-2011     0.0\n",
       "27     Dec-2011     0.0\n",
       "28     Dec-2011     1.0\n",
       "29     Dec-2011     1.0\n",
       "...         ...     ...\n",
       "42508  Jul-2007     1.0\n",
       "42509  Jul-2007     1.0\n",
       "42510  Jul-2007     1.0\n",
       "42511  Jul-2007     1.0\n",
       "42512  Jul-2007     1.0\n",
       "42513  Jun-2007     1.0\n",
       "42514  Jun-2007     1.0\n",
       "42515  Jun-2007     1.0\n",
       "42516  Jun-2007     1.0\n",
       "42517  Jun-2007     1.0\n",
       "42518  Jun-2007     1.0\n",
       "42519  Jun-2007     1.0\n",
       "42520  Jun-2007     1.0\n",
       "42521  Jun-2007     1.0\n",
       "42522  Jun-2007     0.0\n",
       "42523  Jun-2007     1.0\n",
       "42524  Jun-2007     1.0\n",
       "42525  Jun-2007     0.0\n",
       "42526  Jun-2007     1.0\n",
       "42527  Jun-2007     1.0\n",
       "42528  Jun-2007     1.0\n",
       "42529  Jun-2007     1.0\n",
       "42530  Jun-2007     0.0\n",
       "42531  Jun-2007     1.0\n",
       "42532  Jun-2007     1.0\n",
       "42533  Jun-2007     1.0\n",
       "42534  Jun-2007     1.0\n",
       "42535  Jun-2007     1.0\n",
       "42536       NaN     NaN\n",
       "42537       NaN     NaN\n",
       "\n",
       "[42538 rows x 2 columns]"
      ]
     },
     "execution_count": 18,
     "metadata": {},
     "output_type": "execute_result"
    }
   ],
   "source": [
    "time_df = time_df.drop('loan_status',axis=1)"
   ]
  },
  {
   "cell_type": "code",
   "execution_count": 19,
   "metadata": {
    "ExecuteTime": {
     "end_time": "2020-03-24T20:03:09.215904Z",
     "start_time": "2020-03-24T20:03:09.202134Z"
    }
   },
   "outputs": [],
   "source": [
    "time_df.dropna(inplace=True)"
   ]
  },
  {
   "cell_type": "code",
   "execution_count": 31,
   "metadata": {
    "ExecuteTime": {
     "end_time": "2020-03-24T20:08:15.579575Z",
     "start_time": "2020-03-24T20:08:15.566493Z"
    }
   },
   "outputs": [
    {
     "name": "stdout",
     "output_type": "stream",
     "text": [
      "<class 'pandas.core.frame.DataFrame'>\n",
      "Int64Index: 41546 entries, 0 to 42535\n",
      "Data columns (total 2 columns):\n",
      "issue_d    41546 non-null datetime64[ns]\n",
      "target     41546 non-null float64\n",
      "dtypes: datetime64[ns](1), float64(1)\n",
      "memory usage: 973.7 KB\n"
     ]
    }
   ],
   "source": [
    "time_df.info()"
   ]
  },
  {
   "cell_type": "code",
   "execution_count": 34,
   "metadata": {
    "ExecuteTime": {
     "end_time": "2020-03-24T20:11:31.502373Z",
     "start_time": "2020-03-24T20:11:31.494208Z"
    }
   },
   "outputs": [],
   "source": [
    "#time_test = time_df.groupby('issue_d').mean()"
   ]
  },
  {
   "cell_type": "code",
   "execution_count": 36,
   "metadata": {
    "ExecuteTime": {
     "end_time": "2020-03-24T20:12:16.021140Z",
     "start_time": "2020-03-24T20:12:16.013884Z"
    }
   },
   "outputs": [],
   "source": [
    "#time_test['target'] = 1- time_test['target']"
   ]
  },
  {
   "cell_type": "code",
   "execution_count": 38,
   "metadata": {
    "ExecuteTime": {
     "end_time": "2020-03-24T20:13:36.836181Z",
     "start_time": "2020-03-24T20:13:36.831033Z"
    }
   },
   "outputs": [],
   "source": [
    "# time_test = time_test.reset_index()"
   ]
  },
  {
   "cell_type": "code",
   "execution_count": 48,
   "metadata": {
    "ExecuteTime": {
     "end_time": "2020-03-24T20:19:03.844259Z",
     "start_time": "2020-03-24T20:19:03.840607Z"
    }
   },
   "outputs": [],
   "source": [
    "#time_test.target=time_test.target*100"
   ]
  },
  {
   "cell_type": "code",
   "execution_count": 61,
   "metadata": {
    "ExecuteTime": {
     "end_time": "2020-03-24T20:27:08.395424Z",
     "start_time": "2020-03-24T20:27:08.030639Z"
    },
    "scrolled": true
   },
   "outputs": [
    {
     "data": {
      "image/png": "[encoded data removed]",
      "text/plain": [
       "<Figure size 1080x450 with 2 Axes>"
      ]
     },
     "metadata": {},
     "output_type": "display_data"
    }
   ],
   "source": [
    "f, (ax1, ax2) = plt.subplots(nrows=1, ncols=2, figsize=(12,5), dpi=90,sharey=True,)\n",
    "f=sns.lineplot(x='date',y='default_rate',data=cdr_us,color='r',ax=ax1)\n",
    "f=sns.lineplot(x='issue_d',y='target',data=time_test,color='b',ax=ax2)\n",
    "plt.xticks(rotation=45);"
   ]
  },
  {
   "cell_type": "markdown",
   "metadata": {},
   "source": [
    "## state by credit_total"
   ]
  },
  {
   "cell_type": "code",
   "execution_count": 63,
   "metadata": {
    "ExecuteTime": {
     "end_time": "2020-03-24T20:54:53.075377Z",
     "start_time": "2020-03-24T20:54:53.071678Z"
    }
   },
   "outputs": [],
   "source": [
    "# state/credit ratio\n",
    "# --> how many credits credits and better bad-loan ratio"
   ]
  },
  {
   "cell_type": "code",
   "execution_count": null,
   "metadata": {},
   "outputs": [],
   "source": []
  }
 ],
 "metadata": {
  "kernelspec": {
   "display_name": "Python [conda env:nf2] *",
   "language": "python",
   "name": "conda-env-nf2-py"
  },
  "language_info": {
   "codemirror_mode": {
    "name": "ipython",
    "version": 3
   },
   "file_extension": ".py",
   "mimetype": "text/x-python",
   "name": "python",
   "nbconvert_exporter": "python",
   "pygments_lexer": "ipython3",
   "version": "3.6.10"
  },
  "toc": {
   "base_numbering": 1,
   "nav_menu": {},
   "number_sections": true,
   "sideBar": true,
   "skip_h1_title": false,
   "title_cell": "Table of Contents",
   "title_sidebar": "Contents",
   "toc_cell": false,
   "toc_position": {},
   "toc_section_display": true,
   "toc_window_display": false
  }
 },
 "nbformat": 4,
 "nbformat_minor": 4
}
