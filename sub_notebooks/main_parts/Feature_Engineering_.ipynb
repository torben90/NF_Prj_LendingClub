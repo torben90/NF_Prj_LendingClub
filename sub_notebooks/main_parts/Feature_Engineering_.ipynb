{
 "cells": [
  {
   "cell_type": "markdown",
   "metadata": {},
   "source": [
    "# Imports"
   ]
  },
  {
   "cell_type": "code",
   "execution_count": 43,
   "metadata": {},
   "outputs": [],
   "source": [
    "import pandas as pd\n",
    "import re\n",
    "import numpy as np\n",
    "import os\n",
    "\n",
    "import matplotlib.pyplot as plt\n",
    "import seaborn as sns\n",
    "\n",
    "from sklearn.pipeline import make_pipeline, FeatureUnion\n",
    "from sklearn.preprocessing import StandardScaler, MinMaxScaler\n",
    "from sklearn.tree import DecisionTreeClassifier\n",
    "from sklearn.ensemble import RandomForestClassifier\n",
    "\n",
    "from sklearn.metrics import precision_score, accuracy_score"
   ]
  },
  {
   "cell_type": "markdown",
   "metadata": {},
   "source": [
    "# Macros"
   ]
  },
  {
   "cell_type": "code",
   "execution_count": 5,
   "metadata": {},
   "outputs": [],
   "source": [
    "DATA_FOLDER = '../../data/'\n",
    "FIG_FOLDER = '../../figures/'\n",
    "\n",
    "plt.style.use('seaborn-whitegrid')"
   ]
  },
  {
   "cell_type": "markdown",
   "metadata": {},
   "source": [
    "# Utile Function"
   ]
  },
  {
   "cell_type": "markdown",
   "metadata": {},
   "source": [
    "## Sklean Pipline Pandas support"
   ]
  },
  {
   "cell_type": "code",
   "execution_count": 10,
   "metadata": {},
   "outputs": [],
   "source": [
    "from sklearn.base import BaseEstimator, TransformerMixin\n",
    "\n",
    "class TypeSelector(BaseEstimator, TransformerMixin):\n",
    "    def __init__(self, dtype):\n",
    "        self.dtype = dtype\n",
    "\n",
    "    def fit(self, X, y=None):\n",
    "        return self\n",
    "\n",
    "    def transform(self, X):\n",
    "        assert isinstance(X, pd.DataFrame)\n",
    "        return X.select_dtypes(include=[self.dtype])\n",
    "    \n",
    "class ColumnSelector(BaseEstimator, TransformerMixin):\n",
    "    def __init__(self, columns):\n",
    "        self.columns = columns\n",
    "\n",
    "    def fit(self, X, y=None):\n",
    "        return self\n",
    "\n",
    "    def transform(self, X):\n",
    "        assert isinstance(X, pd.DataFrame)\n",
    "\n",
    "        try:\n",
    "            return X[self.columns]\n",
    "        except KeyError:\n",
    "            cols_error = list(set(self.columns) - set(X.columns))\n",
    "            raise KeyError(\"The DataFrame does not include the columns: %s\" % cols_error)"
   ]
  },
  {
   "cell_type": "markdown",
   "metadata": {},
   "source": [
    "## Save Fig"
   ]
  },
  {
   "cell_type": "code",
   "execution_count": 11,
   "metadata": {},
   "outputs": [],
   "source": [
    "def save_fig(sec_name, fig_name, tight_layout=True):\n",
    "    path = os.path.join(FIG_FOLDER , sec_name + '_'  + fig_name + \".png\")\n",
    "    print(\"Saving figure\", fig_name)\n",
    "    if tight_layout:\n",
    "        plt.tight_layout()\n",
    "    plt.savefig(path, format='png', dpi=600)"
   ]
  },
  {
   "cell_type": "markdown",
   "metadata": {},
   "source": [
    "# Feature Engineering"
   ]
  },
  {
   "cell_type": "markdown",
   "metadata": {},
   "source": [
    "## Employment_title_ident"
   ]
  },
  {
   "cell_type": "markdown",
   "metadata": {},
   "source": [
    "### Section Data Import"
   ]
  },
  {
   "cell_type": "code",
   "execution_count": 3,
   "metadata": {},
   "outputs": [],
   "source": [
    "df = pd.read_pickle(DATA_FOLDER + 'clean_pass_01p2_Ptarget.pkl')\n",
    "\n",
    "# https://www.kaggle.com/ash316/forbes-top-2000-companies\n",
    "df_company = pd.read_csv(DATA_FOLDER + 'forbes2013.csv') # company names to get label for known companys"
   ]
  },
  {
   "cell_type": "markdown",
   "metadata": {},
   "source": [
    "### match known companys"
   ]
  },
  {
   "cell_type": "code",
   "execution_count": 4,
   "metadata": {},
   "outputs": [],
   "source": [
    "df['emp_ident'] = df['emp_title']"
   ]
  },
  {
   "cell_type": "code",
   "execution_count": 5,
   "metadata": {},
   "outputs": [],
   "source": [
    "KNOWN_COMPANY_MARKER = 'known_company'\n",
    "\n",
    "def title_id_known_company(emp_title_entry):\n",
    "    try:\n",
    "        founds = df_company.Company.str.contains(emp_title_entry).value_counts()\n",
    "    except:\n",
    "        return emp_title_entry\n",
    "    \n",
    "    if len(founds)>1:\n",
    "         return KNOWN_COMPANY_MARKER\n",
    "    else:\n",
    "        return emp_title_entry"
   ]
  },
  {
   "cell_type": "code",
   "execution_count": 6,
   "metadata": {},
   "outputs": [
    {
     "name": "stderr",
     "output_type": "stream",
     "text": [
      "/Users/arnescheunemann/opt/anaconda3/envs/nf2/lib/python3.6/site-packages/ipykernel_launcher.py:5: UserWarning: This pattern has match groups. To actually get the groups, use str.extract.\n",
      "  \"\"\"\n"
     ]
    }
   ],
   "source": [
    "df['emp_ident'] = df['emp_ident'].apply(lambda emp_title: title_id_known_company(emp_title))\n",
    "#df['emp_ident'].value_counts()"
   ]
  },
  {
   "cell_type": "markdown",
   "metadata": {},
   "source": [
    "### match groups like army, public, self employment ..."
   ]
  },
  {
   "cell_type": "code",
   "execution_count": 7,
   "metadata": {},
   "outputs": [],
   "source": [
    "def title_to_ident(emp_title_entry):\n",
    "    if emp_title_entry == KNOWN_COMPANY_MARKER:\n",
    "        return emp_title_entry\n",
    "    elif (re.search('Army|Military',emp_title_entry ,re.I) is None) == False :\n",
    "        return 'army'\n",
    "    elif (re.search('self',emp_title_entry ,re.I) is None) == False :\n",
    "        return 'self_emp'\n",
    "    elif (re.search('city|state|public|district|school|schools|Government|Sheriff|county|civil|police|National Guard',emp_title_entry ,re.I) is None) == False :\n",
    "        return 'puplic'\n",
    "    elif (re.search('bank',emp_title_entry ,re.I) is None) == False :\n",
    "        return 'bank'\n",
    "    else:\n",
    "        return 'unknown' "
   ]
  },
  {
   "cell_type": "code",
   "execution_count": 10,
   "metadata": {},
   "outputs": [
    {
     "data": {
      "text/plain": [
       "unknown          31255\n",
       "puplic            3696\n",
       "known_company     2464\n",
       "bank               696\n",
       "army               476\n",
       "self_emp           231\n",
       "Name: emp_ident, dtype: int64"
      ]
     },
     "execution_count": 10,
     "metadata": {},
     "output_type": "execute_result"
    }
   ],
   "source": [
    "df['emp_ident'] = df['emp_ident'].apply(lambda emp_title: title_to_ident(emp_title))\n",
    "df['emp_ident'].value_counts()"
   ]
  },
  {
   "cell_type": "markdown",
   "metadata": {},
   "source": [
    "### Export data with feature added"
   ]
  },
  {
   "cell_type": "code",
   "execution_count": 11,
   "metadata": {},
   "outputs": [],
   "source": [
    "df.to_pickle(DATA_FOLDER + 'clean_pass_01p2_Ptarget_FPemp_ident.pkl')"
   ]
  },
  {
   "cell_type": "markdown",
   "metadata": {},
   "source": [
    "## feature importance test"
   ]
  },
  {
   "cell_type": "markdown",
   "metadata": {},
   "source": [
    "### Section data import"
   ]
  },
  {
   "cell_type": "code",
   "execution_count": 6,
   "metadata": {},
   "outputs": [],
   "source": [
    "df = pd.read_pickle(DATA_FOLDER + 'clean_pass_01p2_Ptarget_FPemp_ident.pkl')"
   ]
  },
  {
   "cell_type": "markdown",
   "metadata": {},
   "source": [
    "### pick the possible features "
   ]
  },
  {
   "cell_type": "code",
   "execution_count": 7,
   "metadata": {},
   "outputs": [],
   "source": [
    "\n",
    "x_col = ['addr_state',\n",
    "'annual_inc',\n",
    "'dti',\n",
    "'emp_length',\n",
    "'home_ownership',\n",
    "'loan_amnt',\n",
    "'open_acc',\n",
    "'pub_rec',\n",
    "'pub_rec_bankruptcies',\n",
    "'purpose',\n",
    "'term',\n",
    "'verification_status',\n",
    " 'emp_ident']\n",
    "\n",
    "y_col = ['target']\n",
    "\n",
    "df_x = df[x_col]\n",
    "df_y = df[y_col]"
   ]
  },
  {
   "cell_type": "markdown",
   "metadata": {},
   "source": [
    "### Encoding the dummys with pandas"
   ]
  },
  {
   "cell_type": "code",
   "execution_count": 8,
   "metadata": {},
   "outputs": [
    {
     "name": "stdout",
     "output_type": "stream",
     "text": [
      "<class 'pandas.core.frame.DataFrame'>\n",
      "Int64Index: 38818 entries, 1 to 42474\n",
      "Data columns (total 80 columns):\n",
      "annual_inc                             38818 non-null float64\n",
      "dti                                    38818 non-null float64\n",
      "emp_length                             38818 non-null float64\n",
      "loan_amnt                              38818 non-null float64\n",
      "open_acc                               38818 non-null float64\n",
      "pub_rec                                38818 non-null float64\n",
      "pub_rec_bankruptcies                   38818 non-null int64\n",
      "addr_state_AL                          38818 non-null uint8\n",
      "addr_state_AR                          38818 non-null uint8\n",
      "addr_state_AZ                          38818 non-null uint8\n",
      "addr_state_CA                          38818 non-null uint8\n",
      "addr_state_CO                          38818 non-null uint8\n",
      "addr_state_CT                          38818 non-null uint8\n",
      "addr_state_DC                          38818 non-null uint8\n",
      "addr_state_DE                          38818 non-null uint8\n",
      "addr_state_FL                          38818 non-null uint8\n",
      "addr_state_GA                          38818 non-null uint8\n",
      "addr_state_HI                          38818 non-null uint8\n",
      "addr_state_IA                          38818 non-null uint8\n",
      "addr_state_ID                          38818 non-null uint8\n",
      "addr_state_IL                          38818 non-null uint8\n",
      "addr_state_IN                          38818 non-null uint8\n",
      "addr_state_KS                          38818 non-null uint8\n",
      "addr_state_KY                          38818 non-null uint8\n",
      "addr_state_LA                          38818 non-null uint8\n",
      "addr_state_MA                          38818 non-null uint8\n",
      "addr_state_MD                          38818 non-null uint8\n",
      "addr_state_ME                          38818 non-null uint8\n",
      "addr_state_MI                          38818 non-null uint8\n",
      "addr_state_MN                          38818 non-null uint8\n",
      "addr_state_MO                          38818 non-null uint8\n",
      "addr_state_MS                          38818 non-null uint8\n",
      "addr_state_MT                          38818 non-null uint8\n",
      "addr_state_NC                          38818 non-null uint8\n",
      "addr_state_NE                          38818 non-null uint8\n",
      "addr_state_NH                          38818 non-null uint8\n",
      "addr_state_NJ                          38818 non-null uint8\n",
      "addr_state_NM                          38818 non-null uint8\n",
      "addr_state_NV                          38818 non-null uint8\n",
      "addr_state_NY                          38818 non-null uint8\n",
      "addr_state_OH                          38818 non-null uint8\n",
      "addr_state_OK                          38818 non-null uint8\n",
      "addr_state_OR                          38818 non-null uint8\n",
      "addr_state_PA                          38818 non-null uint8\n",
      "addr_state_RI                          38818 non-null uint8\n",
      "addr_state_SC                          38818 non-null uint8\n",
      "addr_state_SD                          38818 non-null uint8\n",
      "addr_state_TN                          38818 non-null uint8\n",
      "addr_state_TX                          38818 non-null uint8\n",
      "addr_state_UT                          38818 non-null uint8\n",
      "addr_state_VA                          38818 non-null uint8\n",
      "addr_state_VT                          38818 non-null uint8\n",
      "addr_state_WA                          38818 non-null uint8\n",
      "addr_state_WI                          38818 non-null uint8\n",
      "addr_state_WV                          38818 non-null uint8\n",
      "addr_state_WY                          38818 non-null uint8\n",
      "home_ownership_OTHER                   38818 non-null uint8\n",
      "home_ownership_OWN                     38818 non-null uint8\n",
      "home_ownership_RENT                    38818 non-null uint8\n",
      "purpose_credit_card                    38818 non-null uint8\n",
      "purpose_debt_consolidation             38818 non-null uint8\n",
      "purpose_educational                    38818 non-null uint8\n",
      "purpose_home_improvement               38818 non-null uint8\n",
      "purpose_house                          38818 non-null uint8\n",
      "purpose_major_purchase                 38818 non-null uint8\n",
      "purpose_medical                        38818 non-null uint8\n",
      "purpose_moving                         38818 non-null uint8\n",
      "purpose_other                          38818 non-null uint8\n",
      "purpose_renewable_energy               38818 non-null uint8\n",
      "purpose_small_business                 38818 non-null uint8\n",
      "purpose_vacation                       38818 non-null uint8\n",
      "purpose_wedding                        38818 non-null uint8\n",
      "term_60m                               38818 non-null uint8\n",
      "verification_status_Source Verified    38818 non-null uint8\n",
      "verification_status_Verified           38818 non-null uint8\n",
      "emp_ident_bank                         38818 non-null uint8\n",
      "emp_ident_known_company                38818 non-null uint8\n",
      "emp_ident_puplic                       38818 non-null uint8\n",
      "emp_ident_self_emp                     38818 non-null uint8\n",
      "emp_ident_unknown                      38818 non-null uint8\n",
      "dtypes: float64(6), int64(1), uint8(73)\n",
      "memory usage: 5.1 MB\n"
     ]
    }
   ],
   "source": [
    "df_x_encoded = pd.get_dummies(df_x, drop_first=True)\n",
    "#for i in df_x_encoded.columns:\n",
    "#    print(i)\n",
    "df_x_encoded.info()"
   ]
  },
  {
   "cell_type": "markdown",
   "metadata": {},
   "source": [
    "### create preprocessing pipeline"
   ]
  },
  {
   "cell_type": "code",
   "execution_count": 12,
   "metadata": {},
   "outputs": [],
   "source": [
    "preprocess_pipeline = make_pipeline(\n",
    "    ColumnSelector(columns=df_x_encoded.columns),\n",
    "    FeatureUnion(transformer_list=[\n",
    "        (\"numeric_features\", make_pipeline(\n",
    "            TypeSelector('float64'),\n",
    "            StandardScaler()\n",
    "        )),\n",
    "        (\"bool_features\", make_pipeline(\n",
    "            TypeSelector('int64'),\n",
    "        )),\n",
    "        (\"dummy_features\", make_pipeline(\n",
    "            TypeSelector('uint8'),\n",
    "        )),\n",
    "        #(\"categorical_features\", make_pipeline(\n",
    "        #    TypeSelector(\"category\"),\n",
    "        #    OneHotEncoder()\n",
    "        #)),\n",
    "    ]))"
   ]
  },
  {
   "cell_type": "code",
   "execution_count": 13,
   "metadata": {},
   "outputs": [
    {
     "name": "stdout",
     "output_type": "stream",
     "text": [
      "(38818, 80)\n",
      "(38818, 80)\n"
     ]
    },
    {
     "data": {
      "text/plain": [
       "(38818, 1)"
      ]
     },
     "execution_count": 13,
     "metadata": {},
     "output_type": "execute_result"
    }
   ],
   "source": [
    "# checks onf the preprocessing pipline\n",
    "preprocess_pipeline.fit(df_x_encoded)\n",
    "X_transformed = preprocess_pipeline.transform(df_x_encoded)    \n",
    "print(X_transformed.shape)\n",
    "print(df_x_encoded.shape)\n",
    "df_y.shape\n",
    "#df.info()"
   ]
  },
  {
   "cell_type": "markdown",
   "metadata": {},
   "source": [
    "### calculate decision tree importance"
   ]
  },
  {
   "cell_type": "code",
   "execution_count": 14,
   "metadata": {},
   "outputs": [
    {
     "name": "stdout",
     "output_type": "stream",
     "text": [
      "1.0\n"
     ]
    },
    {
     "data": {
      "text/plain": [
       "1.0"
      ]
     },
     "execution_count": 14,
     "metadata": {},
     "output_type": "execute_result"
    }
   ],
   "source": [
    "clf = DecisionTreeClassifier()\n",
    "#clf = RandomForestClassifier(n_estimators=6,max_leaf_nodes=2)\n",
    "clf.fit(X_transformed, df_y)\n",
    "importance = clf.feature_importances_\n",
    "importance = pd.DataFrame(importance, index=df_x_encoded.columns, columns=[\"Importance\"])\n",
    "importance = importance.sort_values(['Importance'], ascending=True)\n",
    "print(precision_score(df_y.values, clf.predict(X_transformed)))\n",
    "accuracy_score(df_y, clf.predict(X_transformed))"
   ]
  },
  {
   "cell_type": "code",
   "execution_count": 15,
   "metadata": {},
   "outputs": [
    {
     "name": "stdout",
     "output_type": "stream",
     "text": [
      "Saving figure dectree_feat_importance\n"
     ]
    },
    {
     "data": {
      "image/png": "[encoded data removed]",
      "text/plain": [
       "<Figure size 576x576 with 1 Axes>"
      ]
     },
     "metadata": {},
     "output_type": "display_data"
    }
   ],
   "source": [
    "# create plot with joined importance of dummys\n",
    "importance_join = pd.DataFrame(index = df_x.columns)\n",
    "for i1 in df_x.select_dtypes('object').columns:\n",
    "    #print(i1)\n",
    "    t_sum = 0\n",
    "    for i2 in importance.index:\n",
    "        if i1 in i2:\n",
    "            #print ('--' + i2)\n",
    "            t_sum += importance.loc[i2,'Importance']\n",
    "    \n",
    "    importance_join.loc[i1,'Importance'] = t_sum\n",
    "            \n",
    "for i in df_x.select_dtypes(np.number).columns:\n",
    "    importance_join.loc[i,'Importance'] = importance.loc[i,'Importance']\n",
    "    \n",
    "importance_join = importance_join.sort_values(['Importance'], ascending=True)\n",
    "importance_join.plot(kind='barh', figsize=(8,8))\n",
    "\n",
    "save_fig('feat_eng', 'dectree_feat_importance', tight_layout=True)"
   ]
  },
  {
   "cell_type": "code",
   "execution_count": null,
   "metadata": {},
   "outputs": [],
   "source": []
  },
  {
   "cell_type": "markdown",
   "metadata": {},
   "source": [
    "## feature correlation"
   ]
  },
  {
   "cell_type": "markdown",
   "metadata": {},
   "source": [
    "### Section data import"
   ]
  },
  {
   "cell_type": "code",
   "execution_count": 16,
   "metadata": {},
   "outputs": [],
   "source": [
    "df = pd.read_pickle(DATA_FOLDER + 'clean_pass_01p2_Ptarget_FPemp_ident.pkl')"
   ]
  },
  {
   "cell_type": "markdown",
   "metadata": {},
   "source": [
    "### correlation head map"
   ]
  },
  {
   "cell_type": "code",
   "execution_count": 17,
   "metadata": {},
   "outputs": [],
   "source": [
    "x_col = ['addr_state',\n",
    "'annual_inc',\n",
    "'dti',\n",
    "'emp_length',\n",
    "'home_ownership',\n",
    "'loan_amnt',\n",
    "'open_acc',\n",
    "'pub_rec',\n",
    "'pub_rec_bankruptcies',\n",
    "'purpose',\n",
    "'term',\n",
    "'verification_status',\n",
    " 'emp_ident']\n",
    "\n",
    "y_col = ['target']"
   ]
  },
  {
   "cell_type": "code",
   "execution_count": 18,
   "metadata": {},
   "outputs": [],
   "source": [
    "# calculate the correlation matrix\n",
    "df_xy_encoded = pd.get_dummies(df[y_col + x_col], drop_first=True)\n",
    "corr = df_xy_encoded.corr()\n",
    "\n",
    "corr = corr.target\n",
    "importance.name = 'correlation'\n",
    "\n"
   ]
  },
  {
   "cell_type": "code",
   "execution_count": 24,
   "metadata": {},
   "outputs": [
    {
     "data": {
      "text/plain": [
       "term                    0.156560\n",
       "loan_amnt               0.055218\n",
       "pub_rec                 0.053128\n",
       "pub_rec_bankruptcies    0.050241\n",
       "dti                     0.045651\n",
       "purpose                 0.041740\n",
       "annual_inc              0.035885\n",
       "verification_status     0.033529\n",
       "home_ownership          0.031948\n",
       "addr_state              0.019093\n",
       "emp_length              0.018520\n",
       "open_acc                0.002009\n",
       "emp_ident               0.000184\n",
       "dtype: float64"
      ]
     },
     "execution_count": 24,
     "metadata": {},
     "output_type": "execute_result"
    }
   ],
   "source": [
    "corr_join = pd.Series(index = df[y_col + x_col].columns)\n",
    "for i1 in df[y_col + x_col].select_dtypes('object').columns:\n",
    "    #print(i1)\n",
    "    t_sum = 0\n",
    "    for i2 in corr.index:\n",
    "        if i1 in i2:\n",
    "            #print ('--' + i2)\n",
    "            t_sum += corr[i2]\n",
    "    \n",
    "    corr_join.loc[i1] = t_sum\n",
    "            \n",
    "for i in df[y_col + x_col].select_dtypes(np.number).columns:\n",
    "    corr_join[i] = corr[i]\n",
    "    \n",
    "corr_join.apply(lambda x: abs(x)).sort_values(ascending = False).drop('target')"
   ]
  },
  {
   "cell_type": "code",
   "execution_count": 26,
   "metadata": {},
   "outputs": [
    {
     "name": "stdout",
     "output_type": "stream",
     "text": [
      "Saving figure feat_target_corr\n"
     ]
    },
    {
     "data": {
      "image/png": "[encoded data removed]",
      "text/plain": [
       "<Figure size 576x576 with 1 Axes>"
      ]
     },
     "metadata": {},
     "output_type": "display_data"
    }
   ],
   "source": [
    "corr_join.apply(lambda x: abs(x)).sort_values(ascending = True).drop('target').plot(kind='barh', figsize=(8,8))\n",
    "save_fig('feat_eng', 'feat_target_corr', tight_layout=True)"
   ]
  },
  {
   "cell_type": "markdown",
   "metadata": {},
   "source": [
    "## Combine correlation and feature importance (you need both in memory)"
   ]
  },
  {
   "cell_type": "code",
   "execution_count": 45,
   "metadata": {},
   "outputs": [
    {
     "data": {
      "text/html": [
       "<div>\n",
       "<style scoped>\n",
       "    .dataframe tbody tr th:only-of-type {\n",
       "        vertical-align: middle;\n",
       "    }\n",
       "\n",
       "    .dataframe tbody tr th {\n",
       "        vertical-align: top;\n",
       "    }\n",
       "\n",
       "    .dataframe thead th {\n",
       "        text-align: right;\n",
       "    }\n",
       "</style>\n",
       "<table border=\"1\" class=\"dataframe\">\n",
       "  <thead>\n",
       "    <tr style=\"text-align: right;\">\n",
       "      <th></th>\n",
       "      <th>Importance</th>\n",
       "      <th>correlation</th>\n",
       "      <th>c</th>\n",
       "      <th>i</th>\n",
       "      <th>sum</th>\n",
       "    </tr>\n",
       "  </thead>\n",
       "  <tbody>\n",
       "    <tr>\n",
       "      <th>dti</th>\n",
       "      <td>0.180349</td>\n",
       "      <td>0.045651</td>\n",
       "      <td>0.290753</td>\n",
       "      <td>0.920449</td>\n",
       "      <td>0.605601</td>\n",
       "    </tr>\n",
       "    <tr>\n",
       "      <th>addr_state</th>\n",
       "      <td>0.195742</td>\n",
       "      <td>0.019093</td>\n",
       "      <td>0.120923</td>\n",
       "      <td>1.000000</td>\n",
       "      <td>0.560461</td>\n",
       "    </tr>\n",
       "    <tr>\n",
       "      <th>term</th>\n",
       "      <td>0.024511</td>\n",
       "      <td>0.156560</td>\n",
       "      <td>1.000000</td>\n",
       "      <td>0.115079</td>\n",
       "      <td>0.557539</td>\n",
       "    </tr>\n",
       "    <tr>\n",
       "      <th>annual_inc</th>\n",
       "      <td>0.146095</td>\n",
       "      <td>0.035885</td>\n",
       "      <td>0.228302</td>\n",
       "      <td>0.743426</td>\n",
       "      <td>0.485864</td>\n",
       "    </tr>\n",
       "    <tr>\n",
       "      <th>loan_amnt</th>\n",
       "      <td>0.120713</td>\n",
       "      <td>0.055218</td>\n",
       "      <td>0.351934</td>\n",
       "      <td>0.612252</td>\n",
       "      <td>0.482093</td>\n",
       "    </tr>\n",
       "    <tr>\n",
       "      <th>purpose</th>\n",
       "      <td>0.069347</td>\n",
       "      <td>0.041740</td>\n",
       "      <td>0.265748</td>\n",
       "      <td>0.346792</td>\n",
       "      <td>0.306270</td>\n",
       "    </tr>\n",
       "    <tr>\n",
       "      <th>open_acc</th>\n",
       "      <td>0.094195</td>\n",
       "      <td>0.002009</td>\n",
       "      <td>0.011673</td>\n",
       "      <td>0.475206</td>\n",
       "      <td>0.243439</td>\n",
       "    </tr>\n",
       "    <tr>\n",
       "      <th>emp_length</th>\n",
       "      <td>0.072460</td>\n",
       "      <td>0.018520</td>\n",
       "      <td>0.117261</td>\n",
       "      <td>0.362878</td>\n",
       "      <td>0.240069</td>\n",
       "    </tr>\n",
       "    <tr>\n",
       "      <th>verification_status</th>\n",
       "      <td>0.034033</td>\n",
       "      <td>0.033529</td>\n",
       "      <td>0.213237</td>\n",
       "      <td>0.164286</td>\n",
       "      <td>0.188761</td>\n",
       "    </tr>\n",
       "    <tr>\n",
       "      <th>pub_rec</th>\n",
       "      <td>0.004138</td>\n",
       "      <td>0.053128</td>\n",
       "      <td>0.338572</td>\n",
       "      <td>0.009791</td>\n",
       "      <td>0.174182</td>\n",
       "    </tr>\n",
       "    <tr>\n",
       "      <th>home_ownership</th>\n",
       "      <td>0.027296</td>\n",
       "      <td>0.031948</td>\n",
       "      <td>0.203129</td>\n",
       "      <td>0.129473</td>\n",
       "      <td>0.166301</td>\n",
       "    </tr>\n",
       "    <tr>\n",
       "      <th>pub_rec_bankruptcies</th>\n",
       "      <td>0.002243</td>\n",
       "      <td>0.050241</td>\n",
       "      <td>0.320108</td>\n",
       "      <td>0.000000</td>\n",
       "      <td>0.160054</td>\n",
       "    </tr>\n",
       "    <tr>\n",
       "      <th>emp_ident</th>\n",
       "      <td>0.028876</td>\n",
       "      <td>0.000184</td>\n",
       "      <td>0.000000</td>\n",
       "      <td>0.137637</td>\n",
       "      <td>0.068819</td>\n",
       "    </tr>\n",
       "  </tbody>\n",
       "</table>\n",
       "</div>"
      ],
      "text/plain": [
       "                      Importance  correlation         c         i       sum\n",
       "dti                     0.180349     0.045651  0.290753  0.920449  0.605601\n",
       "addr_state              0.195742     0.019093  0.120923  1.000000  0.560461\n",
       "term                    0.024511     0.156560  1.000000  0.115079  0.557539\n",
       "annual_inc              0.146095     0.035885  0.228302  0.743426  0.485864\n",
       "loan_amnt               0.120713     0.055218  0.351934  0.612252  0.482093\n",
       "purpose                 0.069347     0.041740  0.265748  0.346792  0.306270\n",
       "open_acc                0.094195     0.002009  0.011673  0.475206  0.243439\n",
       "emp_length              0.072460     0.018520  0.117261  0.362878  0.240069\n",
       "verification_status     0.034033     0.033529  0.213237  0.164286  0.188761\n",
       "pub_rec                 0.004138     0.053128  0.338572  0.009791  0.174182\n",
       "home_ownership          0.027296     0.031948  0.203129  0.129473  0.166301\n",
       "pub_rec_bankruptcies    0.002243     0.050241  0.320108  0.000000  0.160054\n",
       "emp_ident               0.028876     0.000184  0.000000  0.137637  0.068819"
      ]
     },
     "execution_count": 45,
     "metadata": {},
     "output_type": "execute_result"
    }
   ],
   "source": [
    "imcor = importance_join.join(pd.DataFrame(corr_join.apply(lambda x: abs(x)), columns=['correlation']))\n",
    "imcor['c'] = MinMaxScaler().fit_transform(imcor.correlation.values.reshape(-1, 1))\n",
    "imcor['i'] = MinMaxScaler().fit_transform(imcor.Importance.values.reshape(-1, 1))\n",
    "imcor = imcor.eval('sum = (c + i)/2')\n",
    "imcor.sort_values(by=['sum'], ascending = False)"
   ]
  },
  {
   "cell_type": "markdown",
   "metadata": {},
   "source": [
    "--- > this can be used to choose the features"
   ]
  },
  {
   "cell_type": "code",
   "execution_count": null,
   "metadata": {},
   "outputs": [],
   "source": []
  }
 ],
 "metadata": {
  "kernelspec": {
   "display_name": "Python [conda env:nf2] *",
   "language": "python",
   "name": "conda-env-nf2-py"
  },
  "language_info": {
   "codemirror_mode": {
    "name": "ipython",
    "version": 3
   },
   "file_extension": ".py",
   "mimetype": "text/x-python",
   "name": "python",
   "nbconvert_exporter": "python",
   "pygments_lexer": "ipython3",
   "version": "3.6.10"
  },
  "toc": {
   "base_numbering": 1,
   "nav_menu": {},
   "number_sections": true,
   "sideBar": true,
   "skip_h1_title": false,
   "title_cell": "Table of Contents",
   "title_sidebar": "Contents",
   "toc_cell": false,
   "toc_position": {},
   "toc_section_display": true,
   "toc_window_display": true
  }
 },
 "nbformat": 4,
 "nbformat_minor": 4
}
