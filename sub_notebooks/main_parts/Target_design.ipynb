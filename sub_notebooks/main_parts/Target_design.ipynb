{
 "cells": [
  {
   "cell_type": "markdown",
   "metadata": {},
   "source": [
    "# Imports"
   ]
  },
  {
   "cell_type": "code",
   "execution_count": 1,
   "metadata": {},
   "outputs": [],
   "source": [
    "import pandas as pd"
   ]
  },
  {
   "cell_type": "markdown",
   "metadata": {},
   "source": [
    "# Macros"
   ]
  },
  {
   "cell_type": "code",
   "execution_count": 2,
   "metadata": {},
   "outputs": [],
   "source": [
    "DATA_FOLDER = '../../data/'\n",
    "FIG_FOLDER = '../../figures/'"
   ]
  },
  {
   "cell_type": "markdown",
   "metadata": {},
   "source": [
    "# Utile Function"
   ]
  },
  {
   "cell_type": "markdown",
   "metadata": {},
   "source": [
    "# Target design / engineering\n",
    "From Task disc.: \n",
    "The purpose of the analysis is to reduce defaults , \n",
    "improve profitability and help the \n",
    "company and investors determine interest rates. \n",
    "\n",
    "This means we have to find somthing like default or charge off for negativ and fully payed as postive\n",
    "the column loan_status host such information\n"
   ]
  },
  {
   "cell_type": "markdown",
   "metadata": {},
   "source": [
    "## Section Data import"
   ]
  },
  {
   "cell_type": "code",
   "execution_count": 3,
   "metadata": {},
   "outputs": [],
   "source": [
    "df = pd.read_pickle(DATA_FOLDER + 'clean_pass_01p2.pkl')\n",
    "OrgRowCount = df.shape[0]\n",
    "OrgColCount = df.shape[1]"
   ]
  },
  {
   "cell_type": "markdown",
   "metadata": {},
   "source": [
    "## Encode the Loan Status to binary"
   ]
  },
  {
   "cell_type": "code",
   "execution_count": 4,
   "metadata": {},
   "outputs": [
    {
     "data": {
      "text/plain": [
       "Fully Paid                                             33052\n",
       "Charged Off                                             5606\n",
       "Does not meet the credit policy. Status:Fully Paid      1917\n",
       "Current                                                  961\n",
       "Does not meet the credit policy. Status:Charged Off      738\n",
       "Late (31-120 days)                                        24\n",
       "In Grace Period                                           20\n",
       "Late (16-30 days)                                          8\n",
       "Default                                                    3\n",
       "Name: loan_status, dtype: int64"
      ]
     },
     "execution_count": 4,
     "metadata": {},
     "output_type": "execute_result"
    }
   ],
   "source": [
    "df.loan_status.value_counts()"
   ]
  },
  {
   "cell_type": "markdown",
   "metadata": {},
   "source": [
    "Encode mapping:\n",
    "* Fully Paid - postive\n",
    "* Does not meet the credit policy. Status:Fully Paid - postive based on   compare on annul income\n",
    "\n",
    "* Current - (half postive not evaluated therfor drop)\n",
    "\n",
    "* Charged off - negative\n",
    "* Does not meet the credit policy. Status:Charged Off - negative\n",
    "\n",
    "* Late (31-120 days) - negative \n",
    "\n",
    "* Late (16-30 days) - (half postive not evaluated therfor drop)\n",
    "* In Grace Period - (half postive not evaluated therfor drop)\n",
    "\n",
    "* Default - negative"
   ]
  },
  {
   "cell_type": "code",
   "execution_count": 5,
   "metadata": {},
   "outputs": [],
   "source": [
    "def DefTargetFrom_loan_Status(s):\n",
    "    if s=='Fully Paid':\n",
    "        return 1\n",
    "    elif s=='Does not meet the credit policy. Status:Fully Paid':\n",
    "        return 1\n",
    "    elif s=='Charged Off':\n",
    "        return 0\n",
    "    elif s=='Does not meet the credit policy. Status:Charged Off':\n",
    "        return 0\n",
    "    elif s=='Late (31-120 days)':\n",
    "        return 0\n",
    "    elif s=='Default':\n",
    "        return 0\n",
    "    else:\n",
    "        return None # all others define as None to drop them from data \n",
    "\n",
    "# read status to new column - target    \n",
    "df['target'] = df.loan_status.apply(lambda x: DefTargetFrom_loan_Status(x))\n",
    "\n",
    "# kill the view not \n",
    "df.isna().sum()\n",
    "df = df.dropna()\n",
    "#df.shape"
   ]
  },
  {
   "cell_type": "markdown",
   "metadata": {},
   "source": [
    "## Export Cleaned Data "
   ]
  },
  {
   "cell_type": "code",
   "execution_count": 6,
   "metadata": {},
   "outputs": [
    {
     "name": "stdout",
     "output_type": "stream",
     "text": [
      "8.294549835809962% data loss of cleaning\n"
     ]
    }
   ],
   "source": [
    "df.to_pickle(DATA_FOLDER + 'clean_pass_01p2_Ptarget.pkl')\n",
    "print(f'{(1-df.shape[0]/OrgRowCount)*100}% data loss of cleaning')"
   ]
  }
 ],
 "metadata": {
  "kernelspec": {
   "display_name": "Python [conda env:nf2] *",
   "language": "python",
   "name": "conda-env-nf2-py"
  },
  "language_info": {
   "codemirror_mode": {
    "name": "ipython",
    "version": 3
   },
   "file_extension": ".py",
   "mimetype": "text/x-python",
   "name": "python",
   "nbconvert_exporter": "python",
   "pygments_lexer": "ipython3",
   "version": "3.6.10"
  },
  "toc": {
   "base_numbering": 1,
   "nav_menu": {},
   "number_sections": true,
   "sideBar": true,
   "skip_h1_title": false,
   "title_cell": "Table of Contents",
   "title_sidebar": "Contents",
   "toc_cell": false,
   "toc_position": {},
   "toc_section_display": true,
   "toc_window_display": false
  }
 },
 "nbformat": 4,
 "nbformat_minor": 4
}
