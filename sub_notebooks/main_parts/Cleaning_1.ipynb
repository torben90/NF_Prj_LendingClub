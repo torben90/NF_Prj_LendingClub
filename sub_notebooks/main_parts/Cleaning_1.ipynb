{
 "cells": [
  {
   "cell_type": "markdown",
   "metadata": {},
   "source": [
    "# Imports"
   ]
  },
  {
   "cell_type": "code",
   "execution_count": 1,
   "metadata": {},
   "outputs": [],
   "source": [
    "import pandas as pd\n",
    "import re"
   ]
  },
  {
   "cell_type": "markdown",
   "metadata": {},
   "source": [
    "# Macros"
   ]
  },
  {
   "cell_type": "code",
   "execution_count": 2,
   "metadata": {},
   "outputs": [],
   "source": [
    "DATA_FOLDER = '../../data/'\n",
    "FIG_FOLDER = '../../figures/'"
   ]
  },
  {
   "cell_type": "code",
   "execution_count": 3,
   "metadata": {},
   "outputs": [
    {
     "data": {
      "text/plain": [
       "3"
      ]
     },
     "execution_count": 3,
     "metadata": {},
     "output_type": "execute_result"
    }
   ],
   "source": [
    "3"
   ]
  },
  {
   "cell_type": "markdown",
   "metadata": {},
   "source": [
    "# Utile Function"
   ]
  },
  {
   "cell_type": "code",
   "execution_count": null,
   "metadata": {},
   "outputs": [],
   "source": []
  },
  {
   "cell_type": "markdown",
   "metadata": {},
   "source": [
    "# Cleaning"
   ]
  },
  {
   "cell_type": "markdown",
   "metadata": {},
   "source": [
    "## Inital Data import"
   ]
  },
  {
   "cell_type": "code",
   "execution_count": 4,
   "metadata": {},
   "outputs": [
    {
     "name": "stderr",
     "output_type": "stream",
     "text": [
      "/Users/arnescheunemann/opt/anaconda3/envs/nf2/lib/python3.6/site-packages/IPython/core/interactiveshell.py:3063: DtypeWarning: Columns (0) have mixed types. Specify dtype option on import or set low_memory=False.\n",
      "  interactivity=interactivity, compiler=compiler, result=result)\n"
     ]
    }
   ],
   "source": [
    "df = pd.read_csv(DATA_FOLDER + 'loans_2007.csv')\n",
    "OrgRowCount = df.shape[0]\n",
    "OrgColCount = df.shape[1]"
   ]
  },
  {
   "cell_type": "markdown",
   "metadata": {},
   "source": [
    "## dealing with NAN and numbers in strings "
   ]
  },
  {
   "cell_type": "code",
   "execution_count": 5,
   "metadata": {},
   "outputs": [],
   "source": [
    "# drop dublicated last rows seem to be sum of above and None lines\n",
    "df = df.drop_duplicates()\n",
    "## there seems to 3 with many empty cells so this is fine\n",
    "df = df.dropna(thresh=50,axis=0)\n",
    "df = df[~df.revol_util.isna()]\n",
    "df = df[~df.last_credit_pull_d.isna()]"
   ]
  },
  {
   "cell_type": "code",
   "execution_count": 6,
   "metadata": {},
   "outputs": [],
   "source": [
    "# transfer string 'num%' to number 0-1\n",
    "df.revol_util = df.revol_util.apply(lambda x: str(x).replace('%','')).astype('float64')/100\n",
    "df.int_rate = df.int_rate.apply(lambda x: str(x).replace('%','')).astype('float64')/100"
   ]
  },
  {
   "cell_type": "code",
   "execution_count": 7,
   "metadata": {},
   "outputs": [],
   "source": [
    "# emp_length transfrom form string to number (<1 years ,  years, 10+ years etc)\n",
    "def Trans_empValue(s):\n",
    "    if type(s) is float:\n",
    "        return 0.\n",
    "    if re.search('\\<',s):\n",
    "        return 0.5\n",
    "    else:\n",
    "        return float(re.search('\\d+',s).group())\n",
    "\n",
    "df.emp_length = df.emp_length.apply(lambda x: Trans_empValue(x))"
   ]
  },
  {
   "cell_type": "code",
   "execution_count": 8,
   "metadata": {},
   "outputs": [
    {
     "data": {
      "text/plain": [
       "0    40476\n",
       "1     1853\n",
       "Name: pub_rec_bankruptcies, dtype: int64"
      ]
     },
     "execution_count": 8,
     "metadata": {},
     "output_type": "execute_result"
    }
   ],
   "source": [
    "# no info about bakrupcie will be interpreted as none\n",
    "df.pub_rec_bankruptcies = df.pub_rec_bankruptcies.fillna(0.0).astype('uint8')\n",
    "# cap the very view that have amount of 2 ( could be spouses etc...)\n",
    "df.pub_rec_bankruptcies = df.pub_rec_bankruptcies.apply(lambda x: 1 if x > 0 else 0)\n",
    "df.pub_rec_bankruptcies.value_counts()"
   ]
  },
  {
   "cell_type": "code",
   "execution_count": 9,
   "metadata": {},
   "outputs": [
    {
     "data": {
      "text/plain": [
       "Charged Off                                            62\n",
       "Does not meet the credit policy. Status:Charged Off    12\n",
       "Name: loan_status, dtype: int64"
      ]
     },
     "metadata": {},
     "output_type": "display_data"
    }
   ],
   "source": [
    "# small feature engineering for EDA - actualy missplaced in the chapter but was easy to do\n",
    "display(df[df.last_pymnt_d.isna()].loan_status.value_counts())\n",
    "df['has_made_pymnt'] = df.last_pymnt_d.apply(lambda x: 1 if x else 0)\n",
    "df = df.drop(['last_pymnt_d'],axis=1)"
   ]
  },
  {
   "cell_type": "markdown",
   "metadata": {},
   "source": [
    "## Droping columns with no information"
   ]
  },
  {
   "cell_type": "code",
   "execution_count": 10,
   "metadata": {},
   "outputs": [],
   "source": [
    "# title could be filtered by keyword debt etc.. but catgoriy of purpose does better job thereby drop it\n",
    "df = df.drop(['title'], axis=1)"
   ]
  },
  {
   "cell_type": "code",
   "execution_count": 11,
   "metadata": {},
   "outputs": [],
   "source": [
    "# collections_12_mths_ex_med and chargeoff_within_12_mths drop the column all are the same = 0.0\n",
    "df = df.drop(['chargeoff_within_12_mths', 'collections_12_mths_ex_med'], axis=1)\n",
    "# application_type - only indvitual in the data can be droped\n",
    "df = df.drop(['application_type'],axis=1)\n",
    "# no info \n",
    "df = df.drop(['initial_list_status'],axis=1)\n",
    "# no info in the data \n",
    "df = df.drop(['acc_now_delinq'],axis=1)\n",
    "# not much info only 2 \n",
    "df = df.drop(['delinq_amnt'],axis=1)\n",
    "# only one value diffrent\n",
    "df = df.drop(['tax_liens'],axis=1)\n",
    "# all have no only one is yes\n",
    "df = df.drop(['pymnt_plan'],axis=1)\n",
    "# all are 1\n",
    "df = df.drop(['policy_code'],axis=1)"
   ]
  },
  {
   "cell_type": "markdown",
   "metadata": {},
   "source": [
    "## recheck on the NAN "
   ]
  },
  {
   "cell_type": "code",
   "execution_count": 12,
   "metadata": {},
   "outputs": [
    {
     "data": {
      "text/plain": [
       "id                            0\n",
       "member_id                     0\n",
       "loan_amnt                     0\n",
       "funded_amnt                   0\n",
       "funded_amnt_inv               0\n",
       "term                          0\n",
       "int_rate                      0\n",
       "installment                   0\n",
       "grade                         0\n",
       "sub_grade                     0\n",
       "emp_title                  2590\n",
       "emp_length                    0\n",
       "home_ownership                0\n",
       "annual_inc                    0\n",
       "verification_status           0\n",
       "issue_d                       0\n",
       "loan_status                   0\n",
       "purpose                       0\n",
       "zip_code                      0\n",
       "addr_state                    0\n",
       "dti                           0\n",
       "delinq_2yrs                   0\n",
       "earliest_cr_line              0\n",
       "inq_last_6mths                0\n",
       "open_acc                      0\n",
       "pub_rec                       0\n",
       "revol_bal                     0\n",
       "revol_util                    0\n",
       "total_acc                     0\n",
       "out_prncp                     0\n",
       "out_prncp_inv                 0\n",
       "total_pymnt                   0\n",
       "total_pymnt_inv               0\n",
       "total_rec_prncp               0\n",
       "total_rec_int                 0\n",
       "total_rec_late_fee            0\n",
       "recoveries                    0\n",
       "collection_recovery_fee       0\n",
       "last_pymnt_amnt               0\n",
       "last_credit_pull_d            0\n",
       "pub_rec_bankruptcies          0\n",
       "has_made_pymnt                0\n",
       "dtype: int64"
      ]
     },
     "execution_count": 12,
     "metadata": {},
     "output_type": "execute_result"
    }
   ],
   "source": [
    "df.isnull().sum()"
   ]
  },
  {
   "cell_type": "markdown",
   "metadata": {},
   "source": [
    "--- > leavs only the emp_title -> push to feature engineering"
   ]
  },
  {
   "cell_type": "markdown",
   "metadata": {},
   "source": [
    "## Dublication check on ids"
   ]
  },
  {
   "cell_type": "code",
   "execution_count": 13,
   "metadata": {},
   "outputs": [
    {
     "name": "stdout",
     "output_type": "stream",
     "text": [
      "False    42329\n",
      "Name: id, dtype: int64\n",
      "False    42329\n",
      "Name: member_id, dtype: int64\n"
     ]
    }
   ],
   "source": [
    "print(df.id.duplicated().value_counts())\n",
    "print(df.member_id.duplicated().value_counts())"
   ]
  },
  {
   "cell_type": "markdown",
   "metadata": {},
   "source": [
    "--- > no doubles therfor the id has no value for prediction and nothing needs to be cleaned"
   ]
  },
  {
   "cell_type": "code",
   "execution_count": 14,
   "metadata": {},
   "outputs": [],
   "source": [
    "df = df.drop(['id','member_id'],axis=1)"
   ]
  },
  {
   "cell_type": "markdown",
   "metadata": {},
   "source": [
    "## Objects in the data check shellow if categorys"
   ]
  },
  {
   "cell_type": "code",
   "execution_count": 15,
   "metadata": {},
   "outputs": [
    {
     "name": "stdout",
     "output_type": "stream",
     "text": [
      "<class 'pandas.core.frame.DataFrame'>\n",
      "Int64Index: 42329 entries, 0 to 42474\n",
      "Data columns (total 13 columns):\n",
      "term                   42329 non-null object\n",
      "grade                  42329 non-null object\n",
      "sub_grade              42329 non-null object\n",
      "emp_title              39739 non-null object\n",
      "home_ownership         42329 non-null object\n",
      "verification_status    42329 non-null object\n",
      "issue_d                42329 non-null object\n",
      "loan_status            42329 non-null object\n",
      "purpose                42329 non-null object\n",
      "zip_code               42329 non-null object\n",
      "addr_state             42329 non-null object\n",
      "earliest_cr_line       42329 non-null object\n",
      "last_credit_pull_d     42329 non-null object\n",
      "dtypes: object(13)\n",
      "memory usage: 4.5+ MB\n"
     ]
    }
   ],
   "source": [
    "df.select_dtypes('object').info()"
   ]
  },
  {
   "cell_type": "code",
   "execution_count": 16,
   "metadata": {},
   "outputs": [],
   "source": [
    "## Term seems to be 36 month or 60 month ... keep category but make shorter and kill spaces\n",
    "df.term = df.term.apply(lambda x: str(x).replace(' ', '').replace('months','m'))"
   ]
  },
  {
   "cell_type": "code",
   "execution_count": 17,
   "metadata": {},
   "outputs": [],
   "source": [
    "#combine NONE and OTHER since there are only 2\n",
    "# print(df.home_ownership.value_counts())\n",
    "df.home_ownership = df.home_ownership.apply(lambda x: 'OTHER' if x=='NONE' else x)\n"
   ]
  },
  {
   "cell_type": "markdown",
   "metadata": {},
   "source": [
    "_d columns have date info - > push to feature engineering dealing with datetime "
   ]
  },
  {
   "cell_type": "markdown",
   "metadata": {},
   "source": [
    "## Export Cleaned Data "
   ]
  },
  {
   "cell_type": "code",
   "execution_count": 18,
   "metadata": {},
   "outputs": [
    {
     "name": "stdout",
     "output_type": "stream",
     "text": [
      "0.4913254031689296% data loss of cleaning\n"
     ]
    }
   ],
   "source": [
    "df.to_pickle(DATA_FOLDER + 'clean_pass_01p2.pkl')\n",
    "print(f'{(1-df.shape[0]/OrgRowCount)*100}% data loss of cleaning')"
   ]
  },
  {
   "cell_type": "code",
   "execution_count": null,
   "metadata": {},
   "outputs": [],
   "source": []
  }
 ],
 "metadata": {
  "kernelspec": {
   "display_name": "Python [conda env:nf2] *",
   "language": "python",
   "name": "conda-env-nf2-py"
  },
  "language_info": {
   "codemirror_mode": {
    "name": "ipython",
    "version": 3
   },
   "file_extension": ".py",
   "mimetype": "text/x-python",
   "name": "python",
   "nbconvert_exporter": "python",
   "pygments_lexer": "ipython3",
   "version": "3.6.10"
  },
  "toc": {
   "base_numbering": 1,
   "nav_menu": {},
   "number_sections": true,
   "sideBar": true,
   "skip_h1_title": false,
   "title_cell": "Table of Contents",
   "title_sidebar": "Contents",
   "toc_cell": false,
   "toc_position": {},
   "toc_section_display": true,
   "toc_window_display": false
  }
 },
 "nbformat": 4,
 "nbformat_minor": 4
}
