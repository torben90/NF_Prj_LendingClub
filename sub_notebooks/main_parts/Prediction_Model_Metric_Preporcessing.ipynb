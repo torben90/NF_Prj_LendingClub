{
 "cells": [
  {
   "cell_type": "markdown",
   "metadata": {},
   "source": [
    "# Import"
   ]
  },
  {
   "cell_type": "code",
   "execution_count": 49,
   "metadata": {},
   "outputs": [],
   "source": [
    "import pandas as pd\n",
    "import re\n",
    "import numpy as np\n",
    "import os\n",
    "\n",
    "import matplotlib.pyplot as plt\n",
    "import seaborn as sns\n",
    "\n",
    "from sklearn.pipeline import make_pipeline, FeatureUnion\n",
    "from sklearn.preprocessing import StandardScaler, MinMaxScaler, FunctionTransformer, Normalizer #,power_transform\n",
    "from sklearn.tree import DecisionTreeClassifier\n",
    "from sklearn.ensemble import RandomForestClassifier\n",
    "from sklearn.model_selection import train_test_split\n",
    "\n",
    "from sklearn.metrics import precision_score, accuracy_score\n",
    "from sklearn.metrics import roc_auc_score,classification_report, roc_curve, auc,accuracy_score, confusion_matrix, precision_score, log_loss, fbeta_score"
   ]
  },
  {
   "cell_type": "markdown",
   "metadata": {},
   "source": [
    "# Macros"
   ]
  },
  {
   "cell_type": "code",
   "execution_count": 10,
   "metadata": {},
   "outputs": [],
   "source": [
    "DATA_FOLDER = '../../data/'\n",
    "FIG_FOLDER = '../../figures/'\n",
    "\n",
    "plt.style.use('seaborn-whitegrid')"
   ]
  },
  {
   "cell_type": "markdown",
   "metadata": {},
   "source": [
    "# Utile Function"
   ]
  },
  {
   "cell_type": "markdown",
   "metadata": {},
   "source": [
    "## Sklean Pipline Pandas support"
   ]
  },
  {
   "cell_type": "code",
   "execution_count": 23,
   "metadata": {},
   "outputs": [],
   "source": [
    "from sklearn.base import BaseEstimator, TransformerMixin\n",
    "\n",
    "class TypeSelector(BaseEstimator, TransformerMixin):\n",
    "    def __init__(self, dtype):\n",
    "        self.dtype = dtype\n",
    "\n",
    "    def fit(self, X, y=None):\n",
    "        return self\n",
    "\n",
    "    def transform(self, X):\n",
    "        assert isinstance(X, pd.DataFrame)\n",
    "        return X.select_dtypes(include=[self.dtype])\n",
    "    \n",
    "class ColumnSelector(BaseEstimator, TransformerMixin):\n",
    "    def __init__(self, columns):\n",
    "        self.columns = columns\n",
    "\n",
    "    def fit(self, X, y=None):\n",
    "        return self\n",
    "\n",
    "    def transform(self, X):\n",
    "        assert isinstance(X, pd.DataFrame)\n",
    "\n",
    "        try:\n",
    "            return X[self.columns]\n",
    "        except KeyError:\n",
    "            cols_error = list(set(self.columns) - set(X.columns))\n",
    "            raise KeyError(\"The DataFrame does not include the columns: %s\" % cols_error)"
   ]
  },
  {
   "cell_type": "markdown",
   "metadata": {},
   "source": [
    "# Prediction Model"
   ]
  },
  {
   "cell_type": "markdown",
   "metadata": {},
   "source": [
    "## section data import "
   ]
  },
  {
   "cell_type": "code",
   "execution_count": 12,
   "metadata": {},
   "outputs": [],
   "source": [
    "df = pd.read_pickle(DATA_FOLDER + 'clean_pass_01p2_Ptarget_FPemp_ident.pkl')"
   ]
  },
  {
   "cell_type": "markdown",
   "metadata": {},
   "source": [
    "## Medric / Score"
   ]
  },
  {
   "cell_type": "markdown",
   "metadata": {},
   "source": [
    "### Model Metric - main assumtions\n",
    "\n",
    "Main goal for business \n",
    "* Specificity / Selectivity\n",
    "* try to avoid FP but also get TN right \n",
    "* the assumption that you will always find members/borrowers \n",
    "* investors are viewer and need to get investment reasons - no FP \n",
    "\n",
    "Prediction verfication:\n",
    "* propabuilty is needed for risk assement\n",
    "* the estimate must represent simmiler entropy then ground truth \n",
    "* ground truth is not balanced \n",
    "* --> cross entropy loss is taken in account to give indication"
   ]
  },
  {
   "cell_type": "markdown",
   "metadata": {},
   "source": [
    "### Model Performance Overview function"
   ]
  },
  {
   "cell_type": "code",
   "execution_count": 13,
   "metadata": {},
   "outputs": [],
   "source": [
    "def Model_Vali(m, X_train, X_test, y_train, y_test, thres=0.5):\n",
    "    \n",
    "    \n",
    "    y_ins_pred= m.predict(X_train)\n",
    "    y_outs_pred= m.predict(X_test)\n",
    "    y_base = np.ones(len(X_test))\n",
    "    try:\n",
    "        y_ins_pred_p= m.predict_proba(X_train)[:, 1]\n",
    "        y_outs_pred_p= m.predict_proba(X_test)[:, 1]\n",
    "        if thres!=0.5:\n",
    "\n",
    "            y_ins_pred = [1. if e > thres else 0. for e in y_ins_pred_p]\n",
    "            y_outs_pred = [1. if e > thres else 0. for e in y_outs_pred_p]\n",
    "    except:\n",
    "        y_ins_pred_p= y_ins_pred\n",
    "        y_outs_pred_p= y_ins_pred \n",
    "    \n",
    "    print('--')\n",
    "    print(f'base  precision = {precision_score(y_test, y_base)}')\n",
    "    print(f'test  precision = {precision_score(y_test, y_outs_pred)}')\n",
    "    print(f'train precision = {precision_score(y_train, y_ins_pred)}')\n",
    "    print('--')\n",
    "    print(f'base  ROC-AUC = {roc_auc_score(y_test, y_base)}')\n",
    "    print(f'test  ROC-AUC = {roc_auc_score(y_test, y_outs_pred)}')\n",
    "    print(f'train ROC-AUC = {roc_auc_score(y_train, y_ins_pred)}')\n",
    "    print('--')\n",
    "    print(f'base  accuracy = {accuracy_score(y_test, y_base)}')\n",
    "    print(f'test  accuracy = {accuracy_score(y_test, y_outs_pred)}')\n",
    "    print(f'train accuracy = {accuracy_score(y_train, y_ins_pred)}')\n",
    "    print('--')\n",
    "    #print(f'base  log_loss = {log_loss(y_test, y_base)}')\n",
    "    print(f'test  log_loss = {log_loss(y_test, y_outs_pred_p)}')\n",
    "    print(f'train log_loss = {log_loss(y_train, y_ins_pred_p)}')\n",
    "    print('--')\n",
    "    print(f'base  TNR = {TNR(y_test, y_base)}')\n",
    "    print(f'test  TNR = {TNR(y_test, y_outs_pred)}')\n",
    "    print(f'train TNR = {TNR(y_train, y_ins_pred)}')\n",
    "    \n",
    "    # log_loss\n",
    "    print('--')\n",
    "    cm = pd.DataFrame(confusion_matrix(y_test, y_outs_pred), \n",
    "                 index=[['actual', 'actual'], ['neg', 'pos']], \n",
    "                 columns=[['predicted', 'predicted'], ['neg', 'pos']])\n",
    "    print('confusion matrix of test')\n",
    "    display(cm)\n",
    "    print('--')\n",
    "    print(classification_report(y_test, y_outs_pred)) \n",
    "    \n",
    "    base_fpr, base_tpr, base_tresh = roc_curve(y_test, y_base)\n",
    "    test_fpr, test_tpr, test_tresh = roc_curve(y_test, y_outs_pred_p)\n",
    "    train_fpr, train_tpr, train_tresh = roc_curve(y_train, y_ins_pred_p)\n",
    "    plt.plot(base_fpr, base_tpr, 'b', label = 'baseline')\n",
    "    plt.plot(test_fpr, test_tpr, 'r', label = 'model-test')\n",
    "    plt.plot(train_fpr, train_tpr, 'g', label = 'model-train')\n",
    "    plt.plot(train_fpr, train_tresh, 'k--', label = 'thresh')\n",
    "    print(len(train_tresh))\n",
    "    plt.legend();\n",
    "    plt.xlabel('False Positive Rate'); \n",
    "    plt.ylabel('True Positive Rate'); plt.title('ROC Curves');\n",
    "    plt.show();"
   ]
  },
  {
   "cell_type": "markdown",
   "metadata": {},
   "source": [
    "### Model Performance Overview function - short"
   ]
  },
  {
   "cell_type": "code",
   "execution_count": 14,
   "metadata": {},
   "outputs": [],
   "source": [
    "def Model_Vali_short(m, X_train, X_test, y_train, y_test, thres=0.5):\n",
    "    y_ins_pred= m.predict(X_train)\n",
    "    y_outs_pred= m.predict(X_test)\n",
    "    y_base = np.ones(len(X_test))\n",
    "    try:\n",
    "        y_ins_pred_p= m.predict_proba(X_train)[:, 1]\n",
    "        y_outs_pred_p= m.predict_proba(X_test)[:, 1]\n",
    "        if thres!=0.5:\n",
    "\n",
    "            y_ins_pred = [1. if e > thres else 0. for e in y_ins_pred_p]\n",
    "            y_outs_pred = [1. if e > thres else 0. for e in y_outs_pred_p]\n",
    "    except:\n",
    "        y_ins_pred_p= y_ins_pred\n",
    "        y_outs_pred_p= y_ins_pred \n",
    "        \n",
    "    print(f'base  log_loss = {log_loss(y_test, y_base)}')\n",
    "    print(f'test  log_loss = {log_loss(y_test, y_outs_pred_p)}')\n",
    "    print(f'train log_loss = {log_loss(y_train, y_ins_pred_p)}')\n",
    "    print('--')\n",
    "    print(f'base  TNR = {TNR(y_test, y_base)}')\n",
    "    print(f'test  TNR = {TNR(y_test, y_outs_pred)}')\n",
    "    print(f'train TNR = {TNR(y_train, y_ins_pred)}')"
   ]
  },
  {
   "cell_type": "markdown",
   "metadata": {},
   "source": [
    "### Core Score function "
   ]
  },
  {
   "cell_type": "code",
   "execution_count": null,
   "metadata": {},
   "outputs": [],
   "source": [
    "def TNR(y_true, y_pred):\n",
    "    return confusion_matrix(y_true, y_pred)[0, 0] / \\\n",
    "    (confusion_matrix(y_true, y_pred)[0, 1]+confusion_matrix(y_true, y_pred)[0, 0])\n",
    "\n",
    "def ll(y_true, y_pred):\n",
    "    return log_loss(y_true, y_pred)\n",
    "\n",
    "def special_PPV(y_true, y_pred): \n",
    "    return confusion_matrix(y_true, y_pred)[1, 1] / \\\n",
    "    (confusion_matrix(y_true, y_pred)[0, 1]*100+confusion_matrix(y_true, y_pred)[1, 1])"
   ]
  },
  {
   "cell_type": "markdown",
   "metadata": {},
   "source": [
    "## Preprocessing"
   ]
  },
  {
   "cell_type": "markdown",
   "metadata": {},
   "source": [
    "### feature selection and marking"
   ]
  },
  {
   "cell_type": "code",
   "execution_count": 105,
   "metadata": {},
   "outputs": [],
   "source": [
    "## All possible features\n",
    "x_col_all = [\n",
    "'addr_state',\n",
    "'annual_inc',\n",
    "'dti',\n",
    "'emp_length',\n",
    "'home_ownership',\n",
    "'loan_amnt',\n",
    "'open_acc',\n",
    "'pub_rec',\n",
    "'pub_rec_bankruptcies',\n",
    "'purpose',\n",
    "'term',\n",
    "'verification_status',\n",
    " 'emp_ident']\n",
    "\n",
    "# Target\n",
    "y_col = ['target']\n",
    "\n",
    "## Taken in account features\n",
    "x_col_select = [\n",
    "'dti',\n",
    "'addr_state',\n",
    "'term',\n",
    "'annual_inc',\n",
    "'loan_amnt',\n",
    "'purpose',\n",
    "'pub_rec',\n",
    "'verification_status']\n",
    "x_col_select = x_col_all\n",
    "## Taken in account features\n",
    "df_x = df[x_col_select]\n",
    "df_y = df[y_col]"
   ]
  },
  {
   "cell_type": "code",
   "execution_count": 106,
   "metadata": {},
   "outputs": [
    {
     "data": {
      "text/plain": [
       "0.0    36688\n",
       "1.0     2058\n",
       "2.0       59\n",
       "3.0       10\n",
       "4.0        2\n",
       "5.0        1\n",
       "Name: pub_rec, dtype: int64"
      ]
     },
     "execution_count": 106,
     "metadata": {},
     "output_type": "execute_result"
    }
   ],
   "source": [
    "df.pub_rec.value_counts()"
   ]
  },
  {
   "cell_type": "markdown",
   "metadata": {},
   "source": [
    "### Encoding - dummy cration"
   ]
  },
  {
   "cell_type": "code",
   "execution_count": 107,
   "metadata": {},
   "outputs": [
    {
     "name": "stdout",
     "output_type": "stream",
     "text": [
      "<class 'pandas.core.frame.DataFrame'>\n",
      "Int64Index: 38818 entries, 1 to 42474\n",
      "Data columns (total 80 columns):\n",
      "annual_inc                             38818 non-null float64\n",
      "dti                                    38818 non-null float64\n",
      "emp_length                             38818 non-null float64\n",
      "loan_amnt                              38818 non-null float64\n",
      "open_acc                               38818 non-null float64\n",
      "pub_rec                                38818 non-null float64\n",
      "pub_rec_bankruptcies                   38818 non-null int64\n",
      "addr_state_AL                          38818 non-null uint8\n",
      "addr_state_AR                          38818 non-null uint8\n",
      "addr_state_AZ                          38818 non-null uint8\n",
      "addr_state_CA                          38818 non-null uint8\n",
      "addr_state_CO                          38818 non-null uint8\n",
      "addr_state_CT                          38818 non-null uint8\n",
      "addr_state_DC                          38818 non-null uint8\n",
      "addr_state_DE                          38818 non-null uint8\n",
      "addr_state_FL                          38818 non-null uint8\n",
      "addr_state_GA                          38818 non-null uint8\n",
      "addr_state_HI                          38818 non-null uint8\n",
      "addr_state_IA                          38818 non-null uint8\n",
      "addr_state_ID                          38818 non-null uint8\n",
      "addr_state_IL                          38818 non-null uint8\n",
      "addr_state_IN                          38818 non-null uint8\n",
      "addr_state_KS                          38818 non-null uint8\n",
      "addr_state_KY                          38818 non-null uint8\n",
      "addr_state_LA                          38818 non-null uint8\n",
      "addr_state_MA                          38818 non-null uint8\n",
      "addr_state_MD                          38818 non-null uint8\n",
      "addr_state_ME                          38818 non-null uint8\n",
      "addr_state_MI                          38818 non-null uint8\n",
      "addr_state_MN                          38818 non-null uint8\n",
      "addr_state_MO                          38818 non-null uint8\n",
      "addr_state_MS                          38818 non-null uint8\n",
      "addr_state_MT                          38818 non-null uint8\n",
      "addr_state_NC                          38818 non-null uint8\n",
      "addr_state_NE                          38818 non-null uint8\n",
      "addr_state_NH                          38818 non-null uint8\n",
      "addr_state_NJ                          38818 non-null uint8\n",
      "addr_state_NM                          38818 non-null uint8\n",
      "addr_state_NV                          38818 non-null uint8\n",
      "addr_state_NY                          38818 non-null uint8\n",
      "addr_state_OH                          38818 non-null uint8\n",
      "addr_state_OK                          38818 non-null uint8\n",
      "addr_state_OR                          38818 non-null uint8\n",
      "addr_state_PA                          38818 non-null uint8\n",
      "addr_state_RI                          38818 non-null uint8\n",
      "addr_state_SC                          38818 non-null uint8\n",
      "addr_state_SD                          38818 non-null uint8\n",
      "addr_state_TN                          38818 non-null uint8\n",
      "addr_state_TX                          38818 non-null uint8\n",
      "addr_state_UT                          38818 non-null uint8\n",
      "addr_state_VA                          38818 non-null uint8\n",
      "addr_state_VT                          38818 non-null uint8\n",
      "addr_state_WA                          38818 non-null uint8\n",
      "addr_state_WI                          38818 non-null uint8\n",
      "addr_state_WV                          38818 non-null uint8\n",
      "addr_state_WY                          38818 non-null uint8\n",
      "home_ownership_OTHER                   38818 non-null uint8\n",
      "home_ownership_OWN                     38818 non-null uint8\n",
      "home_ownership_RENT                    38818 non-null uint8\n",
      "purpose_credit_card                    38818 non-null uint8\n",
      "purpose_debt_consolidation             38818 non-null uint8\n",
      "purpose_educational                    38818 non-null uint8\n",
      "purpose_home_improvement               38818 non-null uint8\n",
      "purpose_house                          38818 non-null uint8\n",
      "purpose_major_purchase                 38818 non-null uint8\n",
      "purpose_medical                        38818 non-null uint8\n",
      "purpose_moving                         38818 non-null uint8\n",
      "purpose_other                          38818 non-null uint8\n",
      "purpose_renewable_energy               38818 non-null uint8\n",
      "purpose_small_business                 38818 non-null uint8\n",
      "purpose_vacation                       38818 non-null uint8\n",
      "purpose_wedding                        38818 non-null uint8\n",
      "term_60m                               38818 non-null uint8\n",
      "verification_status_Source Verified    38818 non-null uint8\n",
      "verification_status_Verified           38818 non-null uint8\n",
      "emp_ident_bank                         38818 non-null uint8\n",
      "emp_ident_known_company                38818 non-null uint8\n",
      "emp_ident_puplic                       38818 non-null uint8\n",
      "emp_ident_self_emp                     38818 non-null uint8\n",
      "emp_ident_unknown                      38818 non-null uint8\n",
      "dtypes: float64(6), int64(1), uint8(73)\n",
      "memory usage: 6.3 MB\n"
     ]
    }
   ],
   "source": [
    "df_x_encoded = pd.get_dummies(df_x, drop_first=True)\n",
    "#for i in df_x_encoded.columns:\n",
    "#    print(i)\n",
    "df_x_encoded.info()"
   ]
  },
  {
   "cell_type": "markdown",
   "metadata": {},
   "source": [
    "### Train Test Split"
   ]
  },
  {
   "cell_type": "code",
   "execution_count": 108,
   "metadata": {},
   "outputs": [],
   "source": [
    "X_train, X_test, y_train, y_test = train_test_split(\n",
    "    df_x_encoded, df_y, test_size=0.3, random_state=25, stratify=df_y)"
   ]
  },
  {
   "cell_type": "markdown",
   "metadata": {},
   "source": [
    "### Transform and Scaling Pipline"
   ]
  },
  {
   "cell_type": "markdown",
   "metadata": {},
   "source": [
    "#### simple preproc pipline"
   ]
  },
  {
   "cell_type": "code",
   "execution_count": 109,
   "metadata": {},
   "outputs": [],
   "source": [
    "preprocess_pipeline_1 = make_pipeline(\n",
    "    ColumnSelector(columns=df_x_encoded.columns),\n",
    "    FeatureUnion(transformer_list=[\n",
    "        (\"numeric_features\", make_pipeline(\n",
    "            TypeSelector('float64'),\n",
    "            StandardScaler()\n",
    "        )),\n",
    "        (\"bool_features\", make_pipeline(\n",
    "            TypeSelector('int64'),\n",
    "        )),\n",
    "        (\"dummy_features\", make_pipeline(\n",
    "            TypeSelector('uint8'),\n",
    "        )),\n",
    "    ]))"
   ]
  },
  {
   "cell_type": "markdown",
   "metadata": {},
   "source": [
    "#### indvitual tranform pipline"
   ]
  },
  {
   "cell_type": "code",
   "execution_count": 110,
   "metadata": {},
   "outputs": [
    {
     "name": "stdout",
     "output_type": "stream",
     "text": [
      "Index(['annual_inc', 'dti', 'emp_length', 'loan_amnt', 'open_acc', 'pub_rec'], dtype='object')\n",
      "Index(['pub_rec_bankruptcies'], dtype='object')\n"
     ]
    }
   ],
   "source": [
    "# print the scalabels \n",
    "print(df_x_encoded.select_dtypes('float').columns)\n",
    "print(df_x_encoded.select_dtypes('int64').columns)"
   ]
  },
  {
   "cell_type": "code",
   "execution_count": 113,
   "metadata": {},
   "outputs": [],
   "source": [
    "preprocess_pipeline_2 = make_pipeline(\n",
    "    ColumnSelector(columns=df_x_encoded.columns),\n",
    "    FeatureUnion(transformer_list= [\n",
    "        (\"sel_1\",\n",
    "        make_pipeline(ColumnSelector(columns=['dti' , 'loan_amnt']),\n",
    "                     FunctionTransformer(lambda x:x),\n",
    "                     StandardScaler()\n",
    "                     )),\n",
    "        (\"sel_2\",\n",
    "        make_pipeline(ColumnSelector(columns=['annual_inc']),\n",
    "                     FunctionTransformer(np.log),\n",
    "                     MinMaxScaler()\n",
    "                     )),\n",
    "        (\"sel_3\",\n",
    "        make_pipeline(ColumnSelector(columns=['pub_rec' , 'emp_length', 'open_acc']),\n",
    "                     FunctionTransformer(lambda x:x),\n",
    "                     MinMaxScaler()\n",
    "                     )),\n",
    "        (\"bool_features\", \n",
    "            make_pipeline(TypeSelector('int64'),\n",
    "        )),\n",
    "        (\"dummy_features\", \n",
    "             make_pipeline(TypeSelector('uint8'),\n",
    "        )),\n",
    "        ])\n",
    "        )"
   ]
  },
  {
   "cell_type": "code",
   "execution_count": 114,
   "metadata": {},
   "outputs": [
    {
     "name": "stdout",
     "output_type": "stream",
     "text": [
      "(27172, 80)\n",
      "(27172, 80)\n"
     ]
    }
   ],
   "source": [
    "t =preprocess_pipeline_2.fit_transform(X_train)\n",
    "print(t.shape)\n",
    "print(X_train.shape)"
   ]
  },
  {
   "cell_type": "code",
   "execution_count": null,
   "metadata": {},
   "outputs": [],
   "source": []
  }
 ],
 "metadata": {
  "kernelspec": {
   "display_name": "Python [conda env:nf2] *",
   "language": "python",
   "name": "conda-env-nf2-py"
  },
  "language_info": {
   "codemirror_mode": {
    "name": "ipython",
    "version": 3
   },
   "file_extension": ".py",
   "mimetype": "text/x-python",
   "name": "python",
   "nbconvert_exporter": "python",
   "pygments_lexer": "ipython3",
   "version": "3.6.10"
  },
  "toc": {
   "base_numbering": 1,
   "nav_menu": {},
   "number_sections": true,
   "sideBar": true,
   "skip_h1_title": false,
   "title_cell": "Table of Contents",
   "title_sidebar": "Contents",
   "toc_cell": false,
   "toc_position": {},
   "toc_section_display": true,
   "toc_window_display": false
  }
 },
 "nbformat": 4,
 "nbformat_minor": 4
}
