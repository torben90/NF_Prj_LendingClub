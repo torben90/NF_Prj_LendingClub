{
 "cells": [
  {
   "cell_type": "code",
   "execution_count": 4,
   "metadata": {},
   "outputs": [],
   "source": [
    "risk = 0.3 # from model\n",
    "loan_amnt = 10000 # credit amount\n",
    "pay_period_in_month = 36\n",
    "\n",
    "\n",
    "breakthrough_cost = loan_amnt*(1+risk)\n",
    "installment = breakthrough_cost / pay_period_in_month\n"
   ]
  },
  {
   "cell_type": "code",
   "execution_count": 5,
   "metadata": {},
   "outputs": [
    {
     "data": {
      "text/plain": [
       "361.1111111111111"
      ]
     },
     "execution_count": 5,
     "metadata": {},
     "output_type": "execute_result"
    }
   ],
   "source": [
    "installment"
   ]
  },
  {
   "cell_type": "code",
   "execution_count": 7,
   "metadata": {},
   "outputs": [],
   "source": [
    "int_rate_no_gain = installment/loan_amnt"
   ]
  },
  {
   "cell_type": "code",
   "execution_count": 8,
   "metadata": {},
   "outputs": [
    {
     "data": {
      "text/plain": [
       "0.03611111111111111"
      ]
     },
     "execution_count": 8,
     "metadata": {},
     "output_type": "execute_result"
    }
   ],
   "source": [
    "int_rate_no_gain"
   ]
  },
  {
   "cell_type": "code",
   "execution_count": 9,
   "metadata": {},
   "outputs": [],
   "source": [
    "base_rate = 0.05"
   ]
  },
  {
   "cell_type": "code",
   "execution_count": 10,
   "metadata": {},
   "outputs": [],
   "source": [
    "final_rate =base_rate+int_rate_no_gain"
   ]
  },
  {
   "cell_type": "code",
   "execution_count": 11,
   "metadata": {},
   "outputs": [
    {
     "data": {
      "text/plain": [
       "0.08611111111111111"
      ]
     },
     "execution_count": 11,
     "metadata": {},
     "output_type": "execute_result"
    }
   ],
   "source": [
    "final_rate"
   ]
  },
  {
   "cell_type": "code",
   "execution_count": 29,
   "metadata": {},
   "outputs": [],
   "source": [
    "def entropy_c(f1,f2):\n",
    "    return -(np.log2(f1)*f2)"
   ]
  },
  {
   "cell_type": "code",
   "execution_count": 39,
   "metadata": {},
   "outputs": [
    {
     "name": "stdout",
     "output_type": "stream",
     "text": [
      "[0.02321928 0.04643856 0.06965784 0.09287712 0.1160964  0.13931569\n",
      " 0.16253497 0.18575425 0.20897353 0.23219281 0.25541209 0.27863137\n",
      " 0.30185065 0.32506993 0.34828921 0.3715085  0.39472778 0.41794706\n",
      " 0.44116634 0.46438562 0.4876049  0.51082418 0.53404346 0.55726274\n",
      " 0.58048202 0.6037013  0.62692059 0.65013987 0.67335915 0.69657843\n",
      " 0.71979771 0.74301699 0.76623627 0.78945555 0.81267483 0.83589411\n",
      " 0.8591134  0.88233268 0.90555196 0.92877124 0.95199052 0.9752098\n",
      " 0.99842908 1.02164836 1.04486764 1.06808692 1.0913062  1.11452549\n",
      " 1.13774477 1.16096405 1.18418333 1.20740261 1.23062189 1.25384117\n",
      " 1.27706045 1.30027973 1.32349901 1.3467183  1.36993758 1.39315686\n",
      " 1.41637614 1.43959542 1.4628147  1.48603398 1.50925326 1.53247254\n",
      " 1.55569182 1.5789111  1.60213039 1.62534967 1.64856895 1.67178823\n",
      " 1.69500751 1.71822679 1.74144607 1.76466535 1.78788463 1.81110391\n",
      " 1.83432319 1.85754248 1.88076176 1.90398104 1.92720032 1.9504196\n",
      " 1.97363888 1.99685816 2.02007744 2.04329672 2.066516   2.08973529\n",
      " 2.11295457 2.13617385 2.15939313 2.18261241 2.20583169 2.22905097\n",
      " 2.25227025 2.27548953 2.29870881 2.32192809]\n"
     ]
    },
    {
     "data": {
      "text/plain": [
       "[<matplotlib.lines.Line2D at 0x117317278>]"
      ]
     },
     "execution_count": 39,
     "metadata": {},
     "output_type": "execute_result"
    },
    {
     "data": {
      "image/png": "[encoded data removed]",
      "text/plain": [
       "<Figure size 432x288 with 1 Axes>"
      ]
     },
     "metadata": {
      "needs_background": "light"
     },
     "output_type": "display_data"
    }
   ],
   "source": [
    "import numpy as np\n",
    "import matplotlib.pyplot as plt\n",
    "\n",
    "def calc_int_rate(coff_risk, pay_back_pirod_in_month, loan_amnt, investor_gain, model_risk):\n",
    "    base_rate = 0.05 # as magic number\n",
    "    Incresing_factor = 10\n",
    "    \n",
    "    #loan amount correcton\n",
    "    if loan_amnt >= 10000:\n",
    "        Incresing_factor = 2\n",
    "    elif loan_amnt > 5000:\n",
    "        Incresing_factor = 3\n",
    "    else:\n",
    "        Incresing_factor = 1.5\n",
    "    \n",
    "    print(coff_risk)\n",
    "    breakthrough_cost = loan_amnt*(1.+coff_risk)\n",
    "    installment = breakthrough_cost / pay_back_pirod_in_month\n",
    "    int_rate_no_gain = installment/loan_amnt\n",
    "    \n",
    "    final_rate =base_rate+int_rate_no_gain*Incresing_factor+investor_gain\n",
    "    \n",
    "    return final_rate\n",
    "\n",
    "\n",
    "pay_back_pirod_in_month = 36\n",
    "Int_Rate_Threshold = 0.3\n",
    "coff_risk =  np.linspace(0.01,1.0,100)\n",
    "loan_amnt = 50\n",
    "investor_gain = 0.00\n",
    "plt.plot(coff_risk*100,calc_int_rate(entropy_c(0.2,coff_risk), pay_back_pirod_in_month, loan_amnt,investor_gain, 0)*100)"
   ]
  },
  {
   "cell_type": "code",
   "execution_count": null,
   "metadata": {},
   "outputs": [],
   "source": []
  }
 ],
 "metadata": {
  "kernelspec": {
   "display_name": "Python [conda env:nf2] *",
   "language": "python",
   "name": "conda-env-nf2-py"
  },
  "language_info": {
   "codemirror_mode": {
    "name": "ipython",
    "version": 3
   },
   "file_extension": ".py",
   "mimetype": "text/x-python",
   "name": "python",
   "nbconvert_exporter": "python",
   "pygments_lexer": "ipython3",
   "version": "3.6.10"
  },
  "toc": {
   "base_numbering": 1,
   "nav_menu": {},
   "number_sections": true,
   "sideBar": true,
   "skip_h1_title": false,
   "title_cell": "Table of Contents",
   "title_sidebar": "Contents",
   "toc_cell": false,
   "toc_position": {},
   "toc_section_display": true,
   "toc_window_display": false
  }
 },
 "nbformat": 4,
 "nbformat_minor": 4
}
