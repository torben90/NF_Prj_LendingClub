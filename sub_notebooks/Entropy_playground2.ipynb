{
 "cells": [
  {
   "cell_type": "code",
   "execution_count": 2,
   "metadata": {},
   "outputs": [],
   "source": [
    "import numpy as np"
   ]
  },
  {
   "cell_type": "code",
   "execution_count": 3,
   "metadata": {},
   "outputs": [
    {
     "data": {
      "text/plain": [
       "0.2068431430675826"
      ]
     },
     "execution_count": 3,
     "metadata": {},
     "output_type": "execute_result"
    }
   ],
   "source": [
    "-np.log2(0.2)*0.2+np.log2(0.8)*0.8"
   ]
  },
  {
   "cell_type": "code",
   "execution_count": 15,
   "metadata": {},
   "outputs": [],
   "source": [
    "def entropy(f):\n",
    "    return -(np.log2(f)*f + np.log2(1-f)*(1-f))"
   ]
  },
  {
   "cell_type": "code",
   "execution_count": 25,
   "metadata": {},
   "outputs": [],
   "source": [
    "def entropy_c(f1,f2):\n",
    "    return -(np.log2(f1)*f1 + np.log2(f2)*(f2))"
   ]
  },
  {
   "cell_type": "code",
   "execution_count": 3,
   "metadata": {},
   "outputs": [],
   "source": [
    "def entropy_c(f1,f2):\n",
    "    return -(np.log2(f1)*f2)"
   ]
  },
  {
   "cell_type": "code",
   "execution_count": 6,
   "metadata": {},
   "outputs": [
    {
     "name": "stdout",
     "output_type": "stream",
     "text": [
      "0.01    0.02\n",
      "0.04    0.1\n",
      "0.08    0.18\n",
      "0.11    0.26\n",
      "0.15    0.34\n",
      "0.18    0.42\n",
      "0.21    0.5\n",
      "0.25    0.58\n",
      "0.28    0.66\n",
      "0.32    0.74\n",
      "0.35    0.82\n",
      "0.39    0.9\n",
      "0.42    0.97\n",
      "0.45    1.05\n",
      "0.49    1.13\n",
      "0.52    1.21\n",
      "0.56    1.29\n",
      "0.59    1.37\n",
      "0.62    1.45\n",
      "0.66    1.53\n",
      "0.69    1.61\n",
      "0.73    1.69\n",
      "0.76    1.77\n",
      "0.8    1.85\n",
      "0.83    1.93\n",
      "0.86    2.0\n",
      "0.9    2.08\n",
      "0.93    2.16\n",
      "0.97    2.24\n",
      "1.0    2.32\n"
     ]
    }
   ],
   "source": [
    "for i in np.linspace(0.01,1.0,30):\n",
    "    print(f'{np.round(i,2)}    {np.round(entropy_c(0.2,i),2)}')"
   ]
  },
  {
   "cell_type": "code",
   "execution_count": 19,
   "metadata": {},
   "outputs": [
    {
     "data": {
      "text/plain": [
       "'C:\\\\Data\\\\PatternMagicProject\\\\Statistic_DataSci\\\\Python\\\\Jupyter_Udemy_ScikitLearn_Regression'"
      ]
     },
     "execution_count": 19,
     "metadata": {},
     "output_type": "execute_result"
    }
   ],
   "source": [
    "pwd)"
   ]
  },
  {
   "cell_type": "code",
   "execution_count": null,
   "metadata": {},
   "outputs": [],
   "source": []
  }
 ],
 "metadata": {
  "kernelspec": {
   "display_name": "Python 3",
   "language": "python",
   "name": "python3"
  },
  "language_info": {
   "codemirror_mode": {
    "name": "ipython",
    "version": 3
   },
   "file_extension": ".py",
   "mimetype": "text/x-python",
   "name": "python",
   "nbconvert_exporter": "python",
   "pygments_lexer": "ipython3",
   "version": "3.6.10"
  },
  "toc": {
   "base_numbering": 1,
   "nav_menu": {},
   "number_sections": true,
   "sideBar": true,
   "skip_h1_title": false,
   "title_cell": "Table of Contents",
   "title_sidebar": "Contents",
   "toc_cell": false,
   "toc_position": {},
   "toc_section_display": true,
   "toc_window_display": false
  }
 },
 "nbformat": 4,
 "nbformat_minor": 2
}
