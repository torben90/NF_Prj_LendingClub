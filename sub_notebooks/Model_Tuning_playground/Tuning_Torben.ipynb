{
 "cells": [
  {
   "cell_type": "markdown",
   "metadata": {},
   "source": [
    "# Import"
   ]
  },
  {
   "cell_type": "code",
   "execution_count": 49,
   "metadata": {
    "ExecuteTime": {
     "end_time": "2020-03-26T12:21:02.676558Z",
     "start_time": "2020-03-26T12:21:02.661839Z"
    }
   },
   "outputs": [],
   "source": [
    "import pandas as pd\n",
    "import re\n",
    "import numpy as np\n",
    "import os\n",
    "\n",
    "import matplotlib.pyplot as plt\n",
    "import seaborn as sns\n",
    "\n",
    "from sklearn.pipeline import make_pipeline, FeatureUnion, Pipeline\n",
    "from sklearn.preprocessing import StandardScaler, MinMaxScaler, FunctionTransformer, Normalizer #,power_transform\n",
    "from sklearn.tree import DecisionTreeClassifier\n",
    "from sklearn.ensemble import RandomForestClassifier\n",
    "from sklearn.linear_model import LogisticRegression\n",
    "from sklearn.naive_bayes import GaussianNB, CategoricalNB\n",
    "from sklearn.ensemble import GradientBoostingClassifier\n",
    "from sklearn.ensemble import AdaBoostClassifier\n",
    "import xgboost as xgb\n",
    "\n",
    "from sklearn.model_selection import train_test_split, GridSearchCV, RandomizedSearchCV\n",
    "\n",
    "from sklearn.metrics import roc_auc_score,classification_report, roc_curve, \\\n",
    "auc,accuracy_score, confusion_matrix, precision_score, log_loss, fbeta_score\n"
   ]
  },
  {
   "cell_type": "markdown",
   "metadata": {},
   "source": [
    "# Macros"
   ]
  },
  {
   "cell_type": "code",
   "execution_count": 2,
   "metadata": {
    "ExecuteTime": {
     "end_time": "2020-03-26T10:07:38.878313Z",
     "start_time": "2020-03-26T10:07:38.864431Z"
    }
   },
   "outputs": [],
   "source": [
    "DATA_FOLDER = '../../data/'\n",
    "FIG_FOLDER = '../../figures/'\n",
    "\n",
    "plt.style.use('seaborn-whitegrid')"
   ]
  },
  {
   "cell_type": "markdown",
   "metadata": {},
   "source": [
    "# Utile Function"
   ]
  },
  {
   "cell_type": "markdown",
   "metadata": {},
   "source": [
    "## Sklean Pipline Pandas support"
   ]
  },
  {
   "cell_type": "code",
   "execution_count": 3,
   "metadata": {
    "ExecuteTime": {
     "end_time": "2020-03-26T10:10:45.281883Z",
     "start_time": "2020-03-26T10:10:45.270486Z"
    }
   },
   "outputs": [],
   "source": [
    "from sklearn.base import BaseEstimator, TransformerMixin\n",
    "\n",
    "class TypeSelector(BaseEstimator, TransformerMixin):\n",
    "    def __init__(self, dtype):\n",
    "        self.dtype = dtype\n",
    "\n",
    "    def fit(self, X, y=None):\n",
    "        return self\n",
    "\n",
    "    def transform(self, X):\n",
    "        assert isinstance(X, pd.DataFrame)\n",
    "        return X.select_dtypes(include=[self.dtype])\n",
    "    \n",
    "class ColumnSelector(BaseEstimator, TransformerMixin):\n",
    "    def __init__(self, columns):\n",
    "        self.columns = columns\n",
    "\n",
    "    def fit(self, X, y=None):\n",
    "        return self\n",
    "\n",
    "    def transform(self, X):\n",
    "        assert isinstance(X, pd.DataFrame)\n",
    "\n",
    "        try:\n",
    "            return X[self.columns]\n",
    "        except KeyError:\n",
    "            cols_error = list(set(self.columns) - set(X.columns))\n",
    "            raise KeyError(\"The DataFrame does not include the columns: %s\" % cols_error)"
   ]
  },
  {
   "cell_type": "markdown",
   "metadata": {},
   "source": [
    "# Prediction Model"
   ]
  },
  {
   "cell_type": "markdown",
   "metadata": {},
   "source": [
    "## section data import "
   ]
  },
  {
   "cell_type": "code",
   "execution_count": 8,
   "metadata": {
    "ExecuteTime": {
     "end_time": "2020-03-26T10:15:14.024077Z",
     "start_time": "2020-03-26T10:15:13.928531Z"
    }
   },
   "outputs": [],
   "source": [
    "df = pd.read_pickle(DATA_FOLDER + 'clean_pass_01p2_Ptarget_FPemp_ident_clean2.pkl')"
   ]
  },
  {
   "cell_type": "markdown",
   "metadata": {},
   "source": [
    "## Metric / Score"
   ]
  },
  {
   "cell_type": "markdown",
   "metadata": {},
   "source": [
    "### Model Metric - main assumtions\n",
    "\n",
    "Main goal for business \n",
    "* Specificity / Selectivity\n",
    "* try to avoid FP but also get TN right \n",
    "* the assumption that you will always find members/borrowers \n",
    "* investors are viewer and need to get investment reasons - no FP \n",
    "\n",
    "Prediction verfication:\n",
    "* propability is needed for risk assement\n",
    "* the estimate must represent similar entropy then ground truth \n",
    "* ground truth is not balanced \n",
    "* --> cross entropy loss is taken in account to give indication"
   ]
  },
  {
   "cell_type": "markdown",
   "metadata": {},
   "source": [
    "### Model Performance Overview function"
   ]
  },
  {
   "cell_type": "code",
   "execution_count": 17,
   "metadata": {
    "ExecuteTime": {
     "end_time": "2020-03-26T10:27:58.517846Z",
     "start_time": "2020-03-26T10:27:58.498163Z"
    }
   },
   "outputs": [],
   "source": [
    "def entropy(y):\n",
    "    return -((np.sum(y)/ len(y))*np.log(np.sum(y)/ len(y)))\n",
    "def rate(y):\n",
    "    return np.sum(y)/ len(y)\n",
    "    \n",
    "def Model_Vali(m, X_train, X_test, y_train, y_test, thres=0.5, cm_print= True):\n",
    "    \n",
    "    \n",
    "    y_ins_pred= m.predict(X_train)\n",
    "    y_outs_pred= m.predict(X_test)\n",
    "    y_base = np.ones(len(X_test))\n",
    "    y_base0 = np.zeros(len(X_test))\n",
    "    try:\n",
    "        y_ins_pred_p= m.predict_proba(X_train)[:, 1]\n",
    "        y_outs_pred_p= m.predict_proba(X_test)[:, 1]\n",
    "        if thres!=0.5:\n",
    "\n",
    "            y_ins_pred = [1. if e > thres else 0. for e in y_ins_pred_p]\n",
    "            y_outs_pred = [1. if e > thres else 0. for e in y_outs_pred_p]\n",
    "    except:\n",
    "        y_ins_pred_p= y_ins_pred\n",
    "        y_outs_pred_p= y_ins_pred \n",
    "    \n",
    "    print(f'train pred. rate = {rate(y_ins_pred)}' )\n",
    "    print(f'train truth rate = {rate(y_train)}' )\n",
    "    print(f'train truth entropy = {entropy(y_train)}' )\n",
    "    print(f'train pred. entropy = {entropy(y_ins_pred)}' )\n",
    "    print(f'test  pred. rate = {rate(y_outs_pred)}' )\n",
    "    print(f'test  truth rate = {rate(y_test)}' )\n",
    "    print(f'test  truth entropy = {entropy(y_test)}' )\n",
    "    print(f'test  pred. entropy = {entropy(y_outs_pred)}' )\n",
    "    \n",
    "    print('--')\n",
    "    print(f'base0  precision = {precision_score(y_test, y_base0)}')\n",
    "    print(f'base  precision = {precision_score(y_test, y_base)}')\n",
    "    print(f'test  precision = {precision_score(y_test, y_outs_pred)}')\n",
    "    print(f'train precision = {precision_score(y_train, y_ins_pred)}')\n",
    "    print('--')\n",
    "    print(f'base  ROC-AUC = {roc_auc_score(y_test, y_base)}')\n",
    "    print(f'test  ROC-AUC = {roc_auc_score(y_test, y_outs_pred)}')\n",
    "    print(f'train ROC-AUC = {roc_auc_score(y_train, y_ins_pred)}')\n",
    "    print('--')\n",
    "    print(f'base  accuracy = {accuracy_score(y_test, y_base)}')\n",
    "    print(f'test  accuracy = {accuracy_score(y_test, y_outs_pred)}')\n",
    "    print(f'train accuracy = {accuracy_score(y_train, y_ins_pred)}')\n",
    "    print('--')\n",
    "    print(f'base  log_loss = {log_loss(y_test, y_base)}')\n",
    "    print(f'test  log_loss = {log_loss(y_test, y_outs_pred_p)}')\n",
    "    print(f'train log_loss = {log_loss(y_train, y_ins_pred_p)}')\n",
    "    print('--')\n",
    "    print(f'base  TNR = {TNR(y_test, y_base)}')\n",
    "    print(f'test  TNR = {TNR(y_test, y_outs_pred)}')\n",
    "    print(f'train TNR = {TNR(y_train, y_ins_pred)}')\n",
    "    \n",
    "    # log_loss\n",
    "    print('--')\n",
    "    cm = pd.DataFrame(confusion_matrix(y_test, y_outs_pred), \n",
    "                 index=[['actual', 'actual'], ['neg', 'pos']], \n",
    "                 columns=[['predicted', 'predicted'], ['neg', 'pos']])\n",
    "    print('confusion matrix of test')\n",
    "    display(cm)\n",
    "    print('--')\n",
    "    print(classification_report(y_test, y_outs_pred)) \n",
    "    \n",
    "    base_fpr, base_tpr, base_tresh = roc_curve(y_test, y_base)\n",
    "    test_fpr, test_tpr, test_tresh = roc_curve(y_test, y_outs_pred_p)\n",
    "    train_fpr, train_tpr, train_tresh = roc_curve(y_train, y_ins_pred_p)\n",
    "    plt.plot(base_fpr, base_tpr, 'b', label = 'baseline')\n",
    "    plt.plot(test_fpr, test_tpr, 'r', label = 'model-test')\n",
    "    plt.plot(train_fpr, train_tpr, 'g', label = 'model-train')\n",
    "    plt.plot(train_fpr, train_tresh, 'k--', label = 'thresh')\n",
    "    print(len(train_tresh))\n",
    "    plt.legend();\n",
    "    plt.xlabel('False Positive Rate'); \n",
    "    plt.ylabel('True Positive Rate'); plt.title('ROC Curves');\n",
    "    plt.show();"
   ]
  },
  {
   "cell_type": "markdown",
   "metadata": {},
   "source": [
    "### Model Performance Overview function - short"
   ]
  },
  {
   "cell_type": "code",
   "execution_count": 5,
   "metadata": {
    "ExecuteTime": {
     "end_time": "2020-03-26T10:13:51.368231Z",
     "start_time": "2020-03-26T10:13:51.359618Z"
    }
   },
   "outputs": [],
   "source": [
    "def Model_Vali_short(m, X_train, X_test, y_train, y_test, thres=0.5, cm_print=False):\n",
    "    y_ins_pred= m.predict(X_train)\n",
    "    y_outs_pred= m.predict(X_test)\n",
    "    y_base = np.ones(len(X_test))\n",
    "    y_base0 = np.zeros(len(X_test))\n",
    "    try:\n",
    "        y_ins_pred_p= m.predict_proba(X_train)[:, 1]\n",
    "        y_outs_pred_p= m.predict_proba(X_test)[:, 1]\n",
    "        if thres!=0.5:\n",
    "\n",
    "            y_ins_pred = [1. if e > thres else 0. for e in y_ins_pred_p]\n",
    "            y_outs_pred = [1. if e > thres else 0. for e in y_outs_pred_p]\n",
    "    except:\n",
    "        y_ins_pred_p= y_ins_pred\n",
    "        y_outs_pred_p= y_ins_pred \n",
    "        \n",
    "    print(f'base1 log_loss = {log_loss(y_test, y_base)}')\n",
    "    print(f'base0 log_loss = {log_loss(y_test, y_base0)}')\n",
    "    print(f'test  log_loss = {log_loss(y_test, y_outs_pred_p)}')\n",
    "    print(f'train log_loss = {log_loss(y_train, y_ins_pred_p)}')\n",
    "    print('--')\n",
    "    print(f'base1 TNR = {TNR(y_test, y_base)}')\n",
    "    print(f'base0 TNR = {TNR(y_test, y_base0)}')\n",
    "    print(f'test  TNR = {TNR(y_test, y_outs_pred)}')\n",
    "    print(f'train TNR = {TNR(y_train, y_ins_pred)}')\n",
    "    \n",
    "    if cm_print:\n",
    "        cm = pd.DataFrame(confusion_matrix(y_test, y_outs_pred), \n",
    "                 index=[['actual', 'actual'], ['neg', 'pos']], \n",
    "                 columns=[['predicted', 'predicted'], ['neg', 'pos']])\n",
    "        \n",
    "        print('confusion matrix of test')\n",
    "        display(cm)\n",
    "    "
   ]
  },
  {
   "cell_type": "markdown",
   "metadata": {},
   "source": [
    "### Model Performance - Additional Overview"
   ]
  },
  {
   "cell_type": "code",
   "execution_count": 80,
   "metadata": {
    "ExecuteTime": {
     "end_time": "2020-03-26T13:15:28.539771Z",
     "start_time": "2020-03-26T13:15:28.529869Z"
    }
   },
   "outputs": [],
   "source": [
    "def evaluate_model(predictions, probs, train_predictions, train_probs):\n",
    "    \"\"\"Compare machine learning model to baseline performance.\n",
    "    Computes statistics and shows ROC curve.\"\"\"\n",
    "    \n",
    "    baseline = {}\n",
    "    \n",
    "    baseline['recall'] = recall_score(test_labels, [1 for _ in range(len(test_labels))])\n",
    "    baseline['precision'] = precision_score(test_labels, [1 for _ in range(len(test_labels))])\n",
    "    baseline['roc'] = 0.5\n",
    "    \n",
    "    results = {}\n",
    "    \n",
    "    results['recall'] = recall_score(test_labels, predictions)\n",
    "    results['precision'] = precision_score(test_labels, predictions)\n",
    "    results['roc'] = roc_auc_score(test_labels, probs)\n",
    "    \n",
    "    train_results = {}\n",
    "    train_results['recall'] = recall_score(train_labels, train_predictions)\n",
    "    train_results['precision'] = precision_score(train_labels, train_predictions)\n",
    "    train_results['roc'] = roc_auc_score(train_labels, train_probs)\n",
    "    \n",
    "    for metric in ['recall', 'precision', 'roc']:\n",
    "        print(f'{metric.capitalize()} Baseline: {round(baseline[metric], 2)} Test: {round(results[metric], 2)} Train: {round(train_results[metric], 2)}')\n",
    "    \n",
    "    # Calculate false positive rates and true positive rates\n",
    "    base_fpr, base_tpr, _ = roc_curve(test_labels, [1 for _ in range(len(test_labels))])\n",
    "    model_fpr, model_tpr, _ = roc_curve(test_labels, probs)\n",
    "\n",
    "    plt.figure(figsize = (8, 6))\n",
    "    plt.rcParams['font.size'] = 16\n",
    "    \n",
    "    # Plot both curves\n",
    "    plt.plot(base_fpr, base_tpr, 'b', label = 'baseline')\n",
    "    plt.plot(model_fpr, model_tpr, 'r', label = 'model')\n",
    "    plt.legend();\n",
    "    plt.xlabel('False Positive Rate'); plt.ylabel('True Positive Rate'); plt.title('ROC Curves');"
   ]
  },
  {
   "cell_type": "markdown",
   "metadata": {},
   "source": [
    "### Core Score function "
   ]
  },
  {
   "cell_type": "code",
   "execution_count": 6,
   "metadata": {
    "ExecuteTime": {
     "end_time": "2020-03-26T10:14:10.076986Z",
     "start_time": "2020-03-26T10:14:10.035731Z"
    }
   },
   "outputs": [],
   "source": [
    "def TNR(y_true, y_pred):\n",
    "    return confusion_matrix(y_true, y_pred)[0, 0] / \\\n",
    "    (confusion_matrix(y_true, y_pred)[0, 1]+confusion_matrix(y_true, y_pred)[0, 0])\n",
    "\n",
    "def ll(y_true, y_pred):\n",
    "    return log_loss(y_true, y_pred)\n",
    "\n",
    "def special_PPV(y_true, y_pred): \n",
    "    return confusion_matrix(y_true, y_pred)[1, 1] / \\\n",
    "    (confusion_matrix(y_true, y_pred)[0, 1]*100+confusion_matrix(y_true, y_pred)[1, 1])"
   ]
  },
  {
   "cell_type": "markdown",
   "metadata": {},
   "source": [
    "## Preprocessing"
   ]
  },
  {
   "cell_type": "markdown",
   "metadata": {},
   "source": [
    "### feature selection and marking"
   ]
  },
  {
   "cell_type": "code",
   "execution_count": 9,
   "metadata": {
    "ExecuteTime": {
     "end_time": "2020-03-26T10:15:20.398785Z",
     "start_time": "2020-03-26T10:15:20.383868Z"
    }
   },
   "outputs": [],
   "source": [
    "## All possible features\n",
    "x_col_all = [\n",
    "'addr_state',\n",
    "'annual_inc',\n",
    "'dti',\n",
    "'emp_length',\n",
    "'home_ownership',\n",
    "'loan_amnt',\n",
    "'open_acc',\n",
    "'pub_rec',\n",
    "'pub_rec_bankruptcies',\n",
    "'purpose',\n",
    "'term',\n",
    "'verification_status',\n",
    " 'emp_ident']\n",
    "\n",
    "# Target\n",
    "y_col = ['target']\n",
    "\n",
    "## Taken in account features\n",
    "x_col_select = [\n",
    "'dti',\n",
    "'addr_state',\n",
    "'term',\n",
    "'annual_inc',\n",
    "'loan_amnt',\n",
    "'purpose',\n",
    "'pub_rec',\n",
    "'verification_status']\n",
    "x_col_select = x_col_all\n",
    "## Taken in account features\n",
    "df_x = df[x_col_select]\n",
    "df_y = df[y_col]"
   ]
  },
  {
   "cell_type": "code",
   "execution_count": 11,
   "metadata": {},
   "outputs": [
    {
     "data": {
      "text/plain": [
       "0.0    36562\n",
       "1.0     2052\n",
       "2.0       59\n",
       "3.0       10\n",
       "4.0        2\n",
       "5.0        1\n",
       "Name: pub_rec, dtype: int64"
      ]
     },
     "execution_count": 11,
     "metadata": {},
     "output_type": "execute_result"
    }
   ],
   "source": [
    "df.pub_rec.value_counts()"
   ]
  },
  {
   "cell_type": "markdown",
   "metadata": {},
   "source": [
    "### Encoding - dummy cration"
   ]
  },
  {
   "cell_type": "code",
   "execution_count": 10,
   "metadata": {
    "ExecuteTime": {
     "end_time": "2020-03-26T10:15:25.711771Z",
     "start_time": "2020-03-26T10:15:25.551387Z"
    },
    "scrolled": true
   },
   "outputs": [
    {
     "name": "stdout",
     "output_type": "stream",
     "text": [
      "<class 'pandas.core.frame.DataFrame'>\n",
      "Int64Index: 38686 entries, 1 to 42474\n",
      "Data columns (total 79 columns):\n",
      "annual_inc                             38686 non-null float64\n",
      "dti                                    38686 non-null float64\n",
      "emp_length                             38686 non-null float64\n",
      "loan_amnt                              38686 non-null float64\n",
      "open_acc                               38686 non-null float64\n",
      "pub_rec                                38686 non-null float64\n",
      "pub_rec_bankruptcies                   38686 non-null int64\n",
      "addr_state_AL                          38686 non-null uint8\n",
      "addr_state_AR                          38686 non-null uint8\n",
      "addr_state_AZ                          38686 non-null uint8\n",
      "addr_state_CA                          38686 non-null uint8\n",
      "addr_state_CO                          38686 non-null uint8\n",
      "addr_state_CT                          38686 non-null uint8\n",
      "addr_state_DC                          38686 non-null uint8\n",
      "addr_state_DE                          38686 non-null uint8\n",
      "addr_state_FL                          38686 non-null uint8\n",
      "addr_state_GA                          38686 non-null uint8\n",
      "addr_state_HI                          38686 non-null uint8\n",
      "addr_state_IA                          38686 non-null uint8\n",
      "addr_state_ID                          38686 non-null uint8\n",
      "addr_state_IL                          38686 non-null uint8\n",
      "addr_state_IN                          38686 non-null uint8\n",
      "addr_state_KS                          38686 non-null uint8\n",
      "addr_state_KY                          38686 non-null uint8\n",
      "addr_state_LA                          38686 non-null uint8\n",
      "addr_state_MA                          38686 non-null uint8\n",
      "addr_state_MD                          38686 non-null uint8\n",
      "addr_state_ME                          38686 non-null uint8\n",
      "addr_state_MI                          38686 non-null uint8\n",
      "addr_state_MN                          38686 non-null uint8\n",
      "addr_state_MO                          38686 non-null uint8\n",
      "addr_state_MS                          38686 non-null uint8\n",
      "addr_state_MT                          38686 non-null uint8\n",
      "addr_state_NC                          38686 non-null uint8\n",
      "addr_state_NE                          38686 non-null uint8\n",
      "addr_state_NH                          38686 non-null uint8\n",
      "addr_state_NJ                          38686 non-null uint8\n",
      "addr_state_NM                          38686 non-null uint8\n",
      "addr_state_NV                          38686 non-null uint8\n",
      "addr_state_NY                          38686 non-null uint8\n",
      "addr_state_OH                          38686 non-null uint8\n",
      "addr_state_OK                          38686 non-null uint8\n",
      "addr_state_OR                          38686 non-null uint8\n",
      "addr_state_PA                          38686 non-null uint8\n",
      "addr_state_RI                          38686 non-null uint8\n",
      "addr_state_SC                          38686 non-null uint8\n",
      "addr_state_SD                          38686 non-null uint8\n",
      "addr_state_TN                          38686 non-null uint8\n",
      "addr_state_TX                          38686 non-null uint8\n",
      "addr_state_UT                          38686 non-null uint8\n",
      "addr_state_VA                          38686 non-null uint8\n",
      "addr_state_VT                          38686 non-null uint8\n",
      "addr_state_WA                          38686 non-null uint8\n",
      "addr_state_WI                          38686 non-null uint8\n",
      "addr_state_WV                          38686 non-null uint8\n",
      "addr_state_WY                          38686 non-null uint8\n",
      "home_ownership_OWN                     38686 non-null uint8\n",
      "home_ownership_RENT                    38686 non-null uint8\n",
      "purpose_credit_card                    38686 non-null uint8\n",
      "purpose_debt_consolidation             38686 non-null uint8\n",
      "purpose_educational                    38686 non-null uint8\n",
      "purpose_home_improvement               38686 non-null uint8\n",
      "purpose_house                          38686 non-null uint8\n",
      "purpose_major_purchase                 38686 non-null uint8\n",
      "purpose_medical                        38686 non-null uint8\n",
      "purpose_moving                         38686 non-null uint8\n",
      "purpose_other                          38686 non-null uint8\n",
      "purpose_renewable_energy               38686 non-null uint8\n",
      "purpose_small_business                 38686 non-null uint8\n",
      "purpose_vacation                       38686 non-null uint8\n",
      "purpose_wedding                        38686 non-null uint8\n",
      "term_60m                               38686 non-null uint8\n",
      "verification_status_Source Verified    38686 non-null uint8\n",
      "verification_status_Verified           38686 non-null uint8\n",
      "emp_ident_bank                         38686 non-null uint8\n",
      "emp_ident_known_company                38686 non-null uint8\n",
      "emp_ident_puplic                       38686 non-null uint8\n",
      "emp_ident_self_emp                     38686 non-null uint8\n",
      "emp_ident_unknown                      38686 non-null uint8\n",
      "dtypes: float64(6), int64(1), uint8(72)\n",
      "memory usage: 5.0 MB\n"
     ]
    }
   ],
   "source": [
    "df_x_encoded = pd.get_dummies(df_x, drop_first=True)\n",
    "#for i in df_x_encoded.columns:\n",
    "#    print(i)\n",
    "df_x_encoded.info()"
   ]
  },
  {
   "cell_type": "markdown",
   "metadata": {},
   "source": [
    "### Toggel the truth"
   ]
  },
  {
   "cell_type": "code",
   "execution_count": 18,
   "metadata": {
    "ExecuteTime": {
     "end_time": "2020-03-26T10:28:13.312598Z",
     "start_time": "2020-03-26T10:28:13.305654Z"
    }
   },
   "outputs": [],
   "source": [
    "df_y = ~df_y.astype('bool')\n",
    "df_y = df_y.astype('float')"
   ]
  },
  {
   "cell_type": "code",
   "execution_count": 29,
   "metadata": {
    "ExecuteTime": {
     "end_time": "2020-03-26T10:41:54.131163Z",
     "start_time": "2020-03-26T10:41:54.116509Z"
    }
   },
   "outputs": [
    {
     "data": {
      "text/plain": [
       "0.0    0.849765\n",
       "1.0    0.150235\n",
       "Name: target, dtype: float64"
      ]
     },
     "execution_count": 29,
     "metadata": {},
     "output_type": "execute_result"
    }
   ],
   "source": [
    "df_y.target.value_counts(normalize=True)"
   ]
  },
  {
   "cell_type": "markdown",
   "metadata": {},
   "source": [
    "### Train Test Split"
   ]
  },
  {
   "cell_type": "code",
   "execution_count": 30,
   "metadata": {
    "ExecuteTime": {
     "end_time": "2020-03-26T10:42:05.941545Z",
     "start_time": "2020-03-26T10:42:05.435025Z"
    }
   },
   "outputs": [
    {
     "data": {
      "text/html": [
       "<div>\n",
       "<style scoped>\n",
       "    .dataframe tbody tr th:only-of-type {\n",
       "        vertical-align: middle;\n",
       "    }\n",
       "\n",
       "    .dataframe tbody tr th {\n",
       "        vertical-align: top;\n",
       "    }\n",
       "\n",
       "    .dataframe thead th {\n",
       "        text-align: right;\n",
       "    }\n",
       "</style>\n",
       "<table border=\"1\" class=\"dataframe\">\n",
       "  <thead>\n",
       "    <tr style=\"text-align: right;\">\n",
       "      <th></th>\n",
       "      <th>train</th>\n",
       "      <th>test</th>\n",
       "      <th>all</th>\n",
       "    </tr>\n",
       "  </thead>\n",
       "  <tbody>\n",
       "    <tr>\n",
       "      <th>0.0</th>\n",
       "      <td>0.849778</td>\n",
       "      <td>0.849733</td>\n",
       "      <td>0.849765</td>\n",
       "    </tr>\n",
       "    <tr>\n",
       "      <th>1.0</th>\n",
       "      <td>0.150222</td>\n",
       "      <td>0.150267</td>\n",
       "      <td>0.150235</td>\n",
       "    </tr>\n",
       "  </tbody>\n",
       "</table>\n",
       "</div>"
      ],
      "text/plain": [
       "        train      test       all\n",
       "0.0  0.849778  0.849733  0.849765\n",
       "1.0  0.150222  0.150267  0.150235"
      ]
     },
     "execution_count": 30,
     "metadata": {},
     "output_type": "execute_result"
    },
    {
     "data": {
      "image/png": "[encoded data removed]",
      "text/plain": [
       "<Figure size 432x288 with 1 Axes>"
      ]
     },
     "metadata": {},
     "output_type": "display_data"
    }
   ],
   "source": [
    "X_train, X_test, y_train, y_test = train_test_split(\n",
    "    df_x_encoded, df_y, test_size=0.3, random_state=25, stratify=df_y)\n",
    "\n",
    "df_y.target.plot.hist()\n",
    "y_train.target.plot.hist()\n",
    "y_test.target.plot.hist()\n",
    "plt.legend(['all','train','test'])\n",
    "tts_df = pd.DataFrame()\n",
    "tts_df['train'] = (y_train.target.value_counts()/y_train.shape[0])\n",
    "tts_df['test'] = (y_test.target.value_counts()/y_test.shape[0])\n",
    "tts_df['all'] = (df_y.target.value_counts()/df_y.shape[0])\n",
    "tts_df"
   ]
  },
  {
   "cell_type": "markdown",
   "metadata": {},
   "source": [
    "### Transform and Scaling Pipeline"
   ]
  },
  {
   "cell_type": "markdown",
   "metadata": {},
   "source": [
    "#### simple preproc pipeline"
   ]
  },
  {
   "cell_type": "code",
   "execution_count": 31,
   "metadata": {
    "ExecuteTime": {
     "end_time": "2020-03-26T10:42:28.347336Z",
     "start_time": "2020-03-26T10:42:28.341323Z"
    }
   },
   "outputs": [],
   "source": [
    "preprocess_pipeline_1 = make_pipeline(\n",
    "    ColumnSelector(columns=df_x_encoded.columns),\n",
    "    FeatureUnion(transformer_list=[\n",
    "        (\"numeric_features\", make_pipeline(\n",
    "            TypeSelector('float64'),\n",
    "            StandardScaler()\n",
    "        )),\n",
    "        (\"bool_features\", make_pipeline(\n",
    "            TypeSelector('int64'),\n",
    "        )),\n",
    "        (\"dummy_features\", make_pipeline(\n",
    "            TypeSelector('uint8'),\n",
    "        )),\n",
    "    ]))"
   ]
  },
  {
   "cell_type": "markdown",
   "metadata": {},
   "source": [
    "#### individual transform pipeline"
   ]
  },
  {
   "cell_type": "code",
   "execution_count": 32,
   "metadata": {
    "ExecuteTime": {
     "end_time": "2020-03-26T10:42:32.955880Z",
     "start_time": "2020-03-26T10:42:32.912278Z"
    }
   },
   "outputs": [
    {
     "name": "stdout",
     "output_type": "stream",
     "text": [
      "Index(['annual_inc', 'dti', 'emp_length', 'loan_amnt', 'open_acc', 'pub_rec'], dtype='object')\n",
      "Index(['pub_rec_bankruptcies'], dtype='object')\n"
     ]
    }
   ],
   "source": [
    "# print the scalabels \n",
    "print(df_x_encoded.select_dtypes('float').columns)\n",
    "print(df_x_encoded.select_dtypes('int64').columns)"
   ]
  },
  {
   "cell_type": "code",
   "execution_count": 33,
   "metadata": {
    "ExecuteTime": {
     "end_time": "2020-03-26T10:42:33.757924Z",
     "start_time": "2020-03-26T10:42:33.751316Z"
    }
   },
   "outputs": [],
   "source": [
    "preprocess_pipeline_2 = make_pipeline(\n",
    "    ColumnSelector(columns=df_x_encoded.columns),\n",
    "    FeatureUnion(transformer_list= [\n",
    "        (\"sel_1\",\n",
    "        make_pipeline(ColumnSelector(columns=['dti' , 'loan_amnt']),\n",
    "                     FunctionTransformer(lambda x:x),\n",
    "                     StandardScaler()\n",
    "                     )),\n",
    "        (\"sel_2\",\n",
    "        make_pipeline(ColumnSelector(columns=['annual_inc']),\n",
    "                     FunctionTransformer(np.log),\n",
    "                     MinMaxScaler()\n",
    "                     )),\n",
    "        (\"sel_3\",\n",
    "        make_pipeline(ColumnSelector(columns=['pub_rec' , 'emp_length', 'open_acc']),\n",
    "                     FunctionTransformer(lambda x:x),\n",
    "                     MinMaxScaler()\n",
    "                     )),\n",
    "        (\"bool_features\", \n",
    "            make_pipeline(TypeSelector('int64'),\n",
    "        )),\n",
    "        (\"dummy_features\", \n",
    "             make_pipeline(TypeSelector('uint8'),\n",
    "        )),\n",
    "        ])\n",
    "        )"
   ]
  },
  {
   "cell_type": "code",
   "execution_count": 34,
   "metadata": {
    "ExecuteTime": {
     "end_time": "2020-03-26T10:42:36.227037Z",
     "start_time": "2020-03-26T10:42:36.142277Z"
    }
   },
   "outputs": [
    {
     "name": "stdout",
     "output_type": "stream",
     "text": [
      "(27080, 79)\n",
      "(27080, 79)\n"
     ]
    }
   ],
   "source": [
    "t =preprocess_pipeline_2.fit_transform(X_train)\n",
    "print(t.shape)\n",
    "print(X_train.shape)"
   ]
  },
  {
   "cell_type": "markdown",
   "metadata": {},
   "source": [
    "## Different Models"
   ]
  },
  {
   "cell_type": "markdown",
   "metadata": {},
   "source": [
    "### Baseline: Logistics Regression"
   ]
  },
  {
   "cell_type": "code",
   "execution_count": 65,
   "metadata": {
    "ExecuteTime": {
     "end_time": "2020-03-26T12:50:54.235037Z",
     "start_time": "2020-03-26T12:50:53.294244Z"
    }
   },
   "outputs": [
    {
     "name": "stdout",
     "output_type": "stream",
     "text": [
      "train pred. rate = 0.36665435745937963\n",
      "train truth rate = 0.1502215657311669\n",
      "train truth entropy = 0.28476660522087777\n",
      "train pred. entropy = 0.3678773990637628\n",
      "test  pred. rate = 0.3691194209891435\n",
      "test  truth rate = 0.15026710322247114\n",
      "test  truth entropy = 0.2848073836990488\n",
      "test  pred. entropy = 0.36787735376836156\n",
      "--\n",
      "base0  precision = 0.0\n",
      "base  precision = 0.15026710322247114\n",
      "test  precision = 0.2334267040149393\n",
      "train precision = 0.2317453922852251\n",
      "--\n",
      "base  ROC-AUC = 0.5\n",
      "test  ROC-AUC = 0.6201995798905633\n",
      "train ROC-AUC = 0.6170774950301677\n",
      "--\n",
      "base  accuracy = 0.15026710322247114\n",
      "test  accuracy = 0.6529381354471825\n",
      "train accuracy = 0.6530649926144756\n",
      "--\n",
      "base  log_loss = 29.349413961439407\n",
      "test  log_loss = 0.6503867275177484\n",
      "train log_loss = 0.651238486930639\n",
      "--\n",
      "base  TNR = 0.0\n",
      "test  TNR = 0.6670046643682823\n",
      "train TNR = 0.6685207717712498\n",
      "--\n"
     ]
    },
    {
     "name": "stderr",
     "output_type": "stream",
     "text": [
      "/Users/torben/opt/anaconda3/envs/nf2/lib/python3.6/site-packages/sklearn/metrics/_classification.py:1272: UndefinedMetricWarning: Precision is ill-defined and being set to 0.0 due to no predicted samples. Use `zero_division` parameter to control this behavior.\n",
      "  _warn_prf(average, modifier, msg_start, len(result))\n"
     ]
    },
    {
     "name": "stdout",
     "output_type": "stream",
     "text": [
      "confusion matrix of test\n"
     ]
    },
    {
     "data": {
      "text/html": [
       "<div>\n",
       "<style scoped>\n",
       "    .dataframe tbody tr th:only-of-type {\n",
       "        vertical-align: middle;\n",
       "    }\n",
       "\n",
       "    .dataframe tbody tr th {\n",
       "        vertical-align: top;\n",
       "    }\n",
       "\n",
       "    .dataframe thead tr th {\n",
       "        text-align: left;\n",
       "    }\n",
       "</style>\n",
       "<table border=\"1\" class=\"dataframe\">\n",
       "  <thead>\n",
       "    <tr>\n",
       "      <th></th>\n",
       "      <th></th>\n",
       "      <th colspan=\"2\" halign=\"left\">predicted</th>\n",
       "    </tr>\n",
       "    <tr>\n",
       "      <th></th>\n",
       "      <th></th>\n",
       "      <th>neg</th>\n",
       "      <th>pos</th>\n",
       "    </tr>\n",
       "  </thead>\n",
       "  <tbody>\n",
       "    <tr>\n",
       "      <th rowspan=\"2\" valign=\"top\">actual</th>\n",
       "      <th>neg</th>\n",
       "      <td>6578</td>\n",
       "      <td>3284</td>\n",
       "    </tr>\n",
       "    <tr>\n",
       "      <th>pos</th>\n",
       "      <td>744</td>\n",
       "      <td>1000</td>\n",
       "    </tr>\n",
       "  </tbody>\n",
       "</table>\n",
       "</div>"
      ],
      "text/plain": [
       "           predicted      \n",
       "                 neg   pos\n",
       "actual neg      6578  3284\n",
       "       pos       744  1000"
      ]
     },
     "metadata": {},
     "output_type": "display_data"
    },
    {
     "name": "stdout",
     "output_type": "stream",
     "text": [
      "--\n",
      "              precision    recall  f1-score   support\n",
      "\n",
      "         0.0       0.90      0.67      0.77      9862\n",
      "         1.0       0.23      0.57      0.33      1744\n",
      "\n",
      "    accuracy                           0.65     11606\n",
      "   macro avg       0.57      0.62      0.55     11606\n",
      "weighted avg       0.80      0.65      0.70     11606\n",
      "\n",
      "6622\n"
     ]
    },
    {
     "data": {
      "image/png": "[encoded data removed]",
      "text/plain": [
       "<Figure size 432x288 with 1 Axes>"
      ]
     },
     "metadata": {},
     "output_type": "display_data"
    },
    {
     "name": "stdout",
     "output_type": "stream",
     "text": [
      "#### --- ####\n"
     ]
    }
   ],
   "source": [
    "m1_pipline=Pipeline([('pre',preprocess_pipeline_2), ('M',LogisticRegression(C=0.03, class_weight='balanced' ))])\n",
    "m1_pipline.fit(X_train,y_train.values.ravel())\n",
    "Model_Vali(m1_pipline, X_train, X_test, y_train.values, y_test.values, cm_print= True)\n",
    "print('#### --- ####')\n",
    "#m1_pipline=Pipeline([('pre',preprocess_pipeline_1), ('M',LogisticRegression(C=0.03, class_weight='balanced' ))])\n",
    "#m1_pipline.fit(X_train,y_train.values.ravel())\n",
    "#Model_Vali(m1_pipline, X_train, X_test, y_train, y_test, cm_print= True)"
   ]
  },
  {
   "cell_type": "markdown",
   "metadata": {},
   "source": [
    "### AdaBoost"
   ]
  },
  {
   "cell_type": "code",
   "execution_count": 76,
   "metadata": {
    "ExecuteTime": {
     "end_time": "2020-03-26T12:59:32.226362Z",
     "start_time": "2020-03-26T12:58:52.375535Z"
    },
    "scrolled": true
   },
   "outputs": [
    {
     "name": "stdout",
     "output_type": "stream",
     "text": [
      "train pred. rate = 0.0011078286558345643\n",
      "train truth rate = 0.1502215657311669\n",
      "train truth entropy = 0.28476660522087777\n",
      "train pred. entropy = 0.007539165449073917\n",
      "test  pred. rate = 0.0013785972772703773\n",
      "test  truth rate = 0.15026710322247114\n",
      "test  truth entropy = 0.2848073836990488\n",
      "test  pred. entropy = 0.009080391194224742\n",
      "--\n",
      "base0  precision = 0.0\n",
      "base  precision = 0.15026710322247114\n",
      "test  precision = 0.5625\n",
      "train precision = 0.5666666666666667\n",
      "--\n",
      "base  ROC-AUC = 0.5\n",
      "test  ROC-AUC = 0.5022253776426613\n",
      "train ROC-AUC = 0.501807017534864\n",
      "--\n",
      "base  accuracy = 0.15026710322247114\n",
      "test  accuracy = 0.8499052214371876\n",
      "train accuracy = 0.8499261447562777\n",
      "--\n",
      "base  log_loss = 29.349413961439407\n",
      "test  log_loss = 0.6794468882481463\n",
      "train log_loss = 0.679406615414804\n",
      "--\n",
      "base  TNR = 0.0\n",
      "test  TNR = 0.9992902048266071\n",
      "train TNR = 0.9994350773509474\n",
      "--\n",
      "confusion matrix of test\n"
     ]
    },
    {
     "name": "stderr",
     "output_type": "stream",
     "text": [
      "/Users/torben/opt/anaconda3/envs/nf2/lib/python3.6/site-packages/sklearn/metrics/_classification.py:1272: UndefinedMetricWarning: Precision is ill-defined and being set to 0.0 due to no predicted samples. Use `zero_division` parameter to control this behavior.\n",
      "  _warn_prf(average, modifier, msg_start, len(result))\n"
     ]
    },
    {
     "data": {
      "text/html": [
       "<div>\n",
       "<style scoped>\n",
       "    .dataframe tbody tr th:only-of-type {\n",
       "        vertical-align: middle;\n",
       "    }\n",
       "\n",
       "    .dataframe tbody tr th {\n",
       "        vertical-align: top;\n",
       "    }\n",
       "\n",
       "    .dataframe thead tr th {\n",
       "        text-align: left;\n",
       "    }\n",
       "</style>\n",
       "<table border=\"1\" class=\"dataframe\">\n",
       "  <thead>\n",
       "    <tr>\n",
       "      <th></th>\n",
       "      <th></th>\n",
       "      <th colspan=\"2\" halign=\"left\">predicted</th>\n",
       "    </tr>\n",
       "    <tr>\n",
       "      <th></th>\n",
       "      <th></th>\n",
       "      <th>neg</th>\n",
       "      <th>pos</th>\n",
       "    </tr>\n",
       "  </thead>\n",
       "  <tbody>\n",
       "    <tr>\n",
       "      <th rowspan=\"2\" valign=\"top\">actual</th>\n",
       "      <th>neg</th>\n",
       "      <td>9855</td>\n",
       "      <td>7</td>\n",
       "    </tr>\n",
       "    <tr>\n",
       "      <th>pos</th>\n",
       "      <td>1735</td>\n",
       "      <td>9</td>\n",
       "    </tr>\n",
       "  </tbody>\n",
       "</table>\n",
       "</div>"
      ],
      "text/plain": [
       "           predicted    \n",
       "                 neg pos\n",
       "actual neg      9855   7\n",
       "       pos      1735   9"
      ]
     },
     "metadata": {},
     "output_type": "display_data"
    },
    {
     "name": "stdout",
     "output_type": "stream",
     "text": [
      "--\n",
      "              precision    recall  f1-score   support\n",
      "\n",
      "         0.0       0.85      1.00      0.92      9862\n",
      "         1.0       0.56      0.01      0.01      1744\n",
      "\n",
      "    accuracy                           0.85     11606\n",
      "   macro avg       0.71      0.50      0.46     11606\n",
      "weighted avg       0.81      0.85      0.78     11606\n",
      "\n",
      "6545\n"
     ]
    },
    {
     "data": {
      "image/png": "[encoded data removed]",
      "text/plain": [
       "<Figure size 432x288 with 1 Axes>"
      ]
     },
     "metadata": {},
     "output_type": "display_data"
    },
    {
     "name": "stdout",
     "output_type": "stream",
     "text": [
      "#### --- ####\n"
     ]
    }
   ],
   "source": [
    "ada=Pipeline([('pre',preprocess_pipeline_2), \n",
    "              ('M',AdaBoostClassifier(base_estimator=RandomForestClassifier(max_depth=1),\n",
    "                                      random_state=42))])\n",
    "ada.fit(X_train,y_train.values.ravel())\n",
    "Model_Vali(ab_pipeline, X_train, X_test, y_train.values, y_test.values, cm_print= True)\n",
    "print('#### --- ####')\n"
   ]
  },
  {
   "cell_type": "code",
   "execution_count": 77,
   "metadata": {
    "ExecuteTime": {
     "end_time": "2020-03-26T12:59:34.957668Z",
     "start_time": "2020-03-26T12:59:32.233184Z"
    }
   },
   "outputs": [
    {
     "data": {
      "image/png": "[encoded data removed]",
      "text/plain": [
       "<Figure size 576x576 with 2 Axes>"
      ]
     },
     "metadata": {},
     "output_type": "display_data"
    }
   ],
   "source": [
    "cm = confusion_matrix(y_test, ada.predict(X_test))\n",
    "#cm = cm.astype('float') / cm.sum(axis=1)[:, np.newaxis] # normalize the data\n",
    "\n",
    "# view with a heatmap\n",
    "plt.figure(figsize=(8,8))\n",
    "sns.heatmap(cm, annot=True, annot_kws={\"size\":30}, \n",
    "            cmap='BrBG', square=True, fmt='.3f')\n",
    "plt.ylabel('True label')\n",
    "plt.xlabel('Predicted label')\n",
    "plt.title('Confusion matrix for:\\n{}'.format(ada.__class__.__name__));"
   ]
  },
  {
   "cell_type": "code",
   "execution_count": null,
   "metadata": {},
   "outputs": [],
   "source": [
    "evaluate_model(ada.predict_proba(X_train)[:, 1],\n",
    "        y_outs_pred_p= m.predict_proba(X_test)[:, 1])"
   ]
  },
  {
   "cell_type": "code",
   "execution_count": 78,
   "metadata": {
    "ExecuteTime": {
     "end_time": "2020-03-26T12:59:37.822769Z",
     "start_time": "2020-03-26T12:59:34.962388Z"
    }
   },
   "outputs": [
    {
     "data": {
      "text/plain": [
       "0.6741262216756375"
      ]
     },
     "execution_count": 78,
     "metadata": {},
     "output_type": "execute_result"
    }
   ],
   "source": [
    "y_score = ada.predict_proba(X_test)[:,1]\n",
    "roc_auc_score(y_test,y_score)"
   ]
  },
  {
   "cell_type": "code",
   "execution_count": 91,
   "metadata": {
    "ExecuteTime": {
     "end_time": "2020-03-26T14:09:50.949116Z",
     "start_time": "2020-03-26T14:07:47.593216Z"
    }
   },
   "outputs": [
    {
     "name": "stderr",
     "output_type": "stream",
     "text": [
      "/Users/torben/opt/anaconda3/envs/nf2/lib/python3.6/site-packages/sklearn/utils/validation.py:760: DataConversionWarning: A column-vector y was passed when a 1d array was expected. Please change the shape of y to (n_samples, ), for example using ravel().\n",
      "  y = column_or_1d(y, warn=True)\n"
     ]
    },
    {
     "name": "stdout",
     "output_type": "stream",
     "text": [
      "Unoptimized model\n",
      "------\n",
      "Accuracy score on testing data: 0.7470\n",
      "F-score on testing data: 0.1931\n",
      "\n",
      "Optimized Model\n",
      "------\n",
      "Final accuracy score on the testing data: 0.8424\n",
      "Final F-score on the testing data: 0.1263\n",
      "AdaBoostClassifier(algorithm='SAMME.R',\n",
      "                   base_estimator=DecisionTreeClassifier(ccp_alpha=0.0,\n",
      "                                                         class_weight=None,\n",
      "                                                         criterion='gini',\n",
      "                                                         max_depth=3,\n",
      "                                                         max_features=None,\n",
      "                                                         max_leaf_nodes=None,\n",
      "                                                         min_impurity_decrease=0.0,\n",
      "                                                         min_impurity_split=None,\n",
      "                                                         min_samples_leaf=1,\n",
      "                                                         min_samples_split=6,\n",
      "                                                         min_weight_fraction_leaf=0.0,\n",
      "                                                         presort='deprecated',\n",
      "                                                         random_state=None,\n",
      "                                                         splitter='best'),\n",
      "                   learning_rate=1.0, n_estimators=50, random_state=None)\n"
     ]
    }
   ],
   "source": [
    "# TODO: Initialize the classifier\n",
    "ada = AdaBoostClassifier(base_estimator=DecisionTreeClassifier()) \n",
    "\n",
    "# TODO: Create the parameters list you wish to tune\n",
    "parameters = {'n_estimators':[50, 120],                \n",
    "              'learning_rate':[0.1, 0.5, 1.],               \n",
    "              'base_estimator__min_samples_split' : np.arange(2, 8, 2),               \n",
    "              'base_estimator__max_depth' : np.arange(1, 4, 1)              \n",
    "             } \n",
    "\n",
    "# TODO: Make an fbeta_score scoring object\n",
    "scorer = make_scorer(recall_score) \n",
    "\n",
    "# TODO: Perform grid search on the classifier using 'scorer' as the scoring method\n",
    "grid_obj = RandomizedSearchCV(estimator=ada, param_distributions=parameters\n",
    "                              ,scoring=scorer,random_state=42) \n",
    "\n",
    "# TODO: Fit the grid search object to the training data and find the optimal parameters\n",
    "grid_fit = grid_obj.fit(X_train,y_train.values.ravel()) \n",
    "\n",
    "# Get the estimator\n",
    "best_ada = grid_fit.best_estimator_ \n",
    "\n",
    "# Make predictions using the unoptimized and model\n",
    "predictions = (ada.fit(X_train, y_train)).predict(X_test)\n",
    "best_predictions = best_ada.predict(X_test) \n",
    "\n",
    "# Report the before-and-afterscores\n",
    "print(\"Unoptimized model\\n------\")\n",
    "print(\"Accuracy score on testing data: {:.4f}\".format(accuracy_score(y_test, predictions)))\n",
    "print(\"Accuracy score on testing data: {:.4f}\".format(recall_score(y_test, predictions)))\n",
    "print(\"F-score on testing data: {:.4f}\".format(fbeta_score(y_test, predictions, beta = 0.5)))\n",
    "print(\"\\nOptimized Model\\n------\")\n",
    "print(\"Final accuracy score on the testing data: {:.4f}\".format(accuracy_score(y_test, best_predictions)))\n",
    "print(\"Final F-score on the testing data: {:.4f}\".format(fbeta_score(y_test, best_predictions, beta = 0.5)))\n",
    "print(best_ada)"
   ]
  },
  {
   "cell_type": "markdown",
   "metadata": {},
   "source": [
    "### Support Vector Classifier"
   ]
  },
  {
   "cell_type": "code",
   "execution_count": 84,
   "metadata": {
    "ExecuteTime": {
     "end_time": "2020-03-26T13:47:47.283777Z",
     "start_time": "2020-03-26T13:47:47.278002Z"
    }
   },
   "outputs": [],
   "source": [
    "from sklearn.svm import SVC"
   ]
  },
  {
   "cell_type": "code",
   "execution_count": 93,
   "metadata": {
    "ExecuteTime": {
     "end_time": "2020-03-26T14:52:46.380669Z",
     "start_time": "2020-03-26T14:49:22.034895Z"
    }
   },
   "outputs": [
    {
     "name": "stdout",
     "output_type": "stream",
     "text": [
      "train pred. rate = 0.3510709010339734\n",
      "train truth rate = 0.1502215657311669\n",
      "train truth entropy = 0.28476660522087777\n",
      "train pred. entropy = 0.3674894614803873\n",
      "test  pred. rate = 0.34999138376701705\n",
      "test  truth rate = 0.15026710322247114\n",
      "test  truth entropy = 0.2848073836990488\n",
      "test  pred. entropy = 0.36743731418944753\n",
      "--\n",
      "base0  precision = 0.0\n",
      "base  precision = 0.15026710322247114\n",
      "test  precision = 0.2397833579517479\n",
      "train precision = 0.288629430945619\n",
      "--\n",
      "base  ROC-AUC = 0.5\n",
      "test  ROC-AUC = 0.6226825838776957\n",
      "train ROC-AUC = 0.6903213978735562\n",
      "--\n",
      "base  accuracy = 0.15026710322247114\n",
      "test  accuracy = 0.6675857315181802\n",
      "train accuracy = 0.7013663220088626\n",
      "--\n",
      "base  log_loss = 29.349413961439407\n"
     ]
    },
    {
     "name": "stderr",
     "output_type": "stream",
     "text": [
      "/Users/torben/opt/anaconda3/envs/nf2/lib/python3.6/site-packages/sklearn/metrics/_classification.py:1272: UndefinedMetricWarning: Precision is ill-defined and being set to 0.0 due to no predicted samples. Use `zero_division` parameter to control this behavior.\n",
      "  _warn_prf(average, modifier, msg_start, len(result))\n"
     ]
    },
    {
     "ename": "ValueError",
     "evalue": "Found input variables with inconsistent numbers of samples: [27080, 11606]",
     "output_type": "error",
     "traceback": [
      "\u001b[0;31m---------------------------------------------------------------------------\u001b[0m",
      "\u001b[0;31mValueError\u001b[0m                                Traceback (most recent call last)",
      "\u001b[0;32m<ipython-input-93-9f6c4cd11b48>\u001b[0m in \u001b[0;36m<module>\u001b[0;34m\u001b[0m\n\u001b[1;32m      2\u001b[0m               ('M',SVC(kernel='rbf',random_state=42,class_weight='balanced'))])\n\u001b[1;32m      3\u001b[0m \u001b[0msvc\u001b[0m\u001b[0;34m.\u001b[0m\u001b[0mfit\u001b[0m\u001b[0;34m(\u001b[0m\u001b[0mX_train\u001b[0m\u001b[0;34m,\u001b[0m\u001b[0my_train\u001b[0m\u001b[0;34m.\u001b[0m\u001b[0mvalues\u001b[0m\u001b[0;34m.\u001b[0m\u001b[0mravel\u001b[0m\u001b[0;34m(\u001b[0m\u001b[0;34m)\u001b[0m\u001b[0;34m)\u001b[0m\u001b[0;34m\u001b[0m\u001b[0;34m\u001b[0m\u001b[0m\n\u001b[0;32m----> 4\u001b[0;31m \u001b[0mModel_Vali\u001b[0m\u001b[0;34m(\u001b[0m\u001b[0msvc\u001b[0m\u001b[0;34m,\u001b[0m \u001b[0mX_train\u001b[0m\u001b[0;34m,\u001b[0m \u001b[0mX_test\u001b[0m\u001b[0;34m,\u001b[0m \u001b[0my_train\u001b[0m\u001b[0;34m.\u001b[0m\u001b[0mvalues\u001b[0m\u001b[0;34m,\u001b[0m \u001b[0my_test\u001b[0m\u001b[0;34m.\u001b[0m\u001b[0mvalues\u001b[0m\u001b[0;34m,\u001b[0m \u001b[0mcm_print\u001b[0m\u001b[0;34m=\u001b[0m \u001b[0;32mTrue\u001b[0m\u001b[0;34m)\u001b[0m\u001b[0;34m\u001b[0m\u001b[0;34m\u001b[0m\u001b[0m\n\u001b[0m\u001b[1;32m      5\u001b[0m \u001b[0mprint\u001b[0m\u001b[0;34m(\u001b[0m\u001b[0;34m'#### --- ####'\u001b[0m\u001b[0;34m)\u001b[0m\u001b[0;34m\u001b[0m\u001b[0;34m\u001b[0m\u001b[0m\n",
      "\u001b[0;32m<ipython-input-17-d16e396cb171>\u001b[0m in \u001b[0;36mModel_Vali\u001b[0;34m(m, X_train, X_test, y_train, y_test, thres, cm_print)\u001b[0m\n\u001b[1;32m     46\u001b[0m     \u001b[0mprint\u001b[0m\u001b[0;34m(\u001b[0m\u001b[0;34m'--'\u001b[0m\u001b[0;34m)\u001b[0m\u001b[0;34m\u001b[0m\u001b[0;34m\u001b[0m\u001b[0m\n\u001b[1;32m     47\u001b[0m     \u001b[0mprint\u001b[0m\u001b[0;34m(\u001b[0m\u001b[0;34mf'base  log_loss = {log_loss(y_test, y_base)}'\u001b[0m\u001b[0;34m)\u001b[0m\u001b[0;34m\u001b[0m\u001b[0;34m\u001b[0m\u001b[0m\n\u001b[0;32m---> 48\u001b[0;31m     \u001b[0mprint\u001b[0m\u001b[0;34m(\u001b[0m\u001b[0;34mf'test  log_loss = {log_loss(y_test, y_outs_pred_p)}'\u001b[0m\u001b[0;34m)\u001b[0m\u001b[0;34m\u001b[0m\u001b[0;34m\u001b[0m\u001b[0m\n\u001b[0m\u001b[1;32m     49\u001b[0m     \u001b[0mprint\u001b[0m\u001b[0;34m(\u001b[0m\u001b[0;34mf'train log_loss = {log_loss(y_train, y_ins_pred_p)}'\u001b[0m\u001b[0;34m)\u001b[0m\u001b[0;34m\u001b[0m\u001b[0;34m\u001b[0m\u001b[0m\n\u001b[1;32m     50\u001b[0m     \u001b[0mprint\u001b[0m\u001b[0;34m(\u001b[0m\u001b[0;34m'--'\u001b[0m\u001b[0;34m)\u001b[0m\u001b[0;34m\u001b[0m\u001b[0;34m\u001b[0m\u001b[0m\n",
      "\u001b[0;32m~/opt/anaconda3/envs/nf2/lib/python3.6/site-packages/sklearn/metrics/_classification.py\u001b[0m in \u001b[0;36mlog_loss\u001b[0;34m(y_true, y_pred, eps, normalize, sample_weight, labels)\u001b[0m\n\u001b[1;32m   2240\u001b[0m     \"\"\"\n\u001b[1;32m   2241\u001b[0m     \u001b[0my_pred\u001b[0m \u001b[0;34m=\u001b[0m \u001b[0mcheck_array\u001b[0m\u001b[0;34m(\u001b[0m\u001b[0my_pred\u001b[0m\u001b[0;34m,\u001b[0m \u001b[0mensure_2d\u001b[0m\u001b[0;34m=\u001b[0m\u001b[0;32mFalse\u001b[0m\u001b[0;34m)\u001b[0m\u001b[0;34m\u001b[0m\u001b[0;34m\u001b[0m\u001b[0m\n\u001b[0;32m-> 2242\u001b[0;31m     \u001b[0mcheck_consistent_length\u001b[0m\u001b[0;34m(\u001b[0m\u001b[0my_pred\u001b[0m\u001b[0;34m,\u001b[0m \u001b[0my_true\u001b[0m\u001b[0;34m,\u001b[0m \u001b[0msample_weight\u001b[0m\u001b[0;34m)\u001b[0m\u001b[0;34m\u001b[0m\u001b[0;34m\u001b[0m\u001b[0m\n\u001b[0m\u001b[1;32m   2243\u001b[0m \u001b[0;34m\u001b[0m\u001b[0m\n\u001b[1;32m   2244\u001b[0m     \u001b[0mlb\u001b[0m \u001b[0;34m=\u001b[0m \u001b[0mLabelBinarizer\u001b[0m\u001b[0;34m(\u001b[0m\u001b[0;34m)\u001b[0m\u001b[0;34m\u001b[0m\u001b[0;34m\u001b[0m\u001b[0m\n",
      "\u001b[0;32m~/opt/anaconda3/envs/nf2/lib/python3.6/site-packages/sklearn/utils/validation.py\u001b[0m in \u001b[0;36mcheck_consistent_length\u001b[0;34m(*arrays)\u001b[0m\n\u001b[1;32m    210\u001b[0m     \u001b[0;32mif\u001b[0m \u001b[0mlen\u001b[0m\u001b[0;34m(\u001b[0m\u001b[0muniques\u001b[0m\u001b[0;34m)\u001b[0m \u001b[0;34m>\u001b[0m \u001b[0;36m1\u001b[0m\u001b[0;34m:\u001b[0m\u001b[0;34m\u001b[0m\u001b[0;34m\u001b[0m\u001b[0m\n\u001b[1;32m    211\u001b[0m         raise ValueError(\"Found input variables with inconsistent numbers of\"\n\u001b[0;32m--> 212\u001b[0;31m                          \" samples: %r\" % [int(l) for l in lengths])\n\u001b[0m\u001b[1;32m    213\u001b[0m \u001b[0;34m\u001b[0m\u001b[0m\n\u001b[1;32m    214\u001b[0m \u001b[0;34m\u001b[0m\u001b[0m\n",
      "\u001b[0;31mValueError\u001b[0m: Found input variables with inconsistent numbers of samples: [27080, 11606]"
     ]
    }
   ],
   "source": [
    "svc = Pipeline([('pre',preprocess_pipeline_2), \n",
    "              ('M',SVC(kernel='rbf',random_state=42,class_weight='balanced'))])\n",
    "svc.fit(X_train,y_train.values.ravel())\n",
    "Model_Vali(svc, X_train, X_test, y_train.values, y_test.values, cm_print= True)\n",
    "print('#### --- ####')"
   ]
  },
  {
   "cell_type": "code",
   "execution_count": null,
   "metadata": {},
   "outputs": [],
   "source": [
    "param_grid = {'svc__C': [1, 5, 10, 50],\n",
    "              'svc__gamma': [0.0001, 0.0005, 0.001, 0.005]}\n",
    "grid = GridSearchCV(model, param_grid)"
   ]
  }
 ],
 "metadata": {
  "kernelspec": {
   "display_name": "Python [conda env:nf2] *",
   "language": "python",
   "name": "conda-env-nf2-py"
  },
  "language_info": {
   "codemirror_mode": {
    "name": "ipython",
    "version": 3
   },
   "file_extension": ".py",
   "mimetype": "text/x-python",
   "name": "python",
   "nbconvert_exporter": "python",
   "pygments_lexer": "ipython3",
   "version": "3.6.10"
  },
  "toc": {
   "base_numbering": 1,
   "nav_menu": {},
   "number_sections": true,
   "sideBar": true,
   "skip_h1_title": false,
   "title_cell": "Table of Contents",
   "title_sidebar": "Contents",
   "toc_cell": false,
   "toc_position": {
    "height": "calc(100% - 180px)",
    "left": "10px",
    "top": "150px",
    "width": "261.818px"
   },
   "toc_section_display": true,
   "toc_window_display": true
  }
 },
 "nbformat": 4,
 "nbformat_minor": 4
}
