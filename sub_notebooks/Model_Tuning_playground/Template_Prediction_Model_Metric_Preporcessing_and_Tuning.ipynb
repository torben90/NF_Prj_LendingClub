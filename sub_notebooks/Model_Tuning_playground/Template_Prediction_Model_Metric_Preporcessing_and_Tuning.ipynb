{
 "cells": [
  {
   "cell_type": "markdown",
   "metadata": {},
   "source": [
    "# Import"
   ]
  },
  {
   "cell_type": "code",
   "execution_count": 1,
   "metadata": {},
   "outputs": [],
   "source": [
    "import pandas as pd\n",
    "import re\n",
    "import numpy as np\n",
    "import os\n",
    "\n",
    "import matplotlib.pyplot as plt\n",
    "import seaborn as sns\n",
    "\n",
    "from sklearn.pipeline import make_pipeline, FeatureUnion, Pipeline\n",
    "from sklearn.preprocessing import StandardScaler, MinMaxScaler, FunctionTransformer, Normalizer #,power_transform\n",
    "from sklearn.tree import DecisionTreeClassifier\n",
    "from sklearn.ensemble import RandomForestClassifier\n",
    "from sklearn.linear_model import LogisticRegression\n",
    "from sklearn.naive_bayes import GaussianNB, CategoricalNB\n",
    "from sklearn.ensemble import GradientBoostingClassifier\n",
    "import xgboost as xgb\n",
    "\n",
    "from sklearn.model_selection import train_test_split, GridSearchCV, RandomizedSearchCV\n",
    "\n",
    "from sklearn.metrics import roc_auc_score,classification_report, roc_curve, \\\n",
    "auc,accuracy_score, confusion_matrix, precision_score, log_loss, fbeta_score, recall_score\n"
   ]
  },
  {
   "cell_type": "markdown",
   "metadata": {},
   "source": [
    "# Macros"
   ]
  },
  {
   "cell_type": "code",
   "execution_count": 2,
   "metadata": {},
   "outputs": [],
   "source": [
    "DATA_FOLDER = '../../data/'\n",
    "FIG_FOLDER = '../../figures/'\n",
    "\n",
    "plt.style.use('seaborn-whitegrid')"
   ]
  },
  {
   "cell_type": "markdown",
   "metadata": {},
   "source": [
    "# Utile Function"
   ]
  },
  {
   "cell_type": "markdown",
   "metadata": {},
   "source": [
    "## Sklean Pipline Pandas support"
   ]
  },
  {
   "cell_type": "code",
   "execution_count": 3,
   "metadata": {},
   "outputs": [],
   "source": [
    "from sklearn.base import BaseEstimator, TransformerMixin\n",
    "\n",
    "class TypeSelector(BaseEstimator, TransformerMixin):\n",
    "    def __init__(self, dtype):\n",
    "        self.dtype = dtype\n",
    "\n",
    "    def fit(self, X, y=None):\n",
    "        return self\n",
    "\n",
    "    def transform(self, X):\n",
    "        assert isinstance(X, pd.DataFrame)\n",
    "        return X.select_dtypes(include=[self.dtype])\n",
    "    \n",
    "class ColumnSelector(BaseEstimator, TransformerMixin):\n",
    "    def __init__(self, columns):\n",
    "        self.columns = columns\n",
    "\n",
    "    def fit(self, X, y=None):\n",
    "        return self\n",
    "\n",
    "    def transform(self, X):\n",
    "        assert isinstance(X, pd.DataFrame)\n",
    "\n",
    "        try:\n",
    "            return X[self.columns]\n",
    "        except KeyError:\n",
    "            cols_error = list(set(self.columns) - set(X.columns))\n",
    "            raise KeyError(\"The DataFrame does not include the columns: %s\" % cols_error)"
   ]
  },
  {
   "cell_type": "markdown",
   "metadata": {},
   "source": [
    "# Prediction Model"
   ]
  },
  {
   "cell_type": "markdown",
   "metadata": {},
   "source": [
    "## section data import "
   ]
  },
  {
   "cell_type": "code",
   "execution_count": 4,
   "metadata": {},
   "outputs": [],
   "source": [
    "df = pd.read_pickle(DATA_FOLDER + 'clean_pass_01p2_Ptarget_FPemp_ident_clean2.pkl')"
   ]
  },
  {
   "cell_type": "markdown",
   "metadata": {},
   "source": [
    "## Medric / Score"
   ]
  },
  {
   "cell_type": "markdown",
   "metadata": {},
   "source": [
    "### Model Metric - main assumtions\n",
    "\n",
    "Main goal for business \n",
    "* Specificity / Selectivity\n",
    "* try to avoid FP but also get TN right \n",
    "* the assumption that you will always find members/borrowers \n",
    "* investors are viewer and need to get investment reasons - no FP \n",
    "\n",
    "Prediction verfication:\n",
    "* propabuilty is needed for risk assement\n",
    "* the estimate must represent simmiler entropy then ground truth \n",
    "* ground truth is not balanced \n",
    "* --> cross entropy loss is taken in account to give indication"
   ]
  },
  {
   "cell_type": "markdown",
   "metadata": {},
   "source": [
    "### Model Performance Overview function"
   ]
  },
  {
   "cell_type": "code",
   "execution_count": 29,
   "metadata": {},
   "outputs": [],
   "source": [
    "def entropy_c(y):\n",
    "    p = np.sum(y)/ len(y)\n",
    "    pm = 1.-p\n",
    "    return -(p*np.log(p))-(pm*np.log(pm))\n",
    "                          \n",
    "def entropy(y):\n",
    "    return -((np.sum(y)/ len(y))*np.log(np.sum(y)/ len(y)))\n",
    "                          \n",
    "def rate(y):\n",
    "    return np.sum(y)/ len(y)\n",
    "    \n",
    "def Model_Vali(m, X_train, X_test, y_train, y_test, thres=0.5, cm_print= True):\n",
    "    \n",
    "    \n",
    "    y_ins_pred= m.predict(X_train)\n",
    "    y_outs_pred= m.predict(X_test)\n",
    "    y_base = np.ones(len(X_test))\n",
    "    y_base0 = np.zeros(len(X_test))\n",
    "    try:\n",
    "        y_ins_pred_p= m.predict_proba(X_train)[:, 1]\n",
    "        y_outs_pred_p= m.predict_proba(X_test)[:, 1]\n",
    "        if thres!=0.5:\n",
    "\n",
    "            y_ins_pred = [1. if e > thres else 0. for e in y_ins_pred_p]\n",
    "            y_outs_pred = [1. if e > thres else 0. for e in y_outs_pred_p]\n",
    "    except:\n",
    "        y_ins_pred_p= y_ins_pred\n",
    "        y_outs_pred_p= y_ins_pred \n",
    "    \n",
    "    print(f'train pred. rate = {rate(y_ins_pred)}' )\n",
    "    print(f'train truth rate = {rate(y_train)}' )\n",
    "    print(f'train truth entropy = {entropy_c(y_train)}' )\n",
    "    print(f'train pred. entropy = {entropy_c(y_ins_pred)}' )\n",
    "    print(f'test  pred. rate = {rate(y_outs_pred)}' )\n",
    "    print(f'test  truth rate = {rate(y_test)}' )\n",
    "    print(f'test  truth entropy = {entropy_c(y_test)}' )\n",
    "    print(f'test  pred. entropy = {entropy_c(y_outs_pred)}' )\n",
    "    \n",
    "    \n",
    "    print('--')\n",
    "    print(f'base  recall = {recall_score(y_test, y_base)}')\n",
    "    print(f'test  recall = {recall_score(y_test, y_outs_pred)}')\n",
    "    print(f'train recall = {recall_score(y_train, y_ins_pred)}')\n",
    "    print('--')\n",
    "    print(f'base0  precision = {precision_score(y_test, y_base0)}')\n",
    "    print(f'base  precision = {precision_score(y_test, y_base)}')\n",
    "    print(f'test  precision = {precision_score(y_test, y_outs_pred)}')\n",
    "    print(f'train precision = {precision_score(y_train, y_ins_pred)}')\n",
    "    print('--')\n",
    "    print(f'base  ROC-AUC = {roc_auc_score(y_test, y_base)}')\n",
    "    print(f'test  ROC-AUC = {roc_auc_score(y_test, y_outs_pred)}')\n",
    "    print(f'train ROC-AUC = {roc_auc_score(y_train, y_ins_pred)}')\n",
    "    print('--')\n",
    "    print(f'base  accuracy = {accuracy_score(y_test, y_base)}')\n",
    "    print(f'test  accuracy = {accuracy_score(y_test, y_outs_pred)}')\n",
    "    print(f'train accuracy = {accuracy_score(y_train, y_ins_pred)}')\n",
    "    print('--')\n",
    "    print(f'base  log_loss = {log_loss(y_test, y_base)}')\n",
    "    print(f'test  log_loss = {log_loss(y_test, y_outs_pred_p)}')\n",
    "    print(f'train log_loss = {log_loss(y_train, y_ins_pred_p)}')\n",
    "    print('--')\n",
    "    print(f'base  TNR = {TNR(y_test, y_base)}')\n",
    "    print(f'test  TNR = {TNR(y_test, y_outs_pred)}')\n",
    "    print(f'train TNR = {TNR(y_train, y_ins_pred)}')\n",
    "    \n",
    "\n",
    "    print('--')\n",
    "    cm = pd.DataFrame(confusion_matrix(y_test, y_outs_pred), \n",
    "                 index=[['actual', 'actual'], ['neg', 'pos']], \n",
    "                 columns=[['predicted', 'predicted'], ['neg', 'pos']])\n",
    "    print('confusion matrix of test')\n",
    "    display(cm)\n",
    "    print('--')\n",
    "    print(classification_report(y_test, y_outs_pred)) \n",
    "    \n",
    "    base_fpr, base_tpr, base_tresh = roc_curve(y_test, y_base)\n",
    "    test_fpr, test_tpr, test_tresh = roc_curve(y_test, y_outs_pred_p)\n",
    "    train_fpr, train_tpr, train_tresh = roc_curve(y_train, y_ins_pred_p)\n",
    "    plt.plot(base_fpr, base_tpr, 'b', label = 'baseline')\n",
    "    plt.plot(test_fpr, test_tpr, 'r', label = 'model-test')\n",
    "    plt.plot(train_fpr, train_tpr, 'g', label = 'model-train')\n",
    "    plt.plot(train_fpr, train_tresh, 'k--', label = 'thresh')\n",
    "    print(len(train_tresh))\n",
    "    plt.legend();\n",
    "    plt.xlabel('False Positive Rate'); \n",
    "    plt.ylabel('True Positive Rate'); plt.title('ROC Curves');\n",
    "    plt.show();"
   ]
  },
  {
   "cell_type": "markdown",
   "metadata": {},
   "source": [
    "### Model Performance Overview function - short"
   ]
  },
  {
   "cell_type": "code",
   "execution_count": 6,
   "metadata": {},
   "outputs": [],
   "source": [
    "def Model_Vali_short(m, X_train, X_test, y_train, y_test, thres=0.5, cm_print=False):\n",
    "    y_ins_pred= m.predict(X_train)\n",
    "    y_outs_pred= m.predict(X_test)\n",
    "    y_base = np.ones(len(X_test))\n",
    "    y_base0 = np.zeros(len(X_test))\n",
    "    try:\n",
    "        y_ins_pred_p= m.predict_proba(X_train)[:, 1]\n",
    "        y_outs_pred_p= m.predict_proba(X_test)[:, 1]\n",
    "        if thres!=0.5:\n",
    "\n",
    "            y_ins_pred = [1. if e > thres else 0. for e in y_ins_pred_p]\n",
    "            y_outs_pred = [1. if e > thres else 0. for e in y_outs_pred_p]\n",
    "    except:\n",
    "        y_ins_pred_p= y_ins_pred\n",
    "        y_outs_pred_p= y_ins_pred \n",
    "        \n",
    "    print(f'base1 log_loss = {log_loss(y_test, y_base)}')\n",
    "    print(f'base0 log_loss = {log_loss(y_test, y_base0)}')\n",
    "    print(f'test  log_loss = {log_loss(y_test, y_outs_pred_p)}')\n",
    "    print(f'train log_loss = {log_loss(y_train, y_ins_pred_p)}')\n",
    "    print('--')\n",
    "    print(f'base1 TNR = {TNR(y_test, y_base)}')\n",
    "    print(f'base0 TNR = {TNR(y_test, y_base0)}')\n",
    "    print(f'test  TNR = {TNR(y_test, y_outs_pred)}')\n",
    "    print(f'train TNR = {TNR(y_train, y_ins_pred)}')\n",
    "    \n",
    "    if cm_print:\n",
    "        cm = pd.DataFrame(confusion_matrix(y_test, y_outs_pred), \n",
    "                 index=[['actual', 'actual'], ['neg', 'pos']], \n",
    "                 columns=[['predicted', 'predicted'], ['neg', 'pos']])\n",
    "        \n",
    "        print('confusion matrix of test')\n",
    "        display(cm)\n",
    "    "
   ]
  },
  {
   "cell_type": "markdown",
   "metadata": {},
   "source": [
    "### Core Score function "
   ]
  },
  {
   "cell_type": "code",
   "execution_count": 7,
   "metadata": {},
   "outputs": [],
   "source": [
    "def TNR(y_true, y_pred):\n",
    "    return confusion_matrix(y_true, y_pred)[0, 0] / \\\n",
    "    (confusion_matrix(y_true, y_pred)[0, 1]+confusion_matrix(y_true, y_pred)[0, 0])\n",
    "\n",
    "def ll(y_true, y_pred):\n",
    "    return log_loss(y_true, y_pred)\n",
    "\n",
    "def special_PPV(y_true, y_pred): \n",
    "    return confusion_matrix(y_true, y_pred)[1, 1] / \\\n",
    "    (confusion_matrix(y_true, y_pred)[0, 1]*100+confusion_matrix(y_true, y_pred)[1, 1])"
   ]
  },
  {
   "cell_type": "markdown",
   "metadata": {},
   "source": [
    "## Preprocessing"
   ]
  },
  {
   "cell_type": "markdown",
   "metadata": {},
   "source": [
    "### feature selection and marking"
   ]
  },
  {
   "cell_type": "code",
   "execution_count": 8,
   "metadata": {},
   "outputs": [],
   "source": [
    "## All possible features\n",
    "x_col_all = [\n",
    "'addr_state',\n",
    "'annual_inc',\n",
    "'dti',\n",
    "'emp_length',\n",
    "'home_ownership',\n",
    "'loan_amnt',\n",
    "'open_acc',\n",
    "'pub_rec',\n",
    "'pub_rec_bankruptcies',\n",
    "'purpose',\n",
    "'term',\n",
    "'verification_status',\n",
    " 'emp_ident']\n",
    "\n",
    "# Target\n",
    "y_col = ['target']\n",
    "\n",
    "## Taken in account features\n",
    "x_col_select = [\n",
    "'dti',\n",
    "'addr_state',\n",
    "'term',\n",
    "'annual_inc',\n",
    "'loan_amnt',\n",
    "'purpose',\n",
    "'pub_rec',\n",
    "'verification_status']\n",
    "x_col_select = x_col_all\n",
    "## Taken in account features\n",
    "df_x = df[x_col_select]\n",
    "df_y = df[y_col]"
   ]
  },
  {
   "cell_type": "code",
   "execution_count": 9,
   "metadata": {},
   "outputs": [
    {
     "data": {
      "text/plain": [
       "0.0    36562\n",
       "1.0     2052\n",
       "2.0       59\n",
       "3.0       10\n",
       "4.0        2\n",
       "5.0        1\n",
       "Name: pub_rec, dtype: int64"
      ]
     },
     "execution_count": 9,
     "metadata": {},
     "output_type": "execute_result"
    }
   ],
   "source": [
    "df.pub_rec.value_counts()"
   ]
  },
  {
   "cell_type": "markdown",
   "metadata": {},
   "source": [
    "### Encoding - dummy cration"
   ]
  },
  {
   "cell_type": "code",
   "execution_count": 10,
   "metadata": {
    "scrolled": true
   },
   "outputs": [
    {
     "name": "stdout",
     "output_type": "stream",
     "text": [
      "<class 'pandas.core.frame.DataFrame'>\n",
      "Int64Index: 38686 entries, 1 to 42474\n",
      "Data columns (total 79 columns):\n",
      "annual_inc                             38686 non-null float64\n",
      "dti                                    38686 non-null float64\n",
      "emp_length                             38686 non-null float64\n",
      "loan_amnt                              38686 non-null float64\n",
      "open_acc                               38686 non-null float64\n",
      "pub_rec                                38686 non-null float64\n",
      "pub_rec_bankruptcies                   38686 non-null int64\n",
      "addr_state_AL                          38686 non-null uint8\n",
      "addr_state_AR                          38686 non-null uint8\n",
      "addr_state_AZ                          38686 non-null uint8\n",
      "addr_state_CA                          38686 non-null uint8\n",
      "addr_state_CO                          38686 non-null uint8\n",
      "addr_state_CT                          38686 non-null uint8\n",
      "addr_state_DC                          38686 non-null uint8\n",
      "addr_state_DE                          38686 non-null uint8\n",
      "addr_state_FL                          38686 non-null uint8\n",
      "addr_state_GA                          38686 non-null uint8\n",
      "addr_state_HI                          38686 non-null uint8\n",
      "addr_state_IA                          38686 non-null uint8\n",
      "addr_state_ID                          38686 non-null uint8\n",
      "addr_state_IL                          38686 non-null uint8\n",
      "addr_state_IN                          38686 non-null uint8\n",
      "addr_state_KS                          38686 non-null uint8\n",
      "addr_state_KY                          38686 non-null uint8\n",
      "addr_state_LA                          38686 non-null uint8\n",
      "addr_state_MA                          38686 non-null uint8\n",
      "addr_state_MD                          38686 non-null uint8\n",
      "addr_state_ME                          38686 non-null uint8\n",
      "addr_state_MI                          38686 non-null uint8\n",
      "addr_state_MN                          38686 non-null uint8\n",
      "addr_state_MO                          38686 non-null uint8\n",
      "addr_state_MS                          38686 non-null uint8\n",
      "addr_state_MT                          38686 non-null uint8\n",
      "addr_state_NC                          38686 non-null uint8\n",
      "addr_state_NE                          38686 non-null uint8\n",
      "addr_state_NH                          38686 non-null uint8\n",
      "addr_state_NJ                          38686 non-null uint8\n",
      "addr_state_NM                          38686 non-null uint8\n",
      "addr_state_NV                          38686 non-null uint8\n",
      "addr_state_NY                          38686 non-null uint8\n",
      "addr_state_OH                          38686 non-null uint8\n",
      "addr_state_OK                          38686 non-null uint8\n",
      "addr_state_OR                          38686 non-null uint8\n",
      "addr_state_PA                          38686 non-null uint8\n",
      "addr_state_RI                          38686 non-null uint8\n",
      "addr_state_SC                          38686 non-null uint8\n",
      "addr_state_SD                          38686 non-null uint8\n",
      "addr_state_TN                          38686 non-null uint8\n",
      "addr_state_TX                          38686 non-null uint8\n",
      "addr_state_UT                          38686 non-null uint8\n",
      "addr_state_VA                          38686 non-null uint8\n",
      "addr_state_VT                          38686 non-null uint8\n",
      "addr_state_WA                          38686 non-null uint8\n",
      "addr_state_WI                          38686 non-null uint8\n",
      "addr_state_WV                          38686 non-null uint8\n",
      "addr_state_WY                          38686 non-null uint8\n",
      "home_ownership_OWN                     38686 non-null uint8\n",
      "home_ownership_RENT                    38686 non-null uint8\n",
      "purpose_credit_card                    38686 non-null uint8\n",
      "purpose_debt_consolidation             38686 non-null uint8\n",
      "purpose_educational                    38686 non-null uint8\n",
      "purpose_home_improvement               38686 non-null uint8\n",
      "purpose_house                          38686 non-null uint8\n",
      "purpose_major_purchase                 38686 non-null uint8\n",
      "purpose_medical                        38686 non-null uint8\n",
      "purpose_moving                         38686 non-null uint8\n",
      "purpose_other                          38686 non-null uint8\n",
      "purpose_renewable_energy               38686 non-null uint8\n",
      "purpose_small_business                 38686 non-null uint8\n",
      "purpose_vacation                       38686 non-null uint8\n",
      "purpose_wedding                        38686 non-null uint8\n",
      "term_60m                               38686 non-null uint8\n",
      "verification_status_Source Verified    38686 non-null uint8\n",
      "verification_status_Verified           38686 non-null uint8\n",
      "emp_ident_bank                         38686 non-null uint8\n",
      "emp_ident_known_company                38686 non-null uint8\n",
      "emp_ident_puplic                       38686 non-null uint8\n",
      "emp_ident_self_emp                     38686 non-null uint8\n",
      "emp_ident_unknown                      38686 non-null uint8\n",
      "dtypes: float64(6), int64(1), uint8(72)\n",
      "memory usage: 5.0 MB\n"
     ]
    }
   ],
   "source": [
    "df_x_encoded = pd.get_dummies(df_x, drop_first=True)\n",
    "#for i in df_x_encoded.columns:\n",
    "#    print(i)\n",
    "df_x_encoded.info()"
   ]
  },
  {
   "cell_type": "markdown",
   "metadata": {},
   "source": [
    "### Toggel the truth"
   ]
  },
  {
   "cell_type": "code",
   "execution_count": 11,
   "metadata": {},
   "outputs": [],
   "source": [
    "df_y = ~df_y.astype('bool')\n",
    "df_y = df_y.astype('float')"
   ]
  },
  {
   "cell_type": "markdown",
   "metadata": {},
   "source": [
    "### Train Test Split"
   ]
  },
  {
   "cell_type": "code",
   "execution_count": 12,
   "metadata": {},
   "outputs": [
    {
     "data": {
      "text/html": [
       "<div>\n",
       "<style scoped>\n",
       "    .dataframe tbody tr th:only-of-type {\n",
       "        vertical-align: middle;\n",
       "    }\n",
       "\n",
       "    .dataframe tbody tr th {\n",
       "        vertical-align: top;\n",
       "    }\n",
       "\n",
       "    .dataframe thead th {\n",
       "        text-align: right;\n",
       "    }\n",
       "</style>\n",
       "<table border=\"1\" class=\"dataframe\">\n",
       "  <thead>\n",
       "    <tr style=\"text-align: right;\">\n",
       "      <th></th>\n",
       "      <th>train</th>\n",
       "      <th>test</th>\n",
       "      <th>all</th>\n",
       "    </tr>\n",
       "  </thead>\n",
       "  <tbody>\n",
       "    <tr>\n",
       "      <th>0.0</th>\n",
       "      <td>0.849778</td>\n",
       "      <td>0.849733</td>\n",
       "      <td>0.849765</td>\n",
       "    </tr>\n",
       "    <tr>\n",
       "      <th>1.0</th>\n",
       "      <td>0.150222</td>\n",
       "      <td>0.150267</td>\n",
       "      <td>0.150235</td>\n",
       "    </tr>\n",
       "  </tbody>\n",
       "</table>\n",
       "</div>"
      ],
      "text/plain": [
       "        train      test       all\n",
       "0.0  0.849778  0.849733  0.849765\n",
       "1.0  0.150222  0.150267  0.150235"
      ]
     },
     "execution_count": 12,
     "metadata": {},
     "output_type": "execute_result"
    },
    {
     "data": {
      "image/png": "[encoded data removed]",
      "text/plain": [
       "<Figure size 432x288 with 1 Axes>"
      ]
     },
     "metadata": {},
     "output_type": "display_data"
    }
   ],
   "source": [
    "X_train, X_test, y_train, y_test = train_test_split(\n",
    "    df_x_encoded, df_y, test_size=0.3, random_state=25, stratify=df_y)\n",
    "\n",
    "df_y.target.plot.hist()\n",
    "y_train.target.plot.hist()\n",
    "y_test.target.plot.hist()\n",
    "plt.legend(['all','train','test'])\n",
    "tts_df = pd.DataFrame()\n",
    "tts_df['train'] = (y_train.target.value_counts()/y_train.shape[0])\n",
    "tts_df['test'] = (y_test.target.value_counts()/y_test.shape[0])\n",
    "tts_df['all'] = (df_y.target.value_counts()/df_y.shape[0])\n",
    "tts_df"
   ]
  },
  {
   "cell_type": "markdown",
   "metadata": {},
   "source": [
    "### Transform and Scaling Pipline"
   ]
  },
  {
   "cell_type": "markdown",
   "metadata": {},
   "source": [
    "#### simple preproc pipline"
   ]
  },
  {
   "cell_type": "code",
   "execution_count": 13,
   "metadata": {},
   "outputs": [],
   "source": [
    "preprocess_pipeline_1 = make_pipeline(\n",
    "    ColumnSelector(columns=df_x_encoded.columns),\n",
    "    FeatureUnion(transformer_list=[\n",
    "        (\"numeric_features\", make_pipeline(\n",
    "            TypeSelector('float64'),\n",
    "            StandardScaler()\n",
    "        )),\n",
    "        (\"bool_features\", make_pipeline(\n",
    "            TypeSelector('int64'),\n",
    "        )),\n",
    "        (\"dummy_features\", make_pipeline(\n",
    "            TypeSelector('uint8'),\n",
    "        )),\n",
    "    ]))"
   ]
  },
  {
   "cell_type": "markdown",
   "metadata": {},
   "source": [
    "#### indvitual tranform pipline"
   ]
  },
  {
   "cell_type": "code",
   "execution_count": 14,
   "metadata": {},
   "outputs": [
    {
     "name": "stdout",
     "output_type": "stream",
     "text": [
      "Index(['annual_inc', 'dti', 'emp_length', 'loan_amnt', 'open_acc', 'pub_rec'], dtype='object')\n",
      "Index(['pub_rec_bankruptcies'], dtype='object')\n"
     ]
    }
   ],
   "source": [
    "# print the scalabels \n",
    "print(df_x_encoded.select_dtypes('float').columns)\n",
    "print(df_x_encoded.select_dtypes('int64').columns)"
   ]
  },
  {
   "cell_type": "code",
   "execution_count": 15,
   "metadata": {},
   "outputs": [],
   "source": [
    "preprocess_pipeline_2 = make_pipeline(\n",
    "    ColumnSelector(columns=df_x_encoded.columns),\n",
    "    FeatureUnion(transformer_list= [\n",
    "        (\"sel_1\",\n",
    "        make_pipeline(ColumnSelector(columns=['dti' , 'loan_amnt']),\n",
    "                     FunctionTransformer(lambda x:x),\n",
    "                     StandardScaler()\n",
    "                     )),\n",
    "        (\"sel_2\",\n",
    "        make_pipeline(ColumnSelector(columns=['annual_inc']),\n",
    "                     FunctionTransformer(np.log),\n",
    "                     MinMaxScaler()\n",
    "                     )),\n",
    "        (\"sel_3\",\n",
    "        make_pipeline(ColumnSelector(columns=['pub_rec' , 'emp_length', 'open_acc']),\n",
    "                     FunctionTransformer(lambda x:x),\n",
    "                     MinMaxScaler()\n",
    "                     )),\n",
    "        (\"bool_features\", \n",
    "            make_pipeline(TypeSelector('int64'),\n",
    "        )),\n",
    "        (\"dummy_features\", \n",
    "             make_pipeline(TypeSelector('uint8'),\n",
    "        )),\n",
    "        ])\n",
    "        )"
   ]
  },
  {
   "cell_type": "code",
   "execution_count": 16,
   "metadata": {},
   "outputs": [
    {
     "name": "stdout",
     "output_type": "stream",
     "text": [
      "(27080, 79)\n",
      "(27080, 79)\n"
     ]
    }
   ],
   "source": [
    "t =preprocess_pipeline_2.fit_transform(X_train)\n",
    "print(t.shape)\n",
    "print(X_train.shape)"
   ]
  },
  {
   "cell_type": "markdown",
   "metadata": {},
   "source": [
    "## Different Models"
   ]
  },
  {
   "cell_type": "markdown",
   "metadata": {},
   "source": [
    "### Baseline: Logistics Regression"
   ]
  },
  {
   "cell_type": "code",
   "execution_count": 30,
   "metadata": {},
   "outputs": [
    {
     "name": "stdout",
     "output_type": "stream",
     "text": [
      "train pred. rate = 0.36665435745937963\n",
      "train truth rate = 0.1502215657311669\n",
      "train truth entropy = 0.42309322351992296\n",
      "train pred. entropy = 0.6571510336513341\n",
      "test  pred. rate = 0.3691194209891435\n",
      "test  truth rate = 0.15026710322247114\n",
      "test  truth entropy = 0.42317212569331447\n",
      "test  pred. entropy = 0.6584853579056409\n",
      "--\n",
      "base  recall = 1.0\n",
      "test  recall = 0.573394495412844\n",
      "train recall = 0.5656342182890856\n",
      "--\n",
      "base0  precision = 0.0\n",
      "base  precision = 0.15026710322247114\n",
      "test  precision = 0.2334267040149393\n",
      "train precision = 0.2317453922852251\n",
      "--\n",
      "base  ROC-AUC = 0.5\n",
      "test  ROC-AUC = 0.6201995798905633\n",
      "train ROC-AUC = 0.6170774950301677\n",
      "--\n",
      "base  accuracy = 0.15026710322247114\n",
      "test  accuracy = 0.6529381354471825\n",
      "train accuracy = 0.6530649926144756\n",
      "--\n",
      "base  log_loss = 29.349413961439407\n",
      "test  log_loss = 0.6503867275177484\n",
      "train log_loss = 0.651238486930639\n",
      "--\n",
      "base  TNR = 0.0\n",
      "test  TNR = 0.6670046643682823\n"
     ]
    },
    {
     "name": "stderr",
     "output_type": "stream",
     "text": [
      "/Users/arnescheunemann/opt/anaconda3/envs/nf2/lib/python3.6/site-packages/sklearn/metrics/_classification.py:1272: UndefinedMetricWarning: Precision is ill-defined and being set to 0.0 due to no predicted samples. Use `zero_division` parameter to control this behavior.\n",
      "  _warn_prf(average, modifier, msg_start, len(result))\n"
     ]
    },
    {
     "name": "stdout",
     "output_type": "stream",
     "text": [
      "train TNR = 0.6685207717712498\n",
      "--\n",
      "confusion matrix of test\n"
     ]
    },
    {
     "data": {
      "text/html": [
       "<div>\n",
       "<style scoped>\n",
       "    .dataframe tbody tr th:only-of-type {\n",
       "        vertical-align: middle;\n",
       "    }\n",
       "\n",
       "    .dataframe tbody tr th {\n",
       "        vertical-align: top;\n",
       "    }\n",
       "\n",
       "    .dataframe thead tr th {\n",
       "        text-align: left;\n",
       "    }\n",
       "</style>\n",
       "<table border=\"1\" class=\"dataframe\">\n",
       "  <thead>\n",
       "    <tr>\n",
       "      <th></th>\n",
       "      <th></th>\n",
       "      <th colspan=\"2\" halign=\"left\">predicted</th>\n",
       "    </tr>\n",
       "    <tr>\n",
       "      <th></th>\n",
       "      <th></th>\n",
       "      <th>neg</th>\n",
       "      <th>pos</th>\n",
       "    </tr>\n",
       "  </thead>\n",
       "  <tbody>\n",
       "    <tr>\n",
       "      <th rowspan=\"2\" valign=\"top\">actual</th>\n",
       "      <th>neg</th>\n",
       "      <td>6578</td>\n",
       "      <td>3284</td>\n",
       "    </tr>\n",
       "    <tr>\n",
       "      <th>pos</th>\n",
       "      <td>744</td>\n",
       "      <td>1000</td>\n",
       "    </tr>\n",
       "  </tbody>\n",
       "</table>\n",
       "</div>"
      ],
      "text/plain": [
       "           predicted      \n",
       "                 neg   pos\n",
       "actual neg      6578  3284\n",
       "       pos       744  1000"
      ]
     },
     "metadata": {},
     "output_type": "display_data"
    },
    {
     "name": "stdout",
     "output_type": "stream",
     "text": [
      "--\n",
      "              precision    recall  f1-score   support\n",
      "\n",
      "         0.0       0.90      0.67      0.77      9862\n",
      "         1.0       0.23      0.57      0.33      1744\n",
      "\n",
      "    accuracy                           0.65     11606\n",
      "   macro avg       0.57      0.62      0.55     11606\n",
      "weighted avg       0.80      0.65      0.70     11606\n",
      "\n",
      "6622\n"
     ]
    },
    {
     "data": {
      "image/png": "[encoded data removed]",
      "text/plain": [
       "<Figure size 432x288 with 1 Axes>"
      ]
     },
     "metadata": {},
     "output_type": "display_data"
    },
    {
     "name": "stdout",
     "output_type": "stream",
     "text": [
      "#### --- ####\n"
     ]
    }
   ],
   "source": [
    "m1_pipline=Pipeline([('pre',preprocess_pipeline_2), ('M',LogisticRegression(C=0.03, class_weight='balanced' ))])\n",
    "m1_pipline.fit(X_train,y_train.values.ravel())\n",
    "Model_Vali(m1_pipline, X_train, X_test, y_train.values, y_test.values, cm_print= True)\n",
    "print('#### --- ####')\n",
    "#m1_pipline=Pipeline([('pre',preprocess_pipeline_1), ('M',LogisticRegression(C=0.03, class_weight='balanced' ))])\n",
    "#m1_pipline.fit(X_train,y_train.values.ravel())\n",
    "#Model_Vali(m1_pipline, X_train, X_test, y_train, y_test, cm_print= True)"
   ]
  },
  {
   "cell_type": "code",
   "execution_count": 18,
   "metadata": {},
   "outputs": [],
   "source": [
    "### Toggle the truthe\n"
   ]
  },
  {
   "cell_type": "code",
   "execution_count": null,
   "metadata": {},
   "outputs": [],
   "source": []
  }
 ],
 "metadata": {
  "kernelspec": {
   "display_name": "Python [conda env:nf2] *",
   "language": "python",
   "name": "conda-env-nf2-py"
  },
  "language_info": {
   "codemirror_mode": {
    "name": "ipython",
    "version": 3
   },
   "file_extension": ".py",
   "mimetype": "text/x-python",
   "name": "python",
   "nbconvert_exporter": "python",
   "pygments_lexer": "ipython3",
   "version": "3.6.10"
  },
  "toc": {
   "base_numbering": 1,
   "nav_menu": {},
   "number_sections": true,
   "sideBar": true,
   "skip_h1_title": false,
   "title_cell": "Table of Contents",
   "title_sidebar": "Contents",
   "toc_cell": false,
   "toc_position": {
    "height": "calc(100% - 180px)",
    "left": "10px",
    "top": "150px",
    "width": "329.042px"
   },
   "toc_section_display": true,
   "toc_window_display": true
  }
 },
 "nbformat": 4,
 "nbformat_minor": 4
}
