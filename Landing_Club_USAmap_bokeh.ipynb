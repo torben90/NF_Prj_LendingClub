{
 "cells": [
  {
   "cell_type": "code",
   "execution_count": 3,
   "metadata": {},
   "outputs": [],
   "source": [
    "import pandas as pd"
   ]
  },
  {
   "cell_type": "code",
   "execution_count": 7,
   "metadata": {},
   "outputs": [],
   "source": [
    "DATA_FOLDER = './data/'"
   ]
  },
  {
   "cell_type": "code",
   "execution_count": 8,
   "metadata": {},
   "outputs": [],
   "source": [
    "df = pd.read_pickle(DATA_FOLDER + 'clean_pass_01p2_Ptarget_FPemp_ident.pkl')"
   ]
  },
  {
   "cell_type": "code",
   "execution_count": 9,
   "metadata": {},
   "outputs": [],
   "source": [
    "def map_plot(negps, value_name ='value', v2=None  ,v2_name=''):    \n",
    "    from bokeh.io import show\n",
    "    from bokeh.models import LogColorMapper, LinearColorMapper, BasicTicker, ColorBar\n",
    "    from bokeh.palettes import Viridis6 as palette\n",
    "    from bokeh.plotting import figure\n",
    "    from bokeh.sampledata.unemployment import data as unemployment\n",
    "    from bokeh.sampledata.us_states import data as states\n",
    "    \n",
    "    palette = tuple(reversed(palette))\n",
    "    \n",
    "    s = {\n",
    "        s: d for s, d in states.items() if s in negps.index\n",
    "    }\n",
    "    s_xs = [d[\"lons\"] for d in s.values()]\n",
    "    s_ys = [d[\"lats\"] for d in s.values()]\n",
    "    s_names = [states['name'] for states in s.values()]\n",
    "    s_rates = [negps[s] for s,d in states.items() if s in negps.index]\n",
    "    color_mapper = LogColorMapper(palette=palette) # LinearColorMapper(palette=palette)#\n",
    "    \n",
    "    color_bar = ColorBar(color_mapper=color_mapper, ticker= BasicTicker(),\n",
    "                         location=(0,0))\n",
    "    \n",
    "    data=dict(\n",
    "        x=s_xs,\n",
    "        y=s_ys,\n",
    "        name=s_names,\n",
    "        rate=s_rates,\n",
    "    )\n",
    "    \n",
    "    TOOLS = \"pan,box_zoom,reset,hover,save\"\n",
    "    \n",
    "    p = figure(\n",
    "        title=\"Landing Club - State Wise \" + value_name, tools=TOOLS,\n",
    "        x_axis_location=None, y_axis_location=None,\n",
    "        tooltips=[\n",
    "            (\"Name\", \"@name\"), (value_name , \"@rate\"), (\"(Long, Lat)\", \"($x, $y)\")\n",
    "        ])\n",
    "    p.grid.grid_line_color = None\n",
    "    p.hover.point_policy = \"follow_mouse\"\n",
    "    \n",
    "    p.patches('x', 'y', source=data,\n",
    "              fill_color={'field': 'rate', 'transform': color_mapper},\n",
    "              fill_alpha=0.7, line_color=\"white\", line_width=0.5)\n",
    "    \n",
    "    p.add_layout(color_bar, 'right')\n",
    "    #p.text()\n",
    "    show(p)\n"
   ]
  },
  {
   "cell_type": "code",
   "execution_count": 10,
   "metadata": {},
   "outputs": [
    {
     "data": {
      "text/plain": [
       "Index(['loan_amnt', 'funded_amnt', 'funded_amnt_inv', 'term', 'int_rate',\n",
       "       'installment', 'grade', 'sub_grade', 'emp_title', 'emp_length',\n",
       "       'home_ownership', 'annual_inc', 'verification_status', 'issue_d',\n",
       "       'loan_status', 'purpose', 'zip_code', 'addr_state', 'dti',\n",
       "       'delinq_2yrs', 'earliest_cr_line', 'inq_last_6mths', 'open_acc',\n",
       "       'pub_rec', 'revol_bal', 'revol_util', 'total_acc', 'out_prncp',\n",
       "       'out_prncp_inv', 'total_pymnt', 'total_pymnt_inv', 'total_rec_prncp',\n",
       "       'total_rec_int', 'total_rec_late_fee', 'recoveries',\n",
       "       'collection_recovery_fee', 'last_pymnt_amnt', 'last_credit_pull_d',\n",
       "       'pub_rec_bankruptcies', 'has_made_pymnt', 'target', 'emp_ident'],\n",
       "      dtype='object')"
      ]
     },
     "execution_count": 10,
     "metadata": {},
     "output_type": "execute_result"
    }
   ],
   "source": [
    "df.columns"
   ]
  },
  {
   "cell_type": "code",
   "execution_count": 11,
   "metadata": {},
   "outputs": [],
   "source": [
    "\n",
    "gb = df.groupby('addr_state')\n",
    "negps = gb.count().target - gb.sum().target\n",
    "#negps = negps/negps.sum()\n",
    "map_plot(negps, 'charge-off count')"
   ]
  },
  {
   "cell_type": "code",
   "execution_count": 30,
   "metadata": {},
   "outputs": [],
   "source": [
    "negps = (gb.count().target - gb.sum().target) * (1/gb.count().target)\n",
    "#negps = negps/negps.sum()\n",
    "map_plot(negps, 'charge-off rate')"
   ]
  },
  {
   "cell_type": "code",
   "execution_count": 32,
   "metadata": {},
   "outputs": [],
   "source": [
    "negps = gb.count().target\n",
    "#negps = negps/negps.sum()\n",
    "map_plot(negps, 'credit count')"
   ]
  },
  {
   "cell_type": "code",
   "execution_count": 34,
   "metadata": {},
   "outputs": [],
   "source": [
    "negps = gb.mean().loan_amnt \n",
    "#negps = negps/negps.sum()\n",
    "map_plot(negps, 'mean loan amount')"
   ]
  },
  {
   "cell_type": "code",
   "execution_count": null,
   "metadata": {},
   "outputs": [],
   "source": []
  }
 ],
 "metadata": {
  "kernelspec": {
   "display_name": "Python [conda env:nf2] *",
   "language": "python",
   "name": "conda-env-nf2-py"
  },
  "language_info": {
   "codemirror_mode": {
    "name": "ipython",
    "version": 3
   },
   "file_extension": ".py",
   "mimetype": "text/x-python",
   "name": "python",
   "nbconvert_exporter": "python",
   "pygments_lexer": "ipython3",
   "version": "3.6.10"
  },
  "toc": {
   "base_numbering": 1,
   "nav_menu": {},
   "number_sections": true,
   "sideBar": true,
   "skip_h1_title": false,
   "title_cell": "Table of Contents",
   "title_sidebar": "Contents",
   "toc_cell": false,
   "toc_position": {},
   "toc_section_display": true,
   "toc_window_display": false
  }
 },
 "nbformat": 4,
 "nbformat_minor": 4
}
